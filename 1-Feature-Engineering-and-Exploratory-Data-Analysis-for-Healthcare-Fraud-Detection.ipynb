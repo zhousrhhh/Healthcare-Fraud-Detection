{
 "cells": [
  {
   "cell_type": "markdown",
   "id": "a17153df",
   "metadata": {},
   "source": [
    "# Feature Engineering (FE) & Exploratory Data Analysis (EDA) for Healthcare Fraud Detection\n",
    "Author: Shanrong Zhou"
   ]
  },
  {
   "cell_type": "markdown",
   "id": "321f77c2",
   "metadata": {},
   "source": [
    "Roughly one-third of the $3.3T spent on healthcare in the US is attributable to fraud, waste, and abuse. The US Medicare system is particularly susceptible fraud and abuse, since it is harder to exclude problematic providers and is managed separately and with limited coordination across the states. In recent years, machine learning and data mining techniques are being used to address this problem. When constructing a healthcare fraud detection model, it is very important to extract the right features from the data.\n",
    "- Objectives: This report uses a real dataset to conduct the Exploratory Data Analysis (EDA) and Feature Engineering (FE) process for healthcare fraud/abuse detection. The main objective is to create some useful features, that can capture the hospital reimbursement patterns and detect the anomalities. With the anomalities detected, we can further investigate the specific hospital and make alerts to potential fraud/abuse.\n",
    "    * Detect any hospital that may abuse the resources compared to the average or median of its peers with the same DRG and Zipcode.\n",
    "    * Detect any hospital that may abuse the resources compared to the average or median of its peers with the same DRG and City.\n",
    "    * Detect any hospital that may abuse the resources compared to the average or median of its peers with the same DRG and State.\n",
    "- Dataset: The Medicare Inpatient Hospitals by Geography and Service dataset provides information on hospital discharges for Original Medicare Part A beneficiaries by IPPS hospitals. This dataset contains information on the number of discharges, payments, and submitted charges organized by geography and Medicare Severity Diagnosis Related Group (DRG). "
   ]
  },
  {
   "cell_type": "markdown",
   "id": "144d3c5d",
   "metadata": {},
   "source": [
    "# Table of Contents\n",
    "- [Section 1 Data Preparation](#1)\n",
    "    - [1.1 Understanding Data](#11)\n",
    "    - [1.2 Create Data Fields](#12)\n",
    "- [Section 2 Exploratory Data Analysis](#2)\n",
    "    - [2.1 Distribution plots](#21)\n",
    "    - [2.2 Count by state](#22)\n",
    "    - [2.3 Count by top cities](#23)\n",
    "    - [2.4 Count by top hospital referral regions](#24)\n",
    "- [Section 3 Feature Engineering](#3)\n",
    "  - [3.1 Benchmark: DRG & State average/median](#31)\n",
    "      - [3.1.1 Feature 1: The ratio to the average of average medicare payment amount (grouping by DRG & State)](#311)\n",
    "      - [3.1.2 Feature 2: The ratio to the average medicare reimbursement rate (grouping by DRG & State)](#312)\n",
    "      - [3.1.3 Feature 3: The ratio to the median of average medicare payment amount (grouping by DRG & State)](#313)\n",
    "      - [3.1.4 Feature 4: The ratio to the median medicare reimbursement rate (grouping by DRG & State)](#314)\n",
    "  - [3.2 Benchmark: DRG & City average/median](#32)\n",
    "      - [3.2.1 Feature 5: The ratio to the average of average medicare payment amount (grouping by DRG & City)](#321)\n",
    "      - [3.2.2 Feature 6: The ratio to the average medicare reimbursement rate (grouping by DRG & City)](#322)\n",
    "      - [3.2.3 Feature 7: The ratio to the median of average medicare payment amount (grouping by DRG & City)](#323)\n",
    "      - [3.2.4 Feature 8: The ratio to the median medicare reimbursement rate (grouping by DRG & City)](#324)\n",
    "  - [3.3 Benchmark: DRG & Hospital Referral Region average/median](#33)\n",
    "      - [3.3.1 Feature 9: The ratio to the average of average medicare payment amount (grouping by DRG & Hospital Referral Region)](#331)\n",
    "      - [3.3.2 Feature 10: The ratio to the average medicare reimbursement rate (grouping by DRG & Hospital Referral Region)](#332)\n",
    "      - [3.3.3 Feature 11: The ratio to the median of average medicare payment amount (grouping by DRG & Hospital Referral Region)](#333)\n",
    "      - [3.3.4 Feature 12: The ratio to the median medicare reimbursement rate (grouping by DRG & Hospital Referral Region)](#334)\n",
    "- [Section 4 Conclusion](#4)\n",
    "  - [4.1 Combine New Features to Dataset](#41)"
   ]
  },
  {
   "cell_type": "markdown",
   "id": "2530d3ea",
   "metadata": {},
   "source": [
    "## Section 1 Data Preparation <a class=\"anchor\" id=\"1\"></a>"
   ]
  },
  {
   "cell_type": "code",
   "execution_count": 1,
   "id": "d3a0eab9",
   "metadata": {},
   "outputs": [],
   "source": [
    "import pandas as pd\n",
    "import numpy as np\n",
    "import matplotlib.pyplot as plt\n",
    "import seaborn as sns\n",
    "%matplotlib inline"
   ]
  },
  {
   "cell_type": "code",
   "execution_count": 2,
   "id": "c03a068b",
   "metadata": {},
   "outputs": [],
   "source": [
    "path = '/Users/alicezhou/Documents/Columbia/5420 Anomaly Detection/4. Exploratory Data Analysis (EDA)_Industry Case - Healthcare Fraud Detection/Assignment4'\n",
    "data = pd.read_csv(path + '/inpatientCharges.csv')"
   ]
  },
  {
   "cell_type": "markdown",
   "id": "9b944553",
   "metadata": {},
   "source": [
    "###  1.1 Understanding Data <a class=\"anchor\" id=\"11\"></a>"
   ]
  },
  {
   "cell_type": "markdown",
   "id": "03f67eaa",
   "metadata": {},
   "source": [
    "Basic business understandings of the raw data:\n",
    "- Each row is a hospital and it's DRG. The hospital is the healthcare service provider in the Medicare environment. Each of the hospital can serve multiple DRGs.\n",
    "- Here are business interpretation of some data fields, which will help us for better understand the context and analyse the data insights later.\n",
    "    - DRG Definition: Diagnosis Related Group is the classification system that groups similar clinical conditions (diagnoses) and the procedures furnished by the hospital during the stay.\n",
    "    - Hospital Referral Region Description: It is a geographical categorization used to define specific areas in the United States that have similar patterns of healthcare resource use. These regions are defined by the Centers for Medicare and Medicaid Services (CMS) to analyze and compare healthcare utilization and costs across different locations.\n",
    "    - Total Discharges: The number (count) of discharges billed by the provider for inpatient hospital services. It indicates the count of individuals who were admitted to and subsequently released from the provider's care.\n",
    "    - Average Covered Charges: The average amount charged by the healthcare provider for services rendered to patients. It represents the cost of medical procedures and treatments that are typically covered by health insurance plans.\n",
    "    - Average Total Payments (Total Payments / Total Discharges): The average payment received by the healthcare provider for services provided to patients. It includes payments made by insurance companies, patients, and other third-party payers.\n",
    "    - Average Medicare Payment (Medicare Payment Amount / Total Discharges): The average payment made by the Medicare program to the healthcare provider for services rendered to Medicare beneficiaries. It specifically refers to the payments made by the government-funded Medicare insurance program."
   ]
  },
  {
   "cell_type": "code",
   "execution_count": 3,
   "id": "47ce5452",
   "metadata": {
    "scrolled": false
   },
   "outputs": [
    {
     "name": "stdout",
     "output_type": "stream",
     "text": [
      "<class 'pandas.core.frame.DataFrame'>\n",
      "RangeIndex: 163065 entries, 0 to 163064\n",
      "Data columns (total 12 columns):\n",
      " #   Column                                Non-Null Count   Dtype \n",
      "---  ------                                --------------   ----- \n",
      " 0   DRG Definition                        163065 non-null  object\n",
      " 1   Provider Id                           163065 non-null  int64 \n",
      " 2   Provider Name                         163065 non-null  object\n",
      " 3   Provider Street Address               163065 non-null  object\n",
      " 4   Provider City                         163065 non-null  object\n",
      " 5   Provider State                        163065 non-null  object\n",
      " 6   Provider Zip Code                     163065 non-null  int64 \n",
      " 7   Hospital Referral Region Description  163065 non-null  object\n",
      " 8    Total Discharges                     163065 non-null  int64 \n",
      " 9    Average Covered Charges              163065 non-null  object\n",
      " 10   Average Total Payments               163065 non-null  object\n",
      " 11  Average Medicare Payments             163065 non-null  object\n",
      "dtypes: int64(3), object(9)\n",
      "memory usage: 14.9+ MB\n"
     ]
    }
   ],
   "source": [
    "data.info()"
   ]
  },
  {
   "cell_type": "code",
   "execution_count": 4,
   "id": "7d9ae3e0",
   "metadata": {},
   "outputs": [],
   "source": [
    "# rename columns\n",
    "data.columns = ['DRG','Provider_Id', 'Provider_Name','Provider_StreetAddress','Provider_City',\n",
    "               'Provider_State','Provider_Zipcode','Hospital_referral_region_desp',\n",
    "                'Total_Discharges','Average_Covered_Charges','Average_Total_Payments',\n",
    "                'Average_Medicare_Payment']"
   ]
  },
  {
   "cell_type": "markdown",
   "id": "d2c46392",
   "metadata": {},
   "source": [
    "###  1.2 Create Data Fields <a class=\"anchor\" id=\"12\"></a>"
   ]
  },
  {
   "cell_type": "markdown",
   "id": "e55774f1",
   "metadata": {},
   "source": [
    "- To capture hospital's actual usage of Medicare insurance, the average payment made by the Medicare program to the healthcare provider is the essential indicator. Therefore, feature engineering will focus on the \"Average_Medicare_Payments\". \n",
    "- However, since every hospital may have different size and provide specific service with various price, the payment amount may vary a lot. To address this problem, I want to look at the proportion of payment that Medicare program covers in the total payment. Therefore, I created another data field, \"Medicare_Reimburse_Rate\", which is the average medicare reimbursement rate (Average_Medicare_Payment/Average_Total_Payments). This is another focus of feature engineering.\n",
    "- \"Average_Covered_Charges\" will be dropped since it could not provide insights to the actual reimbursement pattern. \n",
    "- I will also change data type and transfer spending amount with dollar sign into numeric."
   ]
  },
  {
   "cell_type": "code",
   "execution_count": 5,
   "id": "401ed963",
   "metadata": {},
   "outputs": [
    {
     "name": "stderr",
     "output_type": "stream",
     "text": [
      "/var/folders/94/_mqchpnd0kv5pd779q9n49jh0000gn/T/ipykernel_4161/751890370.py:9: FutureWarning: The default value of regex will change from True to False in a future version.\n",
      "  data['Average_Total_Payments'] = (data['Average_Total_Payments']\n",
      "/var/folders/94/_mqchpnd0kv5pd779q9n49jh0000gn/T/ipykernel_4161/751890370.py:11: FutureWarning: The default value of regex will change from True to False in a future version.\n",
      "  data['Average_Medicare_Payment'] = (data['Average_Medicare_Payment']\n"
     ]
    }
   ],
   "source": [
    "# Drop Average_Covered_Charges since it's \n",
    "data = data.drop('Average_Covered_Charges',axis=1)\n",
    "\n",
    "# Change data type and transfer spending amount with dollar sign into numeric\n",
    "data['DRG'] = data['DRG'].astype('category')\n",
    "data['Provider_State'] = data['Provider_State'].astype('category')\n",
    "data['Provider_City'] = data['Provider_City'].astype('category')\n",
    "data['Provider_Id'] = data['Provider_Id'].astype('category')\n",
    "data['Average_Total_Payments'] = (data['Average_Total_Payments']\n",
    "                              .str.replace(r'[^-+\\d.]', '').astype(float))\n",
    "data['Average_Medicare_Payment'] = (data['Average_Medicare_Payment']\n",
    "                              .str.replace(r'[^-+\\d.]', '').astype(float))"
   ]
  },
  {
   "cell_type": "code",
   "execution_count": 6,
   "id": "08aea277",
   "metadata": {},
   "outputs": [],
   "source": [
    "# Creating Medicare_Reimburse_Rate for future feature engineering\n",
    "data['Medicare_Reimburse_Rate'] = data['Average_Medicare_Payment']/data['Average_Total_Payments']*100\n",
    "data['Medicare_Reimburse_Rate'] = data['Medicare_Reimburse_Rate'].round(2)"
   ]
  },
  {
   "cell_type": "code",
   "execution_count": 7,
   "id": "ba7fe86a",
   "metadata": {
    "scrolled": false
   },
   "outputs": [
    {
     "name": "stdout",
     "output_type": "stream",
     "text": [
      "<class 'pandas.core.frame.DataFrame'>\n",
      "RangeIndex: 163065 entries, 0 to 163064\n",
      "Data columns (total 12 columns):\n",
      " #   Column                         Non-Null Count   Dtype   \n",
      "---  ------                         --------------   -----   \n",
      " 0   DRG                            163065 non-null  category\n",
      " 1   Provider_Id                    163065 non-null  category\n",
      " 2   Provider_Name                  163065 non-null  object  \n",
      " 3   Provider_StreetAddress         163065 non-null  object  \n",
      " 4   Provider_City                  163065 non-null  category\n",
      " 5   Provider_State                 163065 non-null  category\n",
      " 6   Provider_Zipcode               163065 non-null  int64   \n",
      " 7   Hospital_referral_region_desp  163065 non-null  object  \n",
      " 8   Total_Discharges               163065 non-null  int64   \n",
      " 9   Average_Total_Payments         163065 non-null  float64 \n",
      " 10  Average_Medicare_Payment       163065 non-null  float64 \n",
      " 11  Medicare_Reimburse_Rate        163065 non-null  float64 \n",
      "dtypes: category(4), float64(3), int64(2), object(3)\n",
      "memory usage: 11.1+ MB\n"
     ]
    }
   ],
   "source": [
    "data.info()"
   ]
  },
  {
   "cell_type": "markdown",
   "id": "bbeb44f8",
   "metadata": {},
   "source": [
    "## Section 2 Exploratory Data Analysis <a class=\"anchor\" id=\"2\"></a>"
   ]
  },
  {
   "cell_type": "markdown",
   "id": "7f508bc3",
   "metadata": {},
   "source": [
    "### 2.1 Distribution plots <a class=\"anchor\" id=\"21\"></a>"
   ]
  },
  {
   "cell_type": "markdown",
   "id": "d003f300",
   "metadata": {},
   "source": [
    "The national distribution plots of average total payments, average Medicare payments, and average Medicare payment rates will be shown. "
   ]
  },
  {
   "cell_type": "code",
   "execution_count": 8,
   "id": "ed37c998",
   "metadata": {},
   "outputs": [
    {
     "name": "stdout",
     "output_type": "stream",
     "text": [
      "count    163065.000000\n",
      "mean       9707.473804\n",
      "std        7664.642598\n",
      "min        2673.000000\n",
      "25%        5234.500000\n",
      "50%        7214.100000\n",
      "75%       11286.400000\n",
      "max      156158.180000\n",
      "Name: Average_Total_Payments, dtype: float64\n"
     ]
    },
    {
     "data": {
      "text/plain": [
       "<AxesSubplot:xlabel='Average_Total_Payments', ylabel='Count'>"
      ]
     },
     "execution_count": 8,
     "metadata": {},
     "output_type": "execute_result"
    },
    {
     "data": {
      "image/png": "[encoded data removed]",
      "text/plain": [
       "<Figure size 1000x500 with 1 Axes>"
      ]
     },
     "metadata": {},
     "output_type": "display_data"
    }
   ],
   "source": [
    "# Distribution plot of average total payments \n",
    "print(data['Average_Total_Payments'].describe())\n",
    "plt.figure(figsize=(10,5)) \n",
    "sns.histplot(data['Average_Total_Payments'])"
   ]
  },
  {
   "cell_type": "markdown",
   "id": "4898c5b4",
   "metadata": {},
   "source": [
    "We can see 75% of the charges are under 11,286 dollars, but the highest charge amounts is 156,158 dollars and the lowerst charge amounts is 2,673 dollars. Both of them varies from the mean a lot. The standard deviation (7,664) is close to mean (9,707). This high variation could indicate resource mismanagement or abuse happened in the US healthcare system.\n",
    "The distribution is right skewed, which could suggest that the hospitals with extremely large amounts might have biased charging practices."
   ]
  },
  {
   "cell_type": "code",
   "execution_count": 9,
   "id": "ac305080",
   "metadata": {},
   "outputs": [
    {
     "name": "stdout",
     "output_type": "stream",
     "text": [
      "count    163065.000000\n",
      "mean       8494.490964\n",
      "std        7309.467261\n",
      "min        1148.900000\n",
      "25%        4192.350000\n",
      "50%        6158.460000\n",
      "75%       10056.880000\n",
      "max      154620.810000\n",
      "Name: Average_Medicare_Payment, dtype: float64\n"
     ]
    },
    {
     "data": {
      "text/plain": [
       "<AxesSubplot:xlabel='Average_Medicare_Payment', ylabel='Count'>"
      ]
     },
     "execution_count": 9,
     "metadata": {},
     "output_type": "execute_result"
    },
    {
     "data": {
      "image/png": "[encoded data removed]",
      "text/plain": [
       "<Figure size 1000x500 with 1 Axes>"
      ]
     },
     "metadata": {},
     "output_type": "display_data"
    }
   ],
   "source": [
    "# Distribution plot of average Medicare payments \n",
    "print(data['Average_Medicare_Payment'].describe())\n",
    "plt.figure(figsize=(10,5)) \n",
    "sns.histplot(data['Average_Medicare_Payment'])"
   ]
  },
  {
   "cell_type": "markdown",
   "id": "1dad8794",
   "metadata": {},
   "source": [
    "We can see 75% of the Medicare payments are under 10,057 dollars, but the highest payment amounts is 154,621 dollars and the lowerst payment amounts is 1,149 dollars. Both of them varies from the mean a lot. The standard deviation (7,309) is close to mean (8,494). This high variation could indicate resource mismanagement or abuse happened in Medicare environment.\n",
    "The distribution is right skewed, which could suggest that the hospitals with extremely large amounts might have biased charging or reimbursement practices."
   ]
  },
  {
   "cell_type": "code",
   "execution_count": 10,
   "id": "f1348d6a",
   "metadata": {
    "scrolled": false
   },
   "outputs": [
    {
     "name": "stdout",
     "output_type": "stream",
     "text": [
      "count    163065.000000\n",
      "mean         84.654478\n",
      "std           8.791137\n",
      "min           4.320000\n",
      "25%          79.660000\n",
      "50%          86.020000\n",
      "75%          91.350000\n",
      "max         100.000000\n",
      "Name: Medicare_Reimburse_Rate, dtype: float64\n"
     ]
    },
    {
     "data": {
      "text/plain": [
       "<AxesSubplot:xlabel='Medicare_Reimburse_Rate', ylabel='Count'>"
      ]
     },
     "execution_count": 10,
     "metadata": {},
     "output_type": "execute_result"
    },
    {
     "data": {
      "image/png": "[encoded data removed]",
      "text/plain": [
       "<Figure size 1000x500 with 1 Axes>"
      ]
     },
     "metadata": {},
     "output_type": "display_data"
    }
   ],
   "source": [
    "# Distribution plot of average Medicare reimbursement rate\n",
    "print(data['Medicare_Reimburse_Rate'].describe())\n",
    "plt.figure(figsize=(10,5)) \n",
    "sns.histplot(data['Medicare_Reimburse_Rate'])"
   ]
  },
  {
   "cell_type": "markdown",
   "id": "bcf9ff3e",
   "metadata": {},
   "source": [
    "We can see 75% of the average Medicare reimbursement rate are under 91%, but the highest is 100% and the lowerst is 4%. The distribution is left skewed and the variance is quite low. It shows that most of the claims can be reimbursed by Medicare program in a high reimbursement rate. Some of the hospitals with extremely low reimbursement rate might have obvious problematic claims, or it might suggest inadequate reimbursement or underutilization of resources. However, the high average reimbursement rate is also an alert that the potential loss of abuse and fraud in Medicare environment might have large amount."
   ]
  },
  {
   "cell_type": "markdown",
   "id": "9d2b6d31",
   "metadata": {},
   "source": [
    "### 2.2 Count by State <a class=\"anchor\" id=\"22\"></a>"
   ]
  },
  {
   "cell_type": "markdown",
   "id": "ffb8ce0e",
   "metadata": {},
   "source": [
    "Distribution of the number of hospitals across states can provide some insights to CMS (Federal Centers for Medicare and Medicaid Services), to better manage and allocate healthcare resources across states. "
   ]
  },
  {
   "cell_type": "code",
   "execution_count": 11,
   "id": "ac4e62c8",
   "metadata": {
    "scrolled": true
   },
   "outputs": [
    {
     "data": {
      "image/png": "[encoded data removed]",
      "text/plain": [
       "<Figure size 1500x500 with 1 Axes>"
      ]
     },
     "metadata": {},
     "output_type": "display_data"
    }
   ],
   "source": [
    "plt.figure(figsize=(15,5))\n",
    "sns.countplot(x='Provider_State',data=data,order=data['Provider_State'].value_counts().index)\n",
    "plt.rcParams[\"axes.labelsize\"] = 20"
   ]
  },
  {
   "cell_type": "markdown",
   "id": "d52bfe4a",
   "metadata": {},
   "source": [
    "From this histogram, California, Texas, and Florida has the highest number of hospital divisions participating in Medicare program across the states."
   ]
  },
  {
   "cell_type": "markdown",
   "id": "ee17e3cc",
   "metadata": {},
   "source": [
    "### 2.3 Count of top 20 cities <a class=\"anchor\" id=\"23\"></a>"
   ]
  },
  {
   "cell_type": "markdown",
   "id": "f2ba97e1",
   "metadata": {},
   "source": [
    "Distribution of the number of hospitals across states can provide some insights to CMS (Federal Centers for Medicare and Medicaid Services), to better manage and allocate healthcare resources across cities."
   ]
  },
  {
   "cell_type": "code",
   "execution_count": 12,
   "id": "034c211a",
   "metadata": {
    "scrolled": true
   },
   "outputs": [
    {
     "data": {
      "image/png": "[encoded data removed]",
      "text/plain": [
       "<Figure size 1500x500 with 1 Axes>"
      ]
     },
     "metadata": {},
     "output_type": "display_data"
    }
   ],
   "source": [
    "plt.figure(figsize=(15,5))\n",
    "txt = data['Provider_City'].value_counts()[:20].index\n",
    "\n",
    "chart = sns.countplot(\n",
    "    x='Provider_City' ,data=data , order=txt\n",
    ")\n",
    "\n",
    "_ = chart.set_xticklabels(chart.get_xticklabels(), rotation=45)\n",
    "plt.rcParams[\"axes.labelsize\"] = 10"
   ]
  },
  {
   "cell_type": "markdown",
   "id": "e30e4ccd",
   "metadata": {},
   "source": [
    "From this histogram, Chicago has the highest number of hospital divisions participating in Medicare program across the cities."
   ]
  },
  {
   "cell_type": "markdown",
   "id": "fb2d6329",
   "metadata": {},
   "source": [
    "### 2.4 Count of top 20 hospital referral regions <a class=\"anchor\" id=\"24\"></a>"
   ]
  },
  {
   "cell_type": "markdown",
   "id": "422773d5",
   "metadata": {},
   "source": [
    "Distribution of the number of hospitals across states can provide some insights to CMS (Federal Centers for Medicare and Medicaid Services), to better manage and allocate healthcare resources across hospital referral regions."
   ]
  },
  {
   "cell_type": "code",
   "execution_count": 13,
   "id": "f1b5c256",
   "metadata": {},
   "outputs": [
    {
     "data": {
      "image/png": "[encoded data removed]",
      "text/plain": [
       "<Figure size 1500x500 with 1 Axes>"
      ]
     },
     "metadata": {},
     "output_type": "display_data"
    }
   ],
   "source": [
    "plt.figure(figsize=(15,5))\n",
    "txt = data['Hospital_referral_region_desp'].value_counts()[:20].index\n",
    "\n",
    "chart = sns.countplot(\n",
    "    x='Hospital_referral_region_desp' ,data=data , order=txt\n",
    ")\n",
    "\n",
    "_ = chart.set_xticklabels(chart.get_xticklabels(), rotation=45)\n",
    "plt.rcParams[\"axes.labelsize\"] = 10"
   ]
  },
  {
   "cell_type": "markdown",
   "id": "756f1c39",
   "metadata": {},
   "source": [
    "From this histogram, Los Angeles has the highest number of hospital divisions participating in Medicare program across the hospital referral regions."
   ]
  },
  {
   "cell_type": "markdown",
   "id": "005957b1",
   "metadata": {},
   "source": [
    "## Section 3 Feature Engineering <a class=\"anchor\" id=\"3\"></a>\n",
    "Based on the business understandings and exploratory data analysis stated above, I decided to start the feature engineering process with benchmarking. There are 3 steps for creating each new feature:\n",
    "1. Group hospitals the by diagnosis (DRG) and geographical (state, city, or hospital referral region) categorization.\n",
    "2. Calculate the average or median of the defined hospital group's Medicare payment amount or reimbursement rate as the benchmark for single hospital comparison. \n",
    "3. Create new feature to reflect the comparison directly (eg. ratio of each hospital to the average or median of the defined hospital group). "
   ]
  },
  {
   "cell_type": "markdown",
   "id": "3ae8451e",
   "metadata": {},
   "source": [
    "This method tells the hospital reimbursement pattern of a defined hospital group. By selecting the hospitals that deviated a lot from the benchmark, we can define them as anomalies for further investigation, in order to detect potential healthcare resource abuse/fraud. "
   ]
  },
  {
   "cell_type": "markdown",
   "id": "255e7f27",
   "metadata": {},
   "source": [
    "###  3.1 Benchmark: DRG & State average/median <a class=\"anchor\" id=\"31\"></a>\n",
    "Hospitals are grouped by DRG & State."
   ]
  },
  {
   "cell_type": "markdown",
   "id": "2cddd118",
   "metadata": {},
   "source": [
    "####  3.1.1 Feature 1: The ratio to the average of average medicare payment amount (grouping by DRG & State) <a class=\"anchor\" id=\"311\"></a>"
   ]
  },
  {
   "cell_type": "markdown",
   "id": "60ef122a",
   "metadata": {},
   "source": [
    "- The defined hospital group's average of average medicare payment amount is used as benchmark for anomaly detection. \n",
    "- The ratio of each hospital to the group average is calculated as the new feature. \n",
    "- To better look at the distribution of the ratios, I cut them into different groups by percentile, and then use a histogram to visualize the distribution."
   ]
  },
  {
   "cell_type": "code",
   "execution_count": 14,
   "id": "f613c9c8",
   "metadata": {},
   "outputs": [
    {
     "data": {
      "text/html": [
       "<div>\n",
       "<style scoped>\n",
       "    .dataframe tbody tr th:only-of-type {\n",
       "        vertical-align: middle;\n",
       "    }\n",
       "\n",
       "    .dataframe tbody tr th {\n",
       "        vertical-align: top;\n",
       "    }\n",
       "\n",
       "    .dataframe thead th {\n",
       "        text-align: right;\n",
       "    }\n",
       "</style>\n",
       "<table border=\"1\" class=\"dataframe\">\n",
       "  <thead>\n",
       "    <tr style=\"text-align: right;\">\n",
       "      <th></th>\n",
       "      <th>Provider_State</th>\n",
       "      <th>DRG</th>\n",
       "      <th>Avg_Payment_ByStateDRG</th>\n",
       "    </tr>\n",
       "  </thead>\n",
       "  <tbody>\n",
       "    <tr>\n",
       "      <th>0</th>\n",
       "      <td>AK</td>\n",
       "      <td>039 - EXTRACRANIAL PROCEDURES W/O CC/MCC</td>\n",
       "      <td>8401.950000</td>\n",
       "    </tr>\n",
       "    <tr>\n",
       "      <th>1</th>\n",
       "      <td>AK</td>\n",
       "      <td>057 - DEGENERATIVE NERVOUS SYSTEM DISORDERS W/...</td>\n",
       "      <td>8799.000000</td>\n",
       "    </tr>\n",
       "    <tr>\n",
       "      <th>2</th>\n",
       "      <td>AK</td>\n",
       "      <td>064 - INTRACRANIAL HEMORRHAGE OR CEREBRAL INFA...</td>\n",
       "      <td>21608.010000</td>\n",
       "    </tr>\n",
       "    <tr>\n",
       "      <th>3</th>\n",
       "      <td>AK</td>\n",
       "      <td>065 - INTRACRANIAL HEMORRHAGE OR CEREBRAL INFA...</td>\n",
       "      <td>12555.548333</td>\n",
       "    </tr>\n",
       "    <tr>\n",
       "      <th>4</th>\n",
       "      <td>AK</td>\n",
       "      <td>066 - INTRACRANIAL HEMORRHAGE OR CEREBRAL INFA...</td>\n",
       "      <td>9275.867500</td>\n",
       "    </tr>\n",
       "  </tbody>\n",
       "</table>\n",
       "</div>"
      ],
      "text/plain": [
       "  Provider_State                                                DRG  \\\n",
       "0             AK           039 - EXTRACRANIAL PROCEDURES W/O CC/MCC   \n",
       "1             AK  057 - DEGENERATIVE NERVOUS SYSTEM DISORDERS W/...   \n",
       "2             AK  064 - INTRACRANIAL HEMORRHAGE OR CEREBRAL INFA...   \n",
       "3             AK  065 - INTRACRANIAL HEMORRHAGE OR CEREBRAL INFA...   \n",
       "4             AK  066 - INTRACRANIAL HEMORRHAGE OR CEREBRAL INFA...   \n",
       "\n",
       "   Avg_Payment_ByStateDRG  \n",
       "0             8401.950000  \n",
       "1             8799.000000  \n",
       "2            21608.010000  \n",
       "3            12555.548333  \n",
       "4             9275.867500  "
      ]
     },
     "execution_count": 14,
     "metadata": {},
     "output_type": "execute_result"
    }
   ],
   "source": [
    "# create bencharmark table\n",
    "benchmark1 = data.groupby(['Provider_State','DRG'])['Average_Total_Payments'].mean().reset_index()\n",
    "benchmark1.columns = ['Provider_State','DRG','Avg_Payment_ByStateDRG']\n",
    "benchmark1.head()"
   ]
  },
  {
   "cell_type": "code",
   "execution_count": 15,
   "id": "61cc3d88",
   "metadata": {},
   "outputs": [
    {
     "data": {
      "text/plain": [
       "count    163065.000000\n",
       "mean          0.846842\n",
       "std           0.193528\n",
       "min           0.266055\n",
       "25%           0.725021\n",
       "50%           0.808729\n",
       "75%           0.917944\n",
       "max           4.446219\n",
       "Name: drg_state_avg_ratio_amount, dtype: float64"
      ]
     },
     "execution_count": 15,
     "metadata": {},
     "output_type": "execute_result"
    }
   ],
   "source": [
    "# add the new feature average payment to the dataset \n",
    "data1 = pd.merge(data, benchmark1, how='left', on=['Provider_State', 'DRG'])\n",
    "# Feature 1: ratio of hospital's average medicare payment and the group's average of average medicare payment\n",
    "data1['drg_state_avg_ratio_amount'] = np.where(data1['Avg_Payment_ByStateDRG']==0,0,data1['Average_Medicare_Payment'] / data1['Avg_Payment_ByStateDRG'])\n",
    "data1['drg_state_avg_ratio_amount'].describe()"
   ]
  },
  {
   "cell_type": "code",
   "execution_count": 16,
   "id": "3151730c",
   "metadata": {
    "scrolled": false
   },
   "outputs": [
    {
     "data": {
      "text/html": [
       "<div>\n",
       "<style scoped>\n",
       "    .dataframe tbody tr th:only-of-type {\n",
       "        vertical-align: middle;\n",
       "    }\n",
       "\n",
       "    .dataframe tbody tr th {\n",
       "        vertical-align: top;\n",
       "    }\n",
       "\n",
       "    .dataframe thead th {\n",
       "        text-align: right;\n",
       "    }\n",
       "</style>\n",
       "<table border=\"1\" class=\"dataframe\">\n",
       "  <thead>\n",
       "    <tr style=\"text-align: right;\">\n",
       "      <th></th>\n",
       "      <th>drg_state_avg_ratio_amount_D</th>\n",
       "    </tr>\n",
       "  </thead>\n",
       "  <tbody>\n",
       "    <tr>\n",
       "      <th>0</th>\n",
       "      <td>(0.809, 0.955]</td>\n",
       "    </tr>\n",
       "    <tr>\n",
       "      <th>1</th>\n",
       "      <td>(0.809, 0.955]</td>\n",
       "    </tr>\n",
       "    <tr>\n",
       "      <th>2</th>\n",
       "      <td>(0.706, 0.809]</td>\n",
       "    </tr>\n",
       "    <tr>\n",
       "      <th>3</th>\n",
       "      <td>(0.706, 0.809]</td>\n",
       "    </tr>\n",
       "    <tr>\n",
       "      <th>4</th>\n",
       "      <td>(0.809, 0.955]</td>\n",
       "    </tr>\n",
       "    <tr>\n",
       "      <th>...</th>\n",
       "      <td>...</td>\n",
       "    </tr>\n",
       "    <tr>\n",
       "      <th>163060</th>\n",
       "      <td>(0.618, 0.706]</td>\n",
       "    </tr>\n",
       "    <tr>\n",
       "      <th>163061</th>\n",
       "      <td>(0.544, 0.618]</td>\n",
       "    </tr>\n",
       "    <tr>\n",
       "      <th>163062</th>\n",
       "      <td>(0.809, 0.955]</td>\n",
       "    </tr>\n",
       "    <tr>\n",
       "      <th>163063</th>\n",
       "      <td>(1.228, 1.505]</td>\n",
       "    </tr>\n",
       "    <tr>\n",
       "      <th>163064</th>\n",
       "      <td>(0.618, 0.706]</td>\n",
       "    </tr>\n",
       "  </tbody>\n",
       "</table>\n",
       "<p>163065 rows × 1 columns</p>\n",
       "</div>"
      ],
      "text/plain": [
       "       drg_state_avg_ratio_amount_D\n",
       "0                    (0.809, 0.955]\n",
       "1                    (0.809, 0.955]\n",
       "2                    (0.706, 0.809]\n",
       "3                    (0.706, 0.809]\n",
       "4                    (0.809, 0.955]\n",
       "...                             ...\n",
       "163060               (0.618, 0.706]\n",
       "163061               (0.544, 0.618]\n",
       "163062               (0.809, 0.955]\n",
       "163063               (1.228, 1.505]\n",
       "163064               (0.618, 0.706]\n",
       "\n",
       "[163065 rows x 1 columns]"
      ]
     },
     "execution_count": 16,
     "metadata": {},
     "output_type": "execute_result"
    }
   ],
   "source": [
    "# cut by percentile for plotting\n",
    "var = 'drg_state_avg_ratio_amount'\n",
    "binned_var = var + '_D'\n",
    "percentile = [0,0.01,0.05,0.2,0.5,0.8,0.95,0.99,1]\n",
    "data1[binned_var] = pd.qcut(data1[var],percentile, duplicates = 'drop')\n",
    "data1[['drg_state_avg_ratio_amount_D']]"
   ]
  },
  {
   "cell_type": "code",
   "execution_count": 17,
   "id": "2806c6a4",
   "metadata": {
    "scrolled": false
   },
   "outputs": [
    {
     "data": {
      "text/plain": [
       "[Text(0, 0, '(0.265, 0.544]'),\n",
       " Text(1, 0, '(0.544, 0.618]'),\n",
       " Text(2, 0, '(0.618, 0.706]'),\n",
       " Text(3, 0, '(0.706, 0.809]'),\n",
       " Text(4, 0, '(0.809, 0.955]'),\n",
       " Text(5, 0, '(0.955, 1.228]'),\n",
       " Text(6, 0, '(1.228, 1.505]'),\n",
       " Text(7, 0, '(1.505, 4.446]')]"
      ]
     },
     "execution_count": 17,
     "metadata": {},
     "output_type": "execute_result"
    },
    {
     "data": {
      "image/png": "[encoded data removed]",
      "text/plain": [
       "<Figure size 600x400 with 1 Axes>"
      ]
     },
     "metadata": {},
     "output_type": "display_data"
    }
   ],
   "source": [
    "# Histogram for comparing ratio of hospital's average medicare payment and the group's average of average medicare payment\n",
    "plt.figure(figsize=(6,4))\n",
    "g = sns.countplot(x=\"drg_state_avg_ratio_amount_D\", data=data1)\n",
    "g.set_xticklabels(g.get_xticklabels(), rotation=90)"
   ]
  },
  {
   "cell_type": "markdown",
   "id": "86088d24",
   "metadata": {},
   "source": [
    "- The distribution histogram shows most of the hospitals' average Medicare payment amounts are around the group's average, compared to the similar hospitals serving same DRG in the same state.\n",
    "- From the above distribution histogram, we can see that some hospitals' average Medicare payment amounts can be more than 4 times of the group's average, and their frequencies are extremely low. Therefore, we should identify these hospitals as anomalies. Same diagnosis should be treated with similar treatments, which are within a similar range of prices. The extremely high reimbursement amounts may indicate potential healthcare resources abuse or fraud, including excessive or unnecessary services, upcoding, unbundling, phantom billing, duplicate billing and kickbacks. \n",
    "- Some hospitals' average Medicare payment amounts can be less than 30% of the group's average. It could due to the coverage of other insurance programs. However, it can also indicate some potential disparities in resource utilization. For example, some services provided by those hospitals may be necessary but not covered by Medicare. It can also be indicators of problematic claims. \n",
    "- While building the unsupervised machine learning models for better detection, clustering analysis of this feature can be considered to highlight similar (specialization and size) hospitals and identify outlier hospitals for further analysis. Link analysis of this feature can help detect excessive or unnecessary services within and across hospital groups.\n",
    "- I am going to have an initial investigation on the hospitals identified as anomalies."
   ]
  },
  {
   "cell_type": "code",
   "execution_count": 18,
   "id": "4aba45d9",
   "metadata": {
    "scrolled": true
   },
   "outputs": [
    {
     "data": {
      "text/html": [
       "<div>\n",
       "<style scoped>\n",
       "    .dataframe tbody tr th:only-of-type {\n",
       "        vertical-align: middle;\n",
       "    }\n",
       "\n",
       "    .dataframe tbody tr th {\n",
       "        vertical-align: top;\n",
       "    }\n",
       "\n",
       "    .dataframe thead th {\n",
       "        text-align: right;\n",
       "    }\n",
       "</style>\n",
       "<table border=\"1\" class=\"dataframe\">\n",
       "  <thead>\n",
       "    <tr style=\"text-align: right;\">\n",
       "      <th></th>\n",
       "      <th>DRG</th>\n",
       "      <th>Provider_Id</th>\n",
       "      <th>Provider_Name</th>\n",
       "      <th>Provider_StreetAddress</th>\n",
       "      <th>Provider_City</th>\n",
       "      <th>Provider_State</th>\n",
       "      <th>Provider_Zipcode</th>\n",
       "      <th>Hospital_referral_region_desp</th>\n",
       "      <th>Total_Discharges</th>\n",
       "      <th>Average_Total_Payments</th>\n",
       "      <th>Average_Medicare_Payment</th>\n",
       "      <th>Medicare_Reimburse_Rate</th>\n",
       "      <th>Avg_Payment_ByStateDRG</th>\n",
       "      <th>drg_state_avg_ratio_amount</th>\n",
       "      <th>drg_state_avg_ratio_amount_D</th>\n",
       "    </tr>\n",
       "  </thead>\n",
       "  <tbody>\n",
       "    <tr>\n",
       "      <th>37716</th>\n",
       "      <td>202 - BRONCHITIS &amp; ASTHMA W CC/MCC</td>\n",
       "      <td>210009</td>\n",
       "      <td>JOHNS HOPKINS HOSPITAL, THE</td>\n",
       "      <td>600 NORTH  WOLFE STREET</td>\n",
       "      <td>BALTIMORE</td>\n",
       "      <td>MD</td>\n",
       "      <td>21287</td>\n",
       "      <td>MD - Baltimore</td>\n",
       "      <td>17</td>\n",
       "      <td>41458.47</td>\n",
       "      <td>37236.00</td>\n",
       "      <td>89.82</td>\n",
       "      <td>8374.755758</td>\n",
       "      <td>4.446219</td>\n",
       "      <td>(1.505, 4.446]</td>\n",
       "    </tr>\n",
       "    <tr>\n",
       "      <th>109462</th>\n",
       "      <td>460 - SPINAL FUSION EXCEPT CERVICAL W/O MCC</td>\n",
       "      <td>150166</td>\n",
       "      <td>PINNACLE HOSPITAL</td>\n",
       "      <td>9301 CONNECTICUT DR</td>\n",
       "      <td>CROWN POINT</td>\n",
       "      <td>IN</td>\n",
       "      <td>46307</td>\n",
       "      <td>IN - Gary</td>\n",
       "      <td>14</td>\n",
       "      <td>131187.35</td>\n",
       "      <td>130466.57</td>\n",
       "      <td>99.45</td>\n",
       "      <td>29810.952564</td>\n",
       "      <td>4.376464</td>\n",
       "      <td>(1.505, 4.446]</td>\n",
       "    </tr>\n",
       "    <tr>\n",
       "      <th>111075</th>\n",
       "      <td>469 - MAJOR JOINT REPLACEMENT OR REATTACHMENT ...</td>\n",
       "      <td>390256</td>\n",
       "      <td>MILTON S HERSHEY MEDICAL CENTER</td>\n",
       "      <td>500 UNIVERSITY DRIVE</td>\n",
       "      <td>HERSHEY</td>\n",
       "      <td>PA</td>\n",
       "      <td>17033</td>\n",
       "      <td>PA - Harrisburg</td>\n",
       "      <td>15</td>\n",
       "      <td>100018.33</td>\n",
       "      <td>99114.86</td>\n",
       "      <td>99.10</td>\n",
       "      <td>23405.411081</td>\n",
       "      <td>4.234699</td>\n",
       "      <td>(1.505, 4.446]</td>\n",
       "    </tr>\n",
       "  </tbody>\n",
       "</table>\n",
       "</div>"
      ],
      "text/plain": [
       "                                                      DRG Provider_Id  \\\n",
       "37716                  202 - BRONCHITIS & ASTHMA W CC/MCC      210009   \n",
       "109462        460 - SPINAL FUSION EXCEPT CERVICAL W/O MCC      150166   \n",
       "111075  469 - MAJOR JOINT REPLACEMENT OR REATTACHMENT ...      390256   \n",
       "\n",
       "                          Provider_Name   Provider_StreetAddress  \\\n",
       "37716       JOHNS HOPKINS HOSPITAL, THE  600 NORTH  WOLFE STREET   \n",
       "109462                PINNACLE HOSPITAL      9301 CONNECTICUT DR   \n",
       "111075  MILTON S HERSHEY MEDICAL CENTER     500 UNIVERSITY DRIVE   \n",
       "\n",
       "       Provider_City Provider_State  Provider_Zipcode  \\\n",
       "37716      BALTIMORE             MD             21287   \n",
       "109462   CROWN POINT             IN             46307   \n",
       "111075       HERSHEY             PA             17033   \n",
       "\n",
       "       Hospital_referral_region_desp  Total_Discharges  \\\n",
       "37716                 MD - Baltimore                17   \n",
       "109462                     IN - Gary                14   \n",
       "111075               PA - Harrisburg                15   \n",
       "\n",
       "        Average_Total_Payments  Average_Medicare_Payment  \\\n",
       "37716                 41458.47                  37236.00   \n",
       "109462               131187.35                 130466.57   \n",
       "111075               100018.33                  99114.86   \n",
       "\n",
       "        Medicare_Reimburse_Rate  Avg_Payment_ByStateDRG  \\\n",
       "37716                     89.82             8374.755758   \n",
       "109462                    99.45            29810.952564   \n",
       "111075                    99.10            23405.411081   \n",
       "\n",
       "        drg_state_avg_ratio_amount drg_state_avg_ratio_amount_D  \n",
       "37716                     4.446219               (1.505, 4.446]  \n",
       "109462                    4.376464               (1.505, 4.446]  \n",
       "111075                    4.234699               (1.505, 4.446]  "
      ]
     },
     "execution_count": 18,
     "metadata": {},
     "output_type": "execute_result"
    }
   ],
   "source": [
    "data1[data1['drg_state_avg_ratio_amount']>4]"
   ]
  },
  {
   "cell_type": "markdown",
   "id": "f37cf1b2",
   "metadata": {},
   "source": [
    "There are 3 hospitals whose average Medicare payment amounts are more than 4 times of the group's average. All of them are located in different states, and providing different DRG. Therefore, they are less likely to relate to each other. All of them have high reimbursement rates (more than 89%). The reimbursement rates of PINNACLE HOSPITAL and MILTON S HERSHEY MEDICAL CENTER are even higher than 99%. The average payments of their peers, serving same ORG in the same state, are within a normal range. These 3 hospitals' high average Medicare payment amounts can not reasonably be explained, therefore, indeed abnormal. CMS can further invesitage with their transactional claims, including hospital's specialization and size, patient's demographics, type and frequency of drug usage, drug or other healthcare service's supplier, etc. It's important to consider these contextual factors when evaluating potential resource abuse. "
   ]
  },
  {
   "cell_type": "code",
   "execution_count": 19,
   "id": "b720175c",
   "metadata": {},
   "outputs": [
    {
     "data": {
      "text/html": [
       "<div>\n",
       "<style scoped>\n",
       "    .dataframe tbody tr th:only-of-type {\n",
       "        vertical-align: middle;\n",
       "    }\n",
       "\n",
       "    .dataframe tbody tr th {\n",
       "        vertical-align: top;\n",
       "    }\n",
       "\n",
       "    .dataframe thead th {\n",
       "        text-align: right;\n",
       "    }\n",
       "</style>\n",
       "<table border=\"1\" class=\"dataframe\">\n",
       "  <thead>\n",
       "    <tr style=\"text-align: right;\">\n",
       "      <th></th>\n",
       "      <th>DRG</th>\n",
       "      <th>Provider_Id</th>\n",
       "      <th>Provider_Name</th>\n",
       "      <th>Provider_StreetAddress</th>\n",
       "      <th>Provider_City</th>\n",
       "      <th>Provider_State</th>\n",
       "      <th>Provider_Zipcode</th>\n",
       "      <th>Hospital_referral_region_desp</th>\n",
       "      <th>Total_Discharges</th>\n",
       "      <th>Average_Total_Payments</th>\n",
       "      <th>Average_Medicare_Payment</th>\n",
       "      <th>Medicare_Reimburse_Rate</th>\n",
       "      <th>Avg_Payment_ByStateDRG</th>\n",
       "      <th>drg_state_avg_ratio_amount</th>\n",
       "      <th>drg_state_avg_ratio_amount_D</th>\n",
       "    </tr>\n",
       "  </thead>\n",
       "  <tbody>\n",
       "    <tr>\n",
       "      <th>47957</th>\n",
       "      <td>247 - PERC CARDIOVASC PROC W DRUG-ELUTING STEN...</td>\n",
       "      <td>430095</td>\n",
       "      <td>AVERA HEART HOSPITAL OF SOUTH DAKOTA LLC</td>\n",
       "      <td>4500 W 69TH ST</td>\n",
       "      <td>SIOUX FALLS</td>\n",
       "      <td>SD</td>\n",
       "      <td>57108</td>\n",
       "      <td>SD - Sioux Falls</td>\n",
       "      <td>121</td>\n",
       "      <td>83484.14</td>\n",
       "      <td>9316.11</td>\n",
       "      <td>11.16</td>\n",
       "      <td>31166.452500</td>\n",
       "      <td>0.298915</td>\n",
       "      <td>(0.265, 0.544]</td>\n",
       "    </tr>\n",
       "    <tr>\n",
       "      <th>109837</th>\n",
       "      <td>460 - SPINAL FUSION EXCEPT CERVICAL W/O MCC</td>\n",
       "      <td>330286</td>\n",
       "      <td>GOOD SAMARITAN HOSPITAL MEDICAL CENTER</td>\n",
       "      <td>1000 MONTAUK HIGHWAY</td>\n",
       "      <td>WEST ISLIP</td>\n",
       "      <td>NY</td>\n",
       "      <td>11795</td>\n",
       "      <td>NY - East Long Island</td>\n",
       "      <td>12</td>\n",
       "      <td>44431.83</td>\n",
       "      <td>8993.91</td>\n",
       "      <td>20.24</td>\n",
       "      <td>31039.448431</td>\n",
       "      <td>0.289757</td>\n",
       "      <td>(0.265, 0.544]</td>\n",
       "    </tr>\n",
       "    <tr>\n",
       "      <th>111962</th>\n",
       "      <td>470 - MAJOR JOINT REPLACEMENT OR REATTACHMENT ...</td>\n",
       "      <td>120011</td>\n",
       "      <td>KAISER FOUNDATION HOSPITAL</td>\n",
       "      <td>3288 MOANALUA RD</td>\n",
       "      <td>HONOLULU</td>\n",
       "      <td>HI</td>\n",
       "      <td>96819</td>\n",
       "      <td>HI - Honolulu</td>\n",
       "      <td>28</td>\n",
       "      <td>20955.35</td>\n",
       "      <td>5215.00</td>\n",
       "      <td>24.89</td>\n",
       "      <td>19601.224545</td>\n",
       "      <td>0.266055</td>\n",
       "      <td>(0.265, 0.544]</td>\n",
       "    </tr>\n",
       "  </tbody>\n",
       "</table>\n",
       "</div>"
      ],
      "text/plain": [
       "                                                      DRG Provider_Id  \\\n",
       "47957   247 - PERC CARDIOVASC PROC W DRUG-ELUTING STEN...      430095   \n",
       "109837        460 - SPINAL FUSION EXCEPT CERVICAL W/O MCC      330286   \n",
       "111962  470 - MAJOR JOINT REPLACEMENT OR REATTACHMENT ...      120011   \n",
       "\n",
       "                                   Provider_Name Provider_StreetAddress  \\\n",
       "47957   AVERA HEART HOSPITAL OF SOUTH DAKOTA LLC         4500 W 69TH ST   \n",
       "109837    GOOD SAMARITAN HOSPITAL MEDICAL CENTER   1000 MONTAUK HIGHWAY   \n",
       "111962                KAISER FOUNDATION HOSPITAL       3288 MOANALUA RD   \n",
       "\n",
       "       Provider_City Provider_State  Provider_Zipcode  \\\n",
       "47957    SIOUX FALLS             SD             57108   \n",
       "109837    WEST ISLIP             NY             11795   \n",
       "111962      HONOLULU             HI             96819   \n",
       "\n",
       "       Hospital_referral_region_desp  Total_Discharges  \\\n",
       "47957               SD - Sioux Falls               121   \n",
       "109837         NY - East Long Island                12   \n",
       "111962                 HI - Honolulu                28   \n",
       "\n",
       "        Average_Total_Payments  Average_Medicare_Payment  \\\n",
       "47957                 83484.14                   9316.11   \n",
       "109837                44431.83                   8993.91   \n",
       "111962                20955.35                   5215.00   \n",
       "\n",
       "        Medicare_Reimburse_Rate  Avg_Payment_ByStateDRG  \\\n",
       "47957                     11.16            31166.452500   \n",
       "109837                    20.24            31039.448431   \n",
       "111962                    24.89            19601.224545   \n",
       "\n",
       "        drg_state_avg_ratio_amount drg_state_avg_ratio_amount_D  \n",
       "47957                     0.298915               (0.265, 0.544]  \n",
       "109837                    0.289757               (0.265, 0.544]  \n",
       "111962                    0.266055               (0.265, 0.544]  "
      ]
     },
     "execution_count": 19,
     "metadata": {},
     "output_type": "execute_result"
    }
   ],
   "source": [
    "data1[data1['drg_state_avg_ratio_amount']<0.3]"
   ]
  },
  {
   "cell_type": "markdown",
   "id": "2a138d8b",
   "metadata": {},
   "source": [
    "There are 3 hospitals whose average Medicare payment amounts are less than 30% of the group's average. All of them are located in different states, and providing different DRG. Therefore, they are less likely to relate to each other. All of them have very low reimbursement rates (less than 25%). The reimbursement rates of AVERA HEART HOSPITAL OF SOUTH DAKOTA LLC is even less than 12%. The average payments of their peers, serving same ORG in the same state, are within a normal range. These 3 hospitals' low average Medicare payment amounts can not reasonably be explained, therefore, indeed abnormal. CMS can further invesitage with their transactional claims, including hospital's size and specialization, patient's demographics, type and frequency of drug usage, drug or other healthcare service's supplier, etc. It's important to consider these contextual factors when evaluating potential resource underutilization or inadequate reimbursement. "
   ]
  },
  {
   "cell_type": "markdown",
   "id": "1ace31bf",
   "metadata": {},
   "source": [
    "####  3.1.2 Feature 2: The ratio to the average medicare reimbursement rate (grouping by DRG & State) <a class=\"anchor\" id=\"312\"></a>"
   ]
  },
  {
   "cell_type": "markdown",
   "id": "9582c792",
   "metadata": {},
   "source": [
    "- The defined hospital group's average of medicare reimbursement rate is used as benchmark for anomaly detection. \n",
    "- The ratio of each hospital to the group average is calculated as the new feature. \n",
    "- To better look at the distribution of the ratios, I cut them into different groups by percentile, and then use a histogram to visualize the distribution."
   ]
  },
  {
   "cell_type": "code",
   "execution_count": 20,
   "id": "3f4fc570",
   "metadata": {
    "scrolled": false
   },
   "outputs": [
    {
     "data": {
      "text/plain": [
       "[Text(0, 0, '(0.056799999999999996, 0.726]'),\n",
       " Text(1, 0, '(0.726, 0.861]'),\n",
       " Text(2, 0, '(0.861, 0.96]'),\n",
       " Text(3, 0, '(0.96, 1.013]'),\n",
       " Text(4, 0, '(1.013, 1.05]'),\n",
       " Text(5, 0, '(1.05, 1.095]'),\n",
       " Text(6, 0, '(1.095, 1.145]'),\n",
       " Text(7, 0, '(1.145, 1.382]')]"
      ]
     },
     "execution_count": 20,
     "metadata": {},
     "output_type": "execute_result"
    },
    {
     "data": {
      "image/png": "[encoded data removed]",
      "text/plain": [
       "<Figure size 600x400 with 1 Axes>"
      ]
     },
     "metadata": {},
     "output_type": "display_data"
    }
   ],
   "source": [
    "# create bencharmark table\n",
    "benchmark2 = data.groupby(['Provider_State','DRG'])['Medicare_Reimburse_Rate'].mean().reset_index()\n",
    "benchmark2.columns = ['Provider_State','DRG','Avg_Rate_ByStateDRG']\n",
    "# add the new feature to the dataset \n",
    "data2 = pd.merge(data, benchmark2, how='left', on=['Provider_State', 'DRG'])\n",
    "data2['drg_state_avg_ratio_rate'] = np.where(data2['Avg_Rate_ByStateDRG']==0,0,data2['Medicare_Reimburse_Rate'] / data2['Avg_Rate_ByStateDRG'])\n",
    "# cut by percentile for plotting\n",
    "var = 'drg_state_avg_ratio_rate'\n",
    "binned_var = var + '_D'\n",
    "percentile = [0,0.01,0.05,0.2,0.5,0.8,0.95,0.99,1]\n",
    "data2[binned_var] = pd.qcut(data2[var],percentile, duplicates = 'drop')\n",
    "# Histogram of new feature\n",
    "plt.figure(figsize=(6,4))\n",
    "g = sns.countplot(x=\"drg_state_avg_ratio_rate_D\", data=data2)\n",
    "g.set_xticklabels(g.get_xticklabels(), rotation=90)"
   ]
  },
  {
   "cell_type": "markdown",
   "id": "cc031460",
   "metadata": {},
   "source": [
    "- The distribution histogram shows most of the hospitals' average Medicare reimbursement rates are around the group's average, compared to the similar hospitals serving same DRG in the same state. \n",
    "- From the above distribution histogram, we can see that some hospitals' average Medicare reimbursement rates are just more than 1.3 times of the group's average, and their frequencies are extremely low. Therefore, we should identify these hospitals as anomalies. We've discussed in EDA that the national average Medicare reimbursement rate is very high (85%), so the just 30% increase could make the reimbursement rate reaching to 100%, which means all of the hospital's bills are reimbursed by Medicare. Same diagnosis should be treated with similar treatments, which are within the same range of reimbursement rate, according to Medicare's insurance policy. The extremely high reimbursement amounts may indicate potential healthcare resources abuse or fraud, including excessive or unnecessary services, upcoding, unbundling, phantom billing. \n",
    "- Some hospitals' average Medicare reimbursement rates can be less than 20% of the group's average. It could due to the coverage of other insurance programs. However, it can also indicate some potential disparities in resource utilization. For example, some services provided by those hospitals may be necessary but not covered by Medicare. It can also be indicators of problematic claims. \n",
    "- While building the unsupervised machine learning models for better detection, clustering analysis of this feature can be considered to highlight similar (specialization and size) hospitals and identify outlier hospitals for further analysis. Link analysis of this feature can help detect excessive or unnecessary services within and across hospital groups.\n",
    "- I am going to have an initial investigation on the hospitals identified as anomalies."
   ]
  },
  {
   "cell_type": "code",
   "execution_count": 21,
   "id": "3305b72d",
   "metadata": {
    "scrolled": false
   },
   "outputs": [
    {
     "data": {
      "text/html": [
       "<div>\n",
       "<style scoped>\n",
       "    .dataframe tbody tr th:only-of-type {\n",
       "        vertical-align: middle;\n",
       "    }\n",
       "\n",
       "    .dataframe tbody tr th {\n",
       "        vertical-align: top;\n",
       "    }\n",
       "\n",
       "    .dataframe thead th {\n",
       "        text-align: right;\n",
       "    }\n",
       "</style>\n",
       "<table border=\"1\" class=\"dataframe\">\n",
       "  <thead>\n",
       "    <tr style=\"text-align: right;\">\n",
       "      <th></th>\n",
       "      <th>DRG</th>\n",
       "      <th>Provider_Id</th>\n",
       "      <th>Provider_Name</th>\n",
       "      <th>Provider_StreetAddress</th>\n",
       "      <th>Provider_City</th>\n",
       "      <th>Provider_State</th>\n",
       "      <th>Provider_Zipcode</th>\n",
       "      <th>Hospital_referral_region_desp</th>\n",
       "      <th>Total_Discharges</th>\n",
       "      <th>Average_Total_Payments</th>\n",
       "      <th>Average_Medicare_Payment</th>\n",
       "      <th>Medicare_Reimburse_Rate</th>\n",
       "      <th>Avg_Rate_ByStateDRG</th>\n",
       "      <th>drg_state_avg_ratio_rate</th>\n",
       "      <th>drg_state_avg_ratio_rate_D</th>\n",
       "    </tr>\n",
       "  </thead>\n",
       "  <tbody>\n",
       "    <tr>\n",
       "      <th>49791</th>\n",
       "      <td>251 - PERC CARDIOVASC PROC W/O CORONARY ARTERY...</td>\n",
       "      <td>430027</td>\n",
       "      <td>SANFORD USD MEDICAL CENTER</td>\n",
       "      <td>1305 W 18TH ST  PO BOX 5039</td>\n",
       "      <td>SIOUX FALLS</td>\n",
       "      <td>SD</td>\n",
       "      <td>57117</td>\n",
       "      <td>SD - Sioux Falls</td>\n",
       "      <td>44</td>\n",
       "      <td>11301.00</td>\n",
       "      <td>10315.09</td>\n",
       "      <td>91.28</td>\n",
       "      <td>66.203333</td>\n",
       "      <td>1.378783</td>\n",
       "      <td>(1.145, 1.382]</td>\n",
       "    </tr>\n",
       "    <tr>\n",
       "      <th>83428</th>\n",
       "      <td>313 - CHEST PAIN</td>\n",
       "      <td>280111</td>\n",
       "      <td>COLUMBUS COMMUNITY HOSPITAL</td>\n",
       "      <td>4600 38TH ST</td>\n",
       "      <td>COLUMBUS</td>\n",
       "      <td>NE</td>\n",
       "      <td>68601</td>\n",
       "      <td>NE - Omaha</td>\n",
       "      <td>35</td>\n",
       "      <td>4606.42</td>\n",
       "      <td>3864.37</td>\n",
       "      <td>83.89</td>\n",
       "      <td>61.964667</td>\n",
       "      <td>1.353836</td>\n",
       "      <td>(1.145, 1.382]</td>\n",
       "    </tr>\n",
       "    <tr>\n",
       "      <th>108577</th>\n",
       "      <td>439 - DISORDERS OF PANCREAS EXCEPT MALIGNANCY ...</td>\n",
       "      <td>280013</td>\n",
       "      <td>THE NEBRASKA MEDICAL CENTER</td>\n",
       "      <td>987400 NEBRASKA MEDICAL CENTER</td>\n",
       "      <td>OMAHA</td>\n",
       "      <td>NE</td>\n",
       "      <td>68198</td>\n",
       "      <td>NE - Omaha</td>\n",
       "      <td>21</td>\n",
       "      <td>8054.57</td>\n",
       "      <td>6659.09</td>\n",
       "      <td>82.67</td>\n",
       "      <td>59.826667</td>\n",
       "      <td>1.381825</td>\n",
       "      <td>(1.145, 1.382]</td>\n",
       "    </tr>\n",
       "    <tr>\n",
       "      <th>158119</th>\n",
       "      <td>885 - PSYCHOSES</td>\n",
       "      <td>510001</td>\n",
       "      <td>WEST VIRGINIA UNIVERSITY HOSPITALS</td>\n",
       "      <td>MEDICAL CENTER DRIVE</td>\n",
       "      <td>MORGANTOWN</td>\n",
       "      <td>WV</td>\n",
       "      <td>26506</td>\n",
       "      <td>WV - Morgantown</td>\n",
       "      <td>14</td>\n",
       "      <td>7331.28</td>\n",
       "      <td>6929.28</td>\n",
       "      <td>94.52</td>\n",
       "      <td>68.522500</td>\n",
       "      <td>1.379401</td>\n",
       "      <td>(1.145, 1.382]</td>\n",
       "    </tr>\n",
       "  </tbody>\n",
       "</table>\n",
       "</div>"
      ],
      "text/plain": [
       "                                                      DRG Provider_Id  \\\n",
       "49791   251 - PERC CARDIOVASC PROC W/O CORONARY ARTERY...      430027   \n",
       "83428                                    313 - CHEST PAIN      280111   \n",
       "108577  439 - DISORDERS OF PANCREAS EXCEPT MALIGNANCY ...      280013   \n",
       "158119                                    885 - PSYCHOSES      510001   \n",
       "\n",
       "                             Provider_Name          Provider_StreetAddress  \\\n",
       "49791           SANFORD USD MEDICAL CENTER     1305 W 18TH ST  PO BOX 5039   \n",
       "83428          COLUMBUS COMMUNITY HOSPITAL                    4600 38TH ST   \n",
       "108577         THE NEBRASKA MEDICAL CENTER  987400 NEBRASKA MEDICAL CENTER   \n",
       "158119  WEST VIRGINIA UNIVERSITY HOSPITALS            MEDICAL CENTER DRIVE   \n",
       "\n",
       "       Provider_City Provider_State  Provider_Zipcode  \\\n",
       "49791    SIOUX FALLS             SD             57117   \n",
       "83428       COLUMBUS             NE             68601   \n",
       "108577         OMAHA             NE             68198   \n",
       "158119    MORGANTOWN             WV             26506   \n",
       "\n",
       "       Hospital_referral_region_desp  Total_Discharges  \\\n",
       "49791               SD - Sioux Falls                44   \n",
       "83428                     NE - Omaha                35   \n",
       "108577                    NE - Omaha                21   \n",
       "158119               WV - Morgantown                14   \n",
       "\n",
       "        Average_Total_Payments  Average_Medicare_Payment  \\\n",
       "49791                 11301.00                  10315.09   \n",
       "83428                  4606.42                   3864.37   \n",
       "108577                 8054.57                   6659.09   \n",
       "158119                 7331.28                   6929.28   \n",
       "\n",
       "        Medicare_Reimburse_Rate  Avg_Rate_ByStateDRG  \\\n",
       "49791                     91.28            66.203333   \n",
       "83428                     83.89            61.964667   \n",
       "108577                    82.67            59.826667   \n",
       "158119                    94.52            68.522500   \n",
       "\n",
       "        drg_state_avg_ratio_rate drg_state_avg_ratio_rate_D  \n",
       "49791                   1.378783             (1.145, 1.382]  \n",
       "83428                   1.353836             (1.145, 1.382]  \n",
       "108577                  1.381825             (1.145, 1.382]  \n",
       "158119                  1.379401             (1.145, 1.382]  "
      ]
     },
     "execution_count": 21,
     "metadata": {},
     "output_type": "execute_result"
    }
   ],
   "source": [
    "data2[data2['drg_state_avg_ratio_rate']>1.35]"
   ]
  },
  {
   "cell_type": "markdown",
   "id": "99f24e60",
   "metadata": {},
   "source": [
    "There are 4 hospitals whose average Medicare reimbursement rates are more than 1.35 times of the group's average. All of them are located in different states, and providing different DRG. Therefore, they are less likely to relate to each other. All of them have high reimbursement rates (more than 82%) compared to to their peers (less than 69%). The average reimbursement rates of their peers, serving same ORG in the same state, are within a normal range. These 5 hospitals' high average Medicare payment amounts can not reasonably be explained, therefore, indeed abnormal. CMS can further invesitage with their transactional claims, including hospital's specialization and size, patient's demographics, type and frequency of drug usage, drug or other healthcare service's supplier, etc. It's important to consider these contextual factors when evaluating potential resource abuse."
   ]
  },
  {
   "cell_type": "code",
   "execution_count": 22,
   "id": "2d7b6f5c",
   "metadata": {
    "scrolled": false
   },
   "outputs": [
    {
     "data": {
      "text/html": [
       "<div>\n",
       "<style scoped>\n",
       "    .dataframe tbody tr th:only-of-type {\n",
       "        vertical-align: middle;\n",
       "    }\n",
       "\n",
       "    .dataframe tbody tr th {\n",
       "        vertical-align: top;\n",
       "    }\n",
       "\n",
       "    .dataframe thead th {\n",
       "        text-align: right;\n",
       "    }\n",
       "</style>\n",
       "<table border=\"1\" class=\"dataframe\">\n",
       "  <thead>\n",
       "    <tr style=\"text-align: right;\">\n",
       "      <th></th>\n",
       "      <th>DRG</th>\n",
       "      <th>Provider_Id</th>\n",
       "      <th>Provider_Name</th>\n",
       "      <th>Provider_StreetAddress</th>\n",
       "      <th>Provider_City</th>\n",
       "      <th>Provider_State</th>\n",
       "      <th>Provider_Zipcode</th>\n",
       "      <th>Hospital_referral_region_desp</th>\n",
       "      <th>Total_Discharges</th>\n",
       "      <th>Average_Total_Payments</th>\n",
       "      <th>Average_Medicare_Payment</th>\n",
       "      <th>Medicare_Reimburse_Rate</th>\n",
       "      <th>Avg_Rate_ByStateDRG</th>\n",
       "      <th>drg_state_avg_ratio_rate</th>\n",
       "      <th>drg_state_avg_ratio_rate_D</th>\n",
       "    </tr>\n",
       "  </thead>\n",
       "  <tbody>\n",
       "    <tr>\n",
       "      <th>20388</th>\n",
       "      <td>189 - PULMONARY EDEMA &amp; RESPIRATORY FAILURE</td>\n",
       "      <td>390096</td>\n",
       "      <td>ST JOSEPH MEDICAL CENTER</td>\n",
       "      <td>2500 BERNVILLE ROAD</td>\n",
       "      <td>READING</td>\n",
       "      <td>PA</td>\n",
       "      <td>19605</td>\n",
       "      <td>PA - Reading</td>\n",
       "      <td>143</td>\n",
       "      <td>72797.93</td>\n",
       "      <td>7718.09</td>\n",
       "      <td>10.60</td>\n",
       "      <td>87.216737</td>\n",
       "      <td>0.121536</td>\n",
       "      <td>(0.056799999999999996, 0.726]</td>\n",
       "    </tr>\n",
       "    <tr>\n",
       "      <th>38923</th>\n",
       "      <td>203 - BRONCHITIS &amp; ASTHMA W/O CC/MCC</td>\n",
       "      <td>220008</td>\n",
       "      <td>STURDY MEMORIAL HOSPITAL</td>\n",
       "      <td>211 PARK STREET</td>\n",
       "      <td>ATTLEBORO</td>\n",
       "      <td>MA</td>\n",
       "      <td>2703</td>\n",
       "      <td>RI - Providence</td>\n",
       "      <td>11</td>\n",
       "      <td>41482.09</td>\n",
       "      <td>1790.18</td>\n",
       "      <td>4.32</td>\n",
       "      <td>74.732857</td>\n",
       "      <td>0.057806</td>\n",
       "      <td>(0.056799999999999996, 0.726]</td>\n",
       "    </tr>\n",
       "    <tr>\n",
       "      <th>47957</th>\n",
       "      <td>247 - PERC CARDIOVASC PROC W DRUG-ELUTING STEN...</td>\n",
       "      <td>430095</td>\n",
       "      <td>AVERA HEART HOSPITAL OF SOUTH DAKOTA LLC</td>\n",
       "      <td>4500 W 69TH ST</td>\n",
       "      <td>SIOUX FALLS</td>\n",
       "      <td>SD</td>\n",
       "      <td>57108</td>\n",
       "      <td>SD - Sioux Falls</td>\n",
       "      <td>121</td>\n",
       "      <td>83484.14</td>\n",
       "      <td>9316.11</td>\n",
       "      <td>11.16</td>\n",
       "      <td>67.942500</td>\n",
       "      <td>0.164257</td>\n",
       "      <td>(0.056799999999999996, 0.726]</td>\n",
       "    </tr>\n",
       "    <tr>\n",
       "      <th>49145</th>\n",
       "      <td>249 - PERC CARDIOVASC PROC W NON-DRUG-ELUTING ...</td>\n",
       "      <td>500051</td>\n",
       "      <td>OVERLAKE HOSPITAL MEDICAL CENTER</td>\n",
       "      <td>1035-116TH AVE NE</td>\n",
       "      <td>BELLEVUE</td>\n",
       "      <td>WA</td>\n",
       "      <td>98004</td>\n",
       "      <td>WA - Seattle</td>\n",
       "      <td>23</td>\n",
       "      <td>84499.26</td>\n",
       "      <td>8500.60</td>\n",
       "      <td>10.06</td>\n",
       "      <td>79.154000</td>\n",
       "      <td>0.127094</td>\n",
       "      <td>(0.056799999999999996, 0.726]</td>\n",
       "    </tr>\n",
       "  </tbody>\n",
       "</table>\n",
       "</div>"
      ],
      "text/plain": [
       "                                                     DRG Provider_Id  \\\n",
       "20388        189 - PULMONARY EDEMA & RESPIRATORY FAILURE      390096   \n",
       "38923               203 - BRONCHITIS & ASTHMA W/O CC/MCC      220008   \n",
       "47957  247 - PERC CARDIOVASC PROC W DRUG-ELUTING STEN...      430095   \n",
       "49145  249 - PERC CARDIOVASC PROC W NON-DRUG-ELUTING ...      500051   \n",
       "\n",
       "                                  Provider_Name Provider_StreetAddress  \\\n",
       "20388                  ST JOSEPH MEDICAL CENTER    2500 BERNVILLE ROAD   \n",
       "38923                  STURDY MEMORIAL HOSPITAL        211 PARK STREET   \n",
       "47957  AVERA HEART HOSPITAL OF SOUTH DAKOTA LLC         4500 W 69TH ST   \n",
       "49145          OVERLAKE HOSPITAL MEDICAL CENTER      1035-116TH AVE NE   \n",
       "\n",
       "      Provider_City Provider_State  Provider_Zipcode  \\\n",
       "20388       READING             PA             19605   \n",
       "38923     ATTLEBORO             MA              2703   \n",
       "47957   SIOUX FALLS             SD             57108   \n",
       "49145      BELLEVUE             WA             98004   \n",
       "\n",
       "      Hospital_referral_region_desp  Total_Discharges  Average_Total_Payments  \\\n",
       "20388                  PA - Reading               143                72797.93   \n",
       "38923               RI - Providence                11                41482.09   \n",
       "47957              SD - Sioux Falls               121                83484.14   \n",
       "49145                  WA - Seattle                23                84499.26   \n",
       "\n",
       "       Average_Medicare_Payment  Medicare_Reimburse_Rate  Avg_Rate_ByStateDRG  \\\n",
       "20388                   7718.09                    10.60            87.216737   \n",
       "38923                   1790.18                     4.32            74.732857   \n",
       "47957                   9316.11                    11.16            67.942500   \n",
       "49145                   8500.60                    10.06            79.154000   \n",
       "\n",
       "       drg_state_avg_ratio_rate     drg_state_avg_ratio_rate_D  \n",
       "20388                  0.121536  (0.056799999999999996, 0.726]  \n",
       "38923                  0.057806  (0.056799999999999996, 0.726]  \n",
       "47957                  0.164257  (0.056799999999999996, 0.726]  \n",
       "49145                  0.127094  (0.056799999999999996, 0.726]  "
      ]
     },
     "execution_count": 22,
     "metadata": {},
     "output_type": "execute_result"
    }
   ],
   "source": [
    "data2[data2['drg_state_avg_ratio_rate']<0.2]"
   ]
  },
  {
   "cell_type": "markdown",
   "id": "ffcadc8b",
   "metadata": {},
   "source": [
    "There are 4 hospitals whose average Medicare payment amounts are less than 20% of the group's average. All of them are located in different states, and providing different DRG. Therefore, they are less likely to relate to each other. All of them have very low reimbursement rates (less than 12%). The reimbursement rates of STURDY MEMORIAL HOSPITAL is even less than 5%. The average payments of their peers, serving same ORG in the same state, are within a normal range. These 5 hospitals' low average Medicare payment amounts can not reasonably be explained, therefore, indeed abnormal. CMS can further invesitage with their transactional claims, including hospital's size and specialization, patient's demographics, type and frequency of drug usage, drug or other healthcare service's supplier, etc. It's important to consider these contextual factors when evaluating potential resource underutilization or inadequate reimbursement."
   ]
  },
  {
   "cell_type": "markdown",
   "id": "951662d2",
   "metadata": {},
   "source": [
    "####  3.1.3 Feature 3: The ratio to the median of average medicare payment amount (grouping by DRG & State) <a class=\"anchor\" id=\"313\"></a>"
   ]
  },
  {
   "cell_type": "markdown",
   "id": "57450eb7",
   "metadata": {},
   "source": [
    "- The defined hospital group's median of average medicare payment amount is used as benchmark for anomaly detection. \n",
    "- The ratio of each hospital to the group median is calculated as the new feature. \n",
    "- To better look at the distribution of the ratios, I cut them into different groups by percentile, and then use a histogram to visualize the distribution."
   ]
  },
  {
   "cell_type": "code",
   "execution_count": 23,
   "id": "046dcd74",
   "metadata": {},
   "outputs": [
    {
     "data": {
      "text/plain": [
       "[Text(0, 0, '(0.367, 0.714]'),\n",
       " Text(1, 0, '(0.714, 0.805]'),\n",
       " Text(2, 0, '(0.805, 0.897]'),\n",
       " Text(3, 0, '(0.897, 1.0]'),\n",
       " Text(4, 0, '(1.0, 1.167]'),\n",
       " Text(5, 0, '(1.167, 1.527]'),\n",
       " Text(6, 0, '(1.527, 1.898]'),\n",
       " Text(7, 0, '(1.898, 6.031]')]"
      ]
     },
     "execution_count": 23,
     "metadata": {},
     "output_type": "execute_result"
    },
    {
     "data": {
      "image/png": "[encoded data removed]",
      "text/plain": [
       "<Figure size 600x400 with 1 Axes>"
      ]
     },
     "metadata": {},
     "output_type": "display_data"
    }
   ],
   "source": [
    "# create bencharmark table\n",
    "benchmark3 = data.groupby(['Provider_State','DRG'])['Average_Medicare_Payment'].median().reset_index()\n",
    "benchmark3.columns = ['Provider_State','DRG','Median_Amount_ByStateDRG']\n",
    "# add the new feature to the dataset \n",
    "data3 = pd.merge(data, benchmark3, how='left', on=['Provider_State', 'DRG'])\n",
    "data3['drg_state_median_ratio_amount'] = np.where(data3['Median_Amount_ByStateDRG']==0,0,data3['Average_Medicare_Payment'] / data3['Median_Amount_ByStateDRG'])\n",
    "# cut by percentile for plotting\n",
    "var = 'drg_state_median_ratio_amount'\n",
    "binned_var = var + '_D'\n",
    "percentile = [0,0.01,0.05,0.2,0.5,0.8,0.95,0.99,1]\n",
    "data3[binned_var] = pd.qcut(data3[var],percentile, duplicates = 'drop')\n",
    "# Histogram of new feature\n",
    "plt.figure(figsize=(6,4))\n",
    "g = sns.countplot(x=\"drg_state_median_ratio_amount_D\", data=data3)\n",
    "g.set_xticklabels(g.get_xticklabels(), rotation=90)"
   ]
  },
  {
   "cell_type": "markdown",
   "id": "457daef2",
   "metadata": {},
   "source": [
    "- The distribution histogram shows most of the hospitals' median Medicare payment amounts are around the group's median, compared to the similar hospitals serving same DRG in the same state.\n",
    "- From the above distribution histogram, we can see that some hospitals' median Medicare payment amounts can be more than 5 times of the group's median, and their frequencies are extremely low. Therefore, we should identify these hospitals as anomalies. Same diagnosis should be treated with similar treatments, which are within a similar range of prices. The extremely high reimbursement amounts may indicate potential healthcare resources abuse or fraud, including excessive or unnecessary services, upcoding, unbundling, phantom billing and kickbacks. \n",
    "- Some hospitals' median medicare payment amounts can be less than 40% of the group's median. It could due to the coverage of other insurance programs. However, it can also indicate some potential disparities in resource utilization. For example, some services provided by those hospitals may be necessary but not covered by Medicare. It can also be indicators of problematic claims. \n",
    "- While building the unsupervised machine learning models for better detection, clustering analysis of this feature can be considered to highlight similar (specialization and size) hospitals and identify outlier hospitals for further analysis. Link analysis of this feature can help detect excessive or unnecessary services within and across hospital groups.\n",
    "- I am going to have an initial investigation on the hospitals identified as anomalies."
   ]
  },
  {
   "cell_type": "code",
   "execution_count": 24,
   "id": "8d5a8fcc",
   "metadata": {
    "scrolled": false
   },
   "outputs": [
    {
     "data": {
      "text/html": [
       "<div>\n",
       "<style scoped>\n",
       "    .dataframe tbody tr th:only-of-type {\n",
       "        vertical-align: middle;\n",
       "    }\n",
       "\n",
       "    .dataframe tbody tr th {\n",
       "        vertical-align: top;\n",
       "    }\n",
       "\n",
       "    .dataframe thead th {\n",
       "        text-align: right;\n",
       "    }\n",
       "</style>\n",
       "<table border=\"1\" class=\"dataframe\">\n",
       "  <thead>\n",
       "    <tr style=\"text-align: right;\">\n",
       "      <th></th>\n",
       "      <th>DRG</th>\n",
       "      <th>Provider_Id</th>\n",
       "      <th>Provider_Name</th>\n",
       "      <th>Provider_StreetAddress</th>\n",
       "      <th>Provider_City</th>\n",
       "      <th>Provider_State</th>\n",
       "      <th>Provider_Zipcode</th>\n",
       "      <th>Hospital_referral_region_desp</th>\n",
       "      <th>Total_Discharges</th>\n",
       "      <th>Average_Total_Payments</th>\n",
       "      <th>Average_Medicare_Payment</th>\n",
       "      <th>Medicare_Reimburse_Rate</th>\n",
       "      <th>Median_Amount_ByStateDRG</th>\n",
       "      <th>drg_state_median_ratio_amount</th>\n",
       "      <th>drg_state_median_ratio_amount_D</th>\n",
       "    </tr>\n",
       "  </thead>\n",
       "  <tbody>\n",
       "    <tr>\n",
       "      <th>37716</th>\n",
       "      <td>202 - BRONCHITIS &amp; ASTHMA W CC/MCC</td>\n",
       "      <td>210009</td>\n",
       "      <td>JOHNS HOPKINS HOSPITAL, THE</td>\n",
       "      <td>600 NORTH  WOLFE STREET</td>\n",
       "      <td>BALTIMORE</td>\n",
       "      <td>MD</td>\n",
       "      <td>21287</td>\n",
       "      <td>MD - Baltimore</td>\n",
       "      <td>17</td>\n",
       "      <td>41458.47</td>\n",
       "      <td>37236.00</td>\n",
       "      <td>89.82</td>\n",
       "      <td>6174.120</td>\n",
       "      <td>6.030981</td>\n",
       "      <td>(1.898, 6.031]</td>\n",
       "    </tr>\n",
       "    <tr>\n",
       "      <th>86797</th>\n",
       "      <td>315 - OTHER CIRCULATORY SYSTEM DIAGNOSES W CC</td>\n",
       "      <td>490009</td>\n",
       "      <td>UNIVERSITY OF VIRGINIA MEDICAL CENTER</td>\n",
       "      <td>JEFFERSON PARK AVE</td>\n",
       "      <td>CHARLOTTESVILLE</td>\n",
       "      <td>VA</td>\n",
       "      <td>22908</td>\n",
       "      <td>VA - Charlottesville</td>\n",
       "      <td>18</td>\n",
       "      <td>26704.11</td>\n",
       "      <td>26015.88</td>\n",
       "      <td>97.42</td>\n",
       "      <td>5159.895</td>\n",
       "      <td>5.041940</td>\n",
       "      <td>(1.898, 6.031]</td>\n",
       "    </tr>\n",
       "    <tr>\n",
       "      <th>109462</th>\n",
       "      <td>460 - SPINAL FUSION EXCEPT CERVICAL W/O MCC</td>\n",
       "      <td>150166</td>\n",
       "      <td>PINNACLE HOSPITAL</td>\n",
       "      <td>9301 CONNECTICUT DR</td>\n",
       "      <td>CROWN POINT</td>\n",
       "      <td>IN</td>\n",
       "      <td>46307</td>\n",
       "      <td>IN - Gary</td>\n",
       "      <td>14</td>\n",
       "      <td>131187.35</td>\n",
       "      <td>130466.57</td>\n",
       "      <td>99.45</td>\n",
       "      <td>21780.130</td>\n",
       "      <td>5.990165</td>\n",
       "      <td>(1.898, 6.031]</td>\n",
       "    </tr>\n",
       "    <tr>\n",
       "      <th>111075</th>\n",
       "      <td>469 - MAJOR JOINT REPLACEMENT OR REATTACHMENT ...</td>\n",
       "      <td>390256</td>\n",
       "      <td>MILTON S HERSHEY MEDICAL CENTER</td>\n",
       "      <td>500 UNIVERSITY DRIVE</td>\n",
       "      <td>HERSHEY</td>\n",
       "      <td>PA</td>\n",
       "      <td>17033</td>\n",
       "      <td>PA - Harrisburg</td>\n",
       "      <td>15</td>\n",
       "      <td>100018.33</td>\n",
       "      <td>99114.86</td>\n",
       "      <td>99.10</td>\n",
       "      <td>18921.540</td>\n",
       "      <td>5.238203</td>\n",
       "      <td>(1.898, 6.031]</td>\n",
       "    </tr>\n",
       "  </tbody>\n",
       "</table>\n",
       "</div>"
      ],
      "text/plain": [
       "                                                      DRG Provider_Id  \\\n",
       "37716                  202 - BRONCHITIS & ASTHMA W CC/MCC      210009   \n",
       "86797       315 - OTHER CIRCULATORY SYSTEM DIAGNOSES W CC      490009   \n",
       "109462        460 - SPINAL FUSION EXCEPT CERVICAL W/O MCC      150166   \n",
       "111075  469 - MAJOR JOINT REPLACEMENT OR REATTACHMENT ...      390256   \n",
       "\n",
       "                                Provider_Name   Provider_StreetAddress  \\\n",
       "37716             JOHNS HOPKINS HOSPITAL, THE  600 NORTH  WOLFE STREET   \n",
       "86797   UNIVERSITY OF VIRGINIA MEDICAL CENTER       JEFFERSON PARK AVE   \n",
       "109462                      PINNACLE HOSPITAL      9301 CONNECTICUT DR   \n",
       "111075        MILTON S HERSHEY MEDICAL CENTER     500 UNIVERSITY DRIVE   \n",
       "\n",
       "          Provider_City Provider_State  Provider_Zipcode  \\\n",
       "37716         BALTIMORE             MD             21287   \n",
       "86797   CHARLOTTESVILLE             VA             22908   \n",
       "109462      CROWN POINT             IN             46307   \n",
       "111075          HERSHEY             PA             17033   \n",
       "\n",
       "       Hospital_referral_region_desp  Total_Discharges  \\\n",
       "37716                 MD - Baltimore                17   \n",
       "86797           VA - Charlottesville                18   \n",
       "109462                     IN - Gary                14   \n",
       "111075               PA - Harrisburg                15   \n",
       "\n",
       "        Average_Total_Payments  Average_Medicare_Payment  \\\n",
       "37716                 41458.47                  37236.00   \n",
       "86797                 26704.11                  26015.88   \n",
       "109462               131187.35                 130466.57   \n",
       "111075               100018.33                  99114.86   \n",
       "\n",
       "        Medicare_Reimburse_Rate  Median_Amount_ByStateDRG  \\\n",
       "37716                     89.82                  6174.120   \n",
       "86797                     97.42                  5159.895   \n",
       "109462                    99.45                 21780.130   \n",
       "111075                    99.10                 18921.540   \n",
       "\n",
       "        drg_state_median_ratio_amount drg_state_median_ratio_amount_D  \n",
       "37716                        6.030981                  (1.898, 6.031]  \n",
       "86797                        5.041940                  (1.898, 6.031]  \n",
       "109462                       5.990165                  (1.898, 6.031]  \n",
       "111075                       5.238203                  (1.898, 6.031]  "
      ]
     },
     "execution_count": 24,
     "metadata": {},
     "output_type": "execute_result"
    }
   ],
   "source": [
    "data3[data3['drg_state_median_ratio_amount']>5]"
   ]
  },
  {
   "cell_type": "markdown",
   "id": "976c1de7",
   "metadata": {},
   "source": [
    "There are 4 hospitals whose median Medicare payment amounts are more than 5 times of the group's median. All of them are located in different states, and providing different DRG. Therefore, they are less likely to relate to each other. All of them have high reimbursement rates (more than 89%). The reimbursement rates of PINNACLE HOSPITAL, MILTON S HERSHEY MEDICAL CENTER, and UNIVERSITY OF VIRGINIA MEDICAL CENTERare even higher than 97%. The median payments of their peers, serving same ORG in the same state, are within a normal range. To be noted, there are 3 hospitals (THE JOHNS HOPKINS HOSPITAL, PINNACLE HOSPITAL and MILTON S HERSHEY MEDICAL CENTER) that have been identified as anomalies in feature 1's (ratio to the average of  average medicare payment amount (grouping by DRG & State)) distribution as well. These 4 hospitals' high median Medicare payment amounts can not reasonably be explained, therefore, indeed abnormal. CMS can further invesitage with their transactional claims, including hospital's specialization and size, patient's demographics, type and frequency of drug usage, drug or other healthcare service's supplier, etc. It's important to consider these contextual factors when evaluating potential resource abuse."
   ]
  },
  {
   "cell_type": "code",
   "execution_count": 25,
   "id": "29033acd",
   "metadata": {},
   "outputs": [
    {
     "data": {
      "text/html": [
       "<div>\n",
       "<style scoped>\n",
       "    .dataframe tbody tr th:only-of-type {\n",
       "        vertical-align: middle;\n",
       "    }\n",
       "\n",
       "    .dataframe tbody tr th {\n",
       "        vertical-align: top;\n",
       "    }\n",
       "\n",
       "    .dataframe thead th {\n",
       "        text-align: right;\n",
       "    }\n",
       "</style>\n",
       "<table border=\"1\" class=\"dataframe\">\n",
       "  <thead>\n",
       "    <tr style=\"text-align: right;\">\n",
       "      <th></th>\n",
       "      <th>DRG</th>\n",
       "      <th>Provider_Id</th>\n",
       "      <th>Provider_Name</th>\n",
       "      <th>Provider_StreetAddress</th>\n",
       "      <th>Provider_City</th>\n",
       "      <th>Provider_State</th>\n",
       "      <th>Provider_Zipcode</th>\n",
       "      <th>Hospital_referral_region_desp</th>\n",
       "      <th>Total_Discharges</th>\n",
       "      <th>Average_Total_Payments</th>\n",
       "      <th>Average_Medicare_Payment</th>\n",
       "      <th>Medicare_Reimburse_Rate</th>\n",
       "      <th>Median_Amount_ByStateDRG</th>\n",
       "      <th>drg_state_median_ratio_amount</th>\n",
       "      <th>drg_state_median_ratio_amount_D</th>\n",
       "    </tr>\n",
       "  </thead>\n",
       "  <tbody>\n",
       "    <tr>\n",
       "      <th>109837</th>\n",
       "      <td>460 - SPINAL FUSION EXCEPT CERVICAL W/O MCC</td>\n",
       "      <td>330286</td>\n",
       "      <td>GOOD SAMARITAN HOSPITAL MEDICAL CENTER</td>\n",
       "      <td>1000 MONTAUK HIGHWAY</td>\n",
       "      <td>WEST ISLIP</td>\n",
       "      <td>NY</td>\n",
       "      <td>11795</td>\n",
       "      <td>NY - East Long Island</td>\n",
       "      <td>12</td>\n",
       "      <td>44431.83</td>\n",
       "      <td>8993.91</td>\n",
       "      <td>20.24</td>\n",
       "      <td>24450.88</td>\n",
       "      <td>0.367836</td>\n",
       "      <td>(0.367, 0.714]</td>\n",
       "    </tr>\n",
       "    <tr>\n",
       "      <th>111962</th>\n",
       "      <td>470 - MAJOR JOINT REPLACEMENT OR REATTACHMENT ...</td>\n",
       "      <td>120011</td>\n",
       "      <td>KAISER FOUNDATION HOSPITAL</td>\n",
       "      <td>3288 MOANALUA RD</td>\n",
       "      <td>HONOLULU</td>\n",
       "      <td>HI</td>\n",
       "      <td>96819</td>\n",
       "      <td>HI - Honolulu</td>\n",
       "      <td>28</td>\n",
       "      <td>20955.35</td>\n",
       "      <td>5215.00</td>\n",
       "      <td>24.89</td>\n",
       "      <td>14085.45</td>\n",
       "      <td>0.370240</td>\n",
       "      <td>(0.367, 0.714]</td>\n",
       "    </tr>\n",
       "  </tbody>\n",
       "</table>\n",
       "</div>"
      ],
      "text/plain": [
       "                                                      DRG Provider_Id  \\\n",
       "109837        460 - SPINAL FUSION EXCEPT CERVICAL W/O MCC      330286   \n",
       "111962  470 - MAJOR JOINT REPLACEMENT OR REATTACHMENT ...      120011   \n",
       "\n",
       "                                 Provider_Name Provider_StreetAddress  \\\n",
       "109837  GOOD SAMARITAN HOSPITAL MEDICAL CENTER   1000 MONTAUK HIGHWAY   \n",
       "111962              KAISER FOUNDATION HOSPITAL       3288 MOANALUA RD   \n",
       "\n",
       "       Provider_City Provider_State  Provider_Zipcode  \\\n",
       "109837    WEST ISLIP             NY             11795   \n",
       "111962      HONOLULU             HI             96819   \n",
       "\n",
       "       Hospital_referral_region_desp  Total_Discharges  \\\n",
       "109837         NY - East Long Island                12   \n",
       "111962                 HI - Honolulu                28   \n",
       "\n",
       "        Average_Total_Payments  Average_Medicare_Payment  \\\n",
       "109837                44431.83                   8993.91   \n",
       "111962                20955.35                   5215.00   \n",
       "\n",
       "        Medicare_Reimburse_Rate  Median_Amount_ByStateDRG  \\\n",
       "109837                    20.24                  24450.88   \n",
       "111962                    24.89                  14085.45   \n",
       "\n",
       "        drg_state_median_ratio_amount drg_state_median_ratio_amount_D  \n",
       "109837                       0.367836                  (0.367, 0.714]  \n",
       "111962                       0.370240                  (0.367, 0.714]  "
      ]
     },
     "execution_count": 25,
     "metadata": {},
     "output_type": "execute_result"
    }
   ],
   "source": [
    "data3[data3['drg_state_median_ratio_amount']<0.4]"
   ]
  },
  {
   "cell_type": "markdown",
   "id": "7b938ff1",
   "metadata": {},
   "source": [
    "There are 2 hospitals whose median Medicare payment amounts are less than 40% of the group's median. All of them are located in different states, and providing different DRG. Therefore, they are less likely to relate to each other. All of them have very low reimbursement rates (less than 25%). To be noted, there are 3 hospitals (GOOD SAMARITAN HOSPITAL MEDICAL CENTER, KAISER FOUNDATION HOSPITAL) that have been identified as anomalies in feature 1's (ratio to the average of average medicare payment amount (grouping by DRG & State)) distribution as well. The median payments of their peers, serving same ORG in the same state, are within a normal range. These 2 hospitals' low median Medicare payment amounts can not reasonably be explained, therefore, indeed abnormal. CMS can further invesitage with their transactional claims, including hospital's size and specialization, patient's demographics, type and frequency of drug usage, drug or other healthcare service's supplier, etc. It's important to consider these contextual factors when evaluating potential resource underutilization or inadequate reimbursement."
   ]
  },
  {
   "cell_type": "markdown",
   "id": "00abb90c",
   "metadata": {},
   "source": [
    "####  3.1.4 Feature 4: The ratio to the median medicare reimbursement rate (grouping by DRG & State)\n",
    " <a class=\"anchor\" id=\"314\"></a>"
   ]
  },
  {
   "cell_type": "markdown",
   "id": "f1344d95",
   "metadata": {},
   "source": [
    "- The defined hospital group's median of medicare reimbursement rate is used as benchmark for anomaly detection. \n",
    "- The ratio of each hospital to the group median is calculated as the new feature. \n",
    "- To better look at the distribution of the ratios, I cut them into different groups by percentile, and then use a histogram to visualize the distribution."
   ]
  },
  {
   "cell_type": "code",
   "execution_count": 26,
   "id": "3acea6ba",
   "metadata": {},
   "outputs": [
    {
     "data": {
      "text/plain": [
       "[Text(0, 0, '(0.0554, 0.709]'),\n",
       " Text(1, 0, '(0.709, 0.845]'),\n",
       " Text(2, 0, '(0.845, 0.948]'),\n",
       " Text(3, 0, '(0.948, 1.0]'),\n",
       " Text(4, 0, '(1.0, 1.032]'),\n",
       " Text(5, 0, '(1.032, 1.078]'),\n",
       " Text(6, 0, '(1.078, 1.127]'),\n",
       " Text(7, 0, '(1.127, 1.431]')]"
      ]
     },
     "execution_count": 26,
     "metadata": {},
     "output_type": "execute_result"
    },
    {
     "data": {
      "image/png": "[encoded data removed]",
      "text/plain": [
       "<Figure size 600x400 with 1 Axes>"
      ]
     },
     "metadata": {},
     "output_type": "display_data"
    }
   ],
   "source": [
    "# create bencharmark table\n",
    "benchmark4 = data.groupby(['Provider_State','DRG'])['Medicare_Reimburse_Rate'].median().reset_index()\n",
    "benchmark4.columns = ['Provider_State','DRG','Median_Rate_ByStateDRG']\n",
    "# add the new feature to the dataset \n",
    "data4 = pd.merge(data, benchmark4, how='left', on=['Provider_State', 'DRG'])\n",
    "data4['drg_state_median_ratio_rate'] = np.where(data4['Median_Rate_ByStateDRG']==0,0,data4['Medicare_Reimburse_Rate'] / data4['Median_Rate_ByStateDRG'])\n",
    "# cut by percentile for plotting\n",
    "var = 'drg_state_median_ratio_rate'\n",
    "binned_var = var + '_D'\n",
    "percentile = [0,0.01,0.05,0.2,0.5,0.8,0.95,0.99,1]\n",
    "data4[binned_var] = pd.qcut(data4[var],percentile, duplicates = 'drop')\n",
    "# Histogram of new feature\n",
    "plt.figure(figsize=(6,4))\n",
    "g = sns.countplot(x=\"drg_state_median_ratio_rate_D\", data=data4)\n",
    "g.set_xticklabels(g.get_xticklabels(), rotation=90)"
   ]
  },
  {
   "cell_type": "markdown",
   "id": "4f3241bf",
   "metadata": {},
   "source": [
    "- The distribution histogram shows most of the hospitals' median Medicare reimbursement rates are around the group's median, compared to the similar hospitals serving same DRG in the same state. \n",
    "- From the above distribution histogram, we can see that some hospitals' median Medicare reimbursement rates are just more than 1.3 times of the group's median, and their frequencies are extremely low. Therefore, we should identify these hospitals as anomalies. We've discussed in EDA that the national median Medicare reimbursement rate is very high (85%), so the just 30% increase could make the reimbursement rate reaching to 100%, which means all of the hospital's bills are reimbursed by Medicare. Same diagnosis should be treated with similar treatments, which are within the same range of reimbursement rate, according to Medicare's insurance policy. The extremely high reimbursement amounts may indicate potential healthcare resources abuse or fraud, including excessive or unnecessary services, upcoding, unbundling, phantom billing. \n",
    "- Some hospitals' median Medicare reimbursement rates can be less than 20% of the group's median. It could due to the coverage of other insurance programs. However, it can also indicate some potential disparities in resource utilization. For example, some services provided by those hospitals may be necessary but not covered by Medicare. It can also be indicators of problematic claims. \n",
    "- While building the unsupervised machine learning models for better detection, clustering analysis of this feature can be considered to highlight similar (specialization and size) hospitals and identify outlier hospitals for further analysis. Link analysis of this feature can help detect excessive or unnecessary services within and across hospital groups.\n",
    "- I am going to have an initial investigation on the hospitals identified as anomalies."
   ]
  },
  {
   "cell_type": "code",
   "execution_count": 27,
   "id": "c91136f2",
   "metadata": {
    "scrolled": false
   },
   "outputs": [
    {
     "data": {
      "text/html": [
       "<div>\n",
       "<style scoped>\n",
       "    .dataframe tbody tr th:only-of-type {\n",
       "        vertical-align: middle;\n",
       "    }\n",
       "\n",
       "    .dataframe tbody tr th {\n",
       "        vertical-align: top;\n",
       "    }\n",
       "\n",
       "    .dataframe thead th {\n",
       "        text-align: right;\n",
       "    }\n",
       "</style>\n",
       "<table border=\"1\" class=\"dataframe\">\n",
       "  <thead>\n",
       "    <tr style=\"text-align: right;\">\n",
       "      <th></th>\n",
       "      <th>DRG</th>\n",
       "      <th>Provider_Id</th>\n",
       "      <th>Provider_Name</th>\n",
       "      <th>Provider_StreetAddress</th>\n",
       "      <th>Provider_City</th>\n",
       "      <th>Provider_State</th>\n",
       "      <th>Provider_Zipcode</th>\n",
       "      <th>Hospital_referral_region_desp</th>\n",
       "      <th>Total_Discharges</th>\n",
       "      <th>Average_Total_Payments</th>\n",
       "      <th>Average_Medicare_Payment</th>\n",
       "      <th>Medicare_Reimburse_Rate</th>\n",
       "      <th>Median_Rate_ByStateDRG</th>\n",
       "      <th>drg_state_median_ratio_rate</th>\n",
       "      <th>drg_state_median_ratio_rate_D</th>\n",
       "    </tr>\n",
       "  </thead>\n",
       "  <tbody>\n",
       "    <tr>\n",
       "      <th>77583</th>\n",
       "      <td>310 - CARDIAC ARRHYTHMIA &amp; CONDUCTION DISORDER...</td>\n",
       "      <td>20026</td>\n",
       "      <td>ALASKA NATIVE MEDICAL CENTER</td>\n",
       "      <td>4315 DIPLOMACY DR</td>\n",
       "      <td>ANCHORAGE</td>\n",
       "      <td>AK</td>\n",
       "      <td>99508</td>\n",
       "      <td>AK - Anchorage</td>\n",
       "      <td>24</td>\n",
       "      <td>7178.66</td>\n",
       "      <td>6333.66</td>\n",
       "      <td>88.23</td>\n",
       "      <td>62.12</td>\n",
       "      <td>1.420316</td>\n",
       "      <td>(1.127, 1.431]</td>\n",
       "    </tr>\n",
       "    <tr>\n",
       "      <th>161332</th>\n",
       "      <td>948 - SIGNS &amp; SYMPTOMS W/O MCC</td>\n",
       "      <td>120006</td>\n",
       "      <td>CASTLE MEDICAL CENTER</td>\n",
       "      <td>640 ULUKAHIKI ST</td>\n",
       "      <td>KAILUA</td>\n",
       "      <td>HI</td>\n",
       "      <td>96734</td>\n",
       "      <td>HI - Honolulu</td>\n",
       "      <td>20</td>\n",
       "      <td>5594.45</td>\n",
       "      <td>4462.45</td>\n",
       "      <td>79.77</td>\n",
       "      <td>55.74</td>\n",
       "      <td>1.431109</td>\n",
       "      <td>(1.127, 1.431]</td>\n",
       "    </tr>\n",
       "  </tbody>\n",
       "</table>\n",
       "</div>"
      ],
      "text/plain": [
       "                                                      DRG Provider_Id  \\\n",
       "77583   310 - CARDIAC ARRHYTHMIA & CONDUCTION DISORDER...       20026   \n",
       "161332                     948 - SIGNS & SYMPTOMS W/O MCC      120006   \n",
       "\n",
       "                       Provider_Name Provider_StreetAddress Provider_City  \\\n",
       "77583   ALASKA NATIVE MEDICAL CENTER      4315 DIPLOMACY DR     ANCHORAGE   \n",
       "161332         CASTLE MEDICAL CENTER       640 ULUKAHIKI ST        KAILUA   \n",
       "\n",
       "       Provider_State  Provider_Zipcode Hospital_referral_region_desp  \\\n",
       "77583              AK             99508                AK - Anchorage   \n",
       "161332             HI             96734                 HI - Honolulu   \n",
       "\n",
       "        Total_Discharges  Average_Total_Payments  Average_Medicare_Payment  \\\n",
       "77583                 24                 7178.66                   6333.66   \n",
       "161332                20                 5594.45                   4462.45   \n",
       "\n",
       "        Medicare_Reimburse_Rate  Median_Rate_ByStateDRG  \\\n",
       "77583                     88.23                   62.12   \n",
       "161332                    79.77                   55.74   \n",
       "\n",
       "        drg_state_median_ratio_rate drg_state_median_ratio_rate_D  \n",
       "77583                      1.420316                (1.127, 1.431]  \n",
       "161332                     1.431109                (1.127, 1.431]  "
      ]
     },
     "execution_count": 27,
     "metadata": {},
     "output_type": "execute_result"
    }
   ],
   "source": [
    "data4[data4['drg_state_median_ratio_rate']>1.4]"
   ]
  },
  {
   "cell_type": "markdown",
   "id": "ce8bf80f",
   "metadata": {},
   "source": [
    "There are 2 hospitals whose median Medicare reimbursement rates are more than 1.4 times of the group's median. All of them are located in different states, and providing different DRG. Therefore, they are less likely to relate to each other. All of them have high reimbursement rates (more than 82%) compared to to their peers (less than 70%). The median reimbursement rates of their peers, serving same ORG in the same state, are within a normal range. These 5 hospitals' high median Medicare payment amounts can not reasonably be explained, therefore, indeed abnormal. CMS can further invesitage with their transactional claims, including hospital's specialization and size, patient's demographics, type and frequency of drug usage, drug or other healthcare service's supplier, etc. It's important to consider these contextual factors when evaluating potential resource abuse."
   ]
  },
  {
   "cell_type": "code",
   "execution_count": 28,
   "id": "e3ba21c9",
   "metadata": {},
   "outputs": [
    {
     "data": {
      "text/html": [
       "<div>\n",
       "<style scoped>\n",
       "    .dataframe tbody tr th:only-of-type {\n",
       "        vertical-align: middle;\n",
       "    }\n",
       "\n",
       "    .dataframe tbody tr th {\n",
       "        vertical-align: top;\n",
       "    }\n",
       "\n",
       "    .dataframe thead th {\n",
       "        text-align: right;\n",
       "    }\n",
       "</style>\n",
       "<table border=\"1\" class=\"dataframe\">\n",
       "  <thead>\n",
       "    <tr style=\"text-align: right;\">\n",
       "      <th></th>\n",
       "      <th>DRG</th>\n",
       "      <th>Provider_Id</th>\n",
       "      <th>Provider_Name</th>\n",
       "      <th>Provider_StreetAddress</th>\n",
       "      <th>Provider_City</th>\n",
       "      <th>Provider_State</th>\n",
       "      <th>Provider_Zipcode</th>\n",
       "      <th>Hospital_referral_region_desp</th>\n",
       "      <th>Total_Discharges</th>\n",
       "      <th>Average_Total_Payments</th>\n",
       "      <th>Average_Medicare_Payment</th>\n",
       "      <th>Medicare_Reimburse_Rate</th>\n",
       "      <th>Median_Rate_ByStateDRG</th>\n",
       "      <th>drg_state_median_ratio_rate</th>\n",
       "      <th>drg_state_median_ratio_rate_D</th>\n",
       "    </tr>\n",
       "  </thead>\n",
       "  <tbody>\n",
       "    <tr>\n",
       "      <th>20388</th>\n",
       "      <td>189 - PULMONARY EDEMA &amp; RESPIRATORY FAILURE</td>\n",
       "      <td>390096</td>\n",
       "      <td>ST JOSEPH MEDICAL CENTER</td>\n",
       "      <td>2500 BERNVILLE ROAD</td>\n",
       "      <td>READING</td>\n",
       "      <td>PA</td>\n",
       "      <td>19605</td>\n",
       "      <td>PA - Reading</td>\n",
       "      <td>143</td>\n",
       "      <td>72797.93</td>\n",
       "      <td>7718.09</td>\n",
       "      <td>10.60</td>\n",
       "      <td>89.490</td>\n",
       "      <td>0.118449</td>\n",
       "      <td>(0.0554, 0.709]</td>\n",
       "    </tr>\n",
       "    <tr>\n",
       "      <th>38923</th>\n",
       "      <td>203 - BRONCHITIS &amp; ASTHMA W/O CC/MCC</td>\n",
       "      <td>220008</td>\n",
       "      <td>STURDY MEMORIAL HOSPITAL</td>\n",
       "      <td>211 PARK STREET</td>\n",
       "      <td>ATTLEBORO</td>\n",
       "      <td>MA</td>\n",
       "      <td>2703</td>\n",
       "      <td>RI - Providence</td>\n",
       "      <td>11</td>\n",
       "      <td>41482.09</td>\n",
       "      <td>1790.18</td>\n",
       "      <td>4.32</td>\n",
       "      <td>76.660</td>\n",
       "      <td>0.056353</td>\n",
       "      <td>(0.0554, 0.709]</td>\n",
       "    </tr>\n",
       "    <tr>\n",
       "      <th>47957</th>\n",
       "      <td>247 - PERC CARDIOVASC PROC W DRUG-ELUTING STEN...</td>\n",
       "      <td>430095</td>\n",
       "      <td>AVERA HEART HOSPITAL OF SOUTH DAKOTA LLC</td>\n",
       "      <td>4500 W 69TH ST</td>\n",
       "      <td>SIOUX FALLS</td>\n",
       "      <td>SD</td>\n",
       "      <td>57108</td>\n",
       "      <td>SD - Sioux Falls</td>\n",
       "      <td>121</td>\n",
       "      <td>83484.14</td>\n",
       "      <td>9316.11</td>\n",
       "      <td>11.16</td>\n",
       "      <td>85.315</td>\n",
       "      <td>0.130809</td>\n",
       "      <td>(0.0554, 0.709]</td>\n",
       "    </tr>\n",
       "    <tr>\n",
       "      <th>49145</th>\n",
       "      <td>249 - PERC CARDIOVASC PROC W NON-DRUG-ELUTING ...</td>\n",
       "      <td>500051</td>\n",
       "      <td>OVERLAKE HOSPITAL MEDICAL CENTER</td>\n",
       "      <td>1035-116TH AVE NE</td>\n",
       "      <td>BELLEVUE</td>\n",
       "      <td>WA</td>\n",
       "      <td>98004</td>\n",
       "      <td>WA - Seattle</td>\n",
       "      <td>23</td>\n",
       "      <td>84499.26</td>\n",
       "      <td>8500.60</td>\n",
       "      <td>10.06</td>\n",
       "      <td>84.860</td>\n",
       "      <td>0.118548</td>\n",
       "      <td>(0.0554, 0.709]</td>\n",
       "    </tr>\n",
       "  </tbody>\n",
       "</table>\n",
       "</div>"
      ],
      "text/plain": [
       "                                                     DRG Provider_Id  \\\n",
       "20388        189 - PULMONARY EDEMA & RESPIRATORY FAILURE      390096   \n",
       "38923               203 - BRONCHITIS & ASTHMA W/O CC/MCC      220008   \n",
       "47957  247 - PERC CARDIOVASC PROC W DRUG-ELUTING STEN...      430095   \n",
       "49145  249 - PERC CARDIOVASC PROC W NON-DRUG-ELUTING ...      500051   \n",
       "\n",
       "                                  Provider_Name Provider_StreetAddress  \\\n",
       "20388                  ST JOSEPH MEDICAL CENTER    2500 BERNVILLE ROAD   \n",
       "38923                  STURDY MEMORIAL HOSPITAL        211 PARK STREET   \n",
       "47957  AVERA HEART HOSPITAL OF SOUTH DAKOTA LLC         4500 W 69TH ST   \n",
       "49145          OVERLAKE HOSPITAL MEDICAL CENTER      1035-116TH AVE NE   \n",
       "\n",
       "      Provider_City Provider_State  Provider_Zipcode  \\\n",
       "20388       READING             PA             19605   \n",
       "38923     ATTLEBORO             MA              2703   \n",
       "47957   SIOUX FALLS             SD             57108   \n",
       "49145      BELLEVUE             WA             98004   \n",
       "\n",
       "      Hospital_referral_region_desp  Total_Discharges  Average_Total_Payments  \\\n",
       "20388                  PA - Reading               143                72797.93   \n",
       "38923               RI - Providence                11                41482.09   \n",
       "47957              SD - Sioux Falls               121                83484.14   \n",
       "49145                  WA - Seattle                23                84499.26   \n",
       "\n",
       "       Average_Medicare_Payment  Medicare_Reimburse_Rate  \\\n",
       "20388                   7718.09                    10.60   \n",
       "38923                   1790.18                     4.32   \n",
       "47957                   9316.11                    11.16   \n",
       "49145                   8500.60                    10.06   \n",
       "\n",
       "       Median_Rate_ByStateDRG  drg_state_median_ratio_rate  \\\n",
       "20388                  89.490                     0.118449   \n",
       "38923                  76.660                     0.056353   \n",
       "47957                  85.315                     0.130809   \n",
       "49145                  84.860                     0.118548   \n",
       "\n",
       "      drg_state_median_ratio_rate_D  \n",
       "20388               (0.0554, 0.709]  \n",
       "38923               (0.0554, 0.709]  \n",
       "47957               (0.0554, 0.709]  \n",
       "49145               (0.0554, 0.709]  "
      ]
     },
     "execution_count": 28,
     "metadata": {},
     "output_type": "execute_result"
    }
   ],
   "source": [
    "data4[data4['drg_state_median_ratio_rate']<0.2]"
   ]
  },
  {
   "cell_type": "markdown",
   "id": "f2b38caa",
   "metadata": {},
   "source": [
    "There are 4 hospitals whose median Medicare payment amounts are less than 20% of the group's median. All of them are located in different states, and providing different DRG. Therefore, they are less likely to relate to each other. All of them have very low reimbursement rates (less than 12%). The reimbursement rates of STURDY MEMORIAL HOSPITAL is even less than 5%. The median payments of their peers, serving same ORG in the same state, are within a normal range. These 5 hospitals' low median Medicare payment amounts can not reasonably be explained, therefore, indeed abnormal. To be noted, these 4 hospitals are all identified as anomalies in feature 2's (ratio to the average of medicare reimbursement rates (grouping by DRG & State)) distribution as well. CMS can further invesitage with their transactional claims, including hospital's size and specialization, patient's demographics, type and frequency of drug usage, drug or other healthcare service's supplier, etc. It's important to consider these contextual factors when evaluating potential resource underutilization or inadequate reimbursement."
   ]
  },
  {
   "cell_type": "markdown",
   "id": "6b45e7e6",
   "metadata": {},
   "source": [
    "###  3.2 Benchmark: DRG & City average/median <a class=\"anchor\" id=\"32\"></a>\n",
    "Hospitals are grouped by DRG & City."
   ]
  },
  {
   "cell_type": "markdown",
   "id": "10261386",
   "metadata": {},
   "source": [
    "####  3.2.1 Feature 5: The ratio to the average of average medicare payment amount (grouping by DRG & City) <a class=\"anchor\" id=\"321\"></a>"
   ]
  },
  {
   "cell_type": "markdown",
   "id": "a8addecd",
   "metadata": {},
   "source": [
    "- The defined hospital group's average of average medicare payment amount is used as benchmark for anomaly detection. \n",
    "- The ratio of each hospital to the group average is calculated as the new feature. \n",
    "- To better look at the distribution of the ratios, I cut them into different groups by percentile, and then use a histogram to visualize the distribution."
   ]
  },
  {
   "cell_type": "code",
   "execution_count": 29,
   "id": "73102acd",
   "metadata": {
    "scrolled": false
   },
   "outputs": [
    {
     "data": {
      "text/plain": [
       "[Text(0, 0, '(0.261, 0.7]'),\n",
       " Text(1, 0, '(0.7, 0.809]'),\n",
       " Text(2, 0, '(0.809, 0.95]'),\n",
       " Text(3, 0, '(0.95, 1.0]'),\n",
       " Text(4, 0, '(1.0, 1.023]'),\n",
       " Text(5, 0, '(1.023, 1.21]'),\n",
       " Text(6, 0, '(1.21, 1.435]'),\n",
       " Text(7, 0, '(1.435, 3.847]')]"
      ]
     },
     "execution_count": 29,
     "metadata": {},
     "output_type": "execute_result"
    },
    {
     "data": {
      "image/png": "[encoded data removed]",
      "text/plain": [
       "<Figure size 600x400 with 1 Axes>"
      ]
     },
     "metadata": {},
     "output_type": "display_data"
    }
   ],
   "source": [
    "# create bencharmark table\n",
    "benchmark5 = data.groupby(['Provider_City','DRG'])['Average_Medicare_Payment'].mean().reset_index()\n",
    "benchmark5.columns = ['Provider_City','DRG','Avg_Amount_ByCityDRG']\n",
    "# add the new feature to the dataset \n",
    "data5 = pd.merge(data, benchmark5, how='left', on=['Provider_City', 'DRG'])\n",
    "data5['drg_city_avg_ratio_amount'] = np.where(data5['Avg_Amount_ByCityDRG']==0,0,data5['Average_Medicare_Payment'] / data5['Avg_Amount_ByCityDRG'])\n",
    "# cut by percentile for plotting\n",
    "var = 'drg_city_avg_ratio_amount'\n",
    "binned_var = var + '_D'\n",
    "percentile = [0,0.01,0.05,0.2,0.5,0.8,0.95,0.99,1]\n",
    "data5[binned_var] = pd.qcut(data5[var],percentile, duplicates = 'drop')\n",
    "# Histogram of new feature\n",
    "plt.figure(figsize=(6,4))\n",
    "g = sns.countplot(x=\"drg_city_avg_ratio_amount_D\", data=data5)\n",
    "g.set_xticklabels(g.get_xticklabels(), rotation=90)"
   ]
  },
  {
   "cell_type": "markdown",
   "id": "edc08c2c",
   "metadata": {},
   "source": [
    "- The distribution histogram shows most of the hospitals' average Medicare payment amounts are around the group's average, compared to the similar hospitals serving same DRG in the same city.\n",
    "- From the above distribution histogram, we can see that some hospitals' average Medicare payment amounts can be more than 3 times of the group's average, and their frequencies are extremely low. Therefore, we should identify these hospitals as anomalies. Same diagnosis should be treated with similar treatments, which are within a similar range of prices. The extremely high reimbursement amounts may indicate potential healthcare resources abuse or fraud, including excessive or unnecessary services, upcoding, unbundling, phantom billing and kickbacks. \n",
    "- Some hospitals' average Medicare payment amounts can be less than 30% of the group's average. It could due to the coverage of other insurance programs. However, it can also indicate some potential disparities in resource utilization. For example, some services provided by those hospitals may be necessary but not covered by Medicare. It can also be indicators of problematic claims. \n",
    "- While building the unsupervised machine learning models for better detection, clustering analysis of this feature can be considered to highlight similar (specialization and size) hospitals and identify outlier hospitals for further analysis. Link analysis of this feature can help detect excessive or unnecessary services within and across hospital groups.\n",
    "- I am going to have an initial investigation on the hospitals identified as anomalies."
   ]
  },
  {
   "cell_type": "code",
   "execution_count": 30,
   "id": "4766f1d2",
   "metadata": {},
   "outputs": [
    {
     "data": {
      "text/html": [
       "<div>\n",
       "<style scoped>\n",
       "    .dataframe tbody tr th:only-of-type {\n",
       "        vertical-align: middle;\n",
       "    }\n",
       "\n",
       "    .dataframe tbody tr th {\n",
       "        vertical-align: top;\n",
       "    }\n",
       "\n",
       "    .dataframe thead th {\n",
       "        text-align: right;\n",
       "    }\n",
       "</style>\n",
       "<table border=\"1\" class=\"dataframe\">\n",
       "  <thead>\n",
       "    <tr style=\"text-align: right;\">\n",
       "      <th></th>\n",
       "      <th>DRG</th>\n",
       "      <th>Provider_Id</th>\n",
       "      <th>Provider_Name</th>\n",
       "      <th>Provider_StreetAddress</th>\n",
       "      <th>Provider_City</th>\n",
       "      <th>Provider_State</th>\n",
       "      <th>Provider_Zipcode</th>\n",
       "      <th>Hospital_referral_region_desp</th>\n",
       "      <th>Total_Discharges</th>\n",
       "      <th>Average_Total_Payments</th>\n",
       "      <th>Average_Medicare_Payment</th>\n",
       "      <th>Medicare_Reimburse_Rate</th>\n",
       "      <th>Avg_Amount_ByCityDRG</th>\n",
       "      <th>drg_city_avg_ratio_amount</th>\n",
       "      <th>drg_city_avg_ratio_amount_D</th>\n",
       "    </tr>\n",
       "  </thead>\n",
       "  <tbody>\n",
       "    <tr>\n",
       "      <th>37716</th>\n",
       "      <td>202 - BRONCHITIS &amp; ASTHMA W CC/MCC</td>\n",
       "      <td>210009</td>\n",
       "      <td>JOHNS HOPKINS HOSPITAL, THE</td>\n",
       "      <td>600 NORTH  WOLFE STREET</td>\n",
       "      <td>BALTIMORE</td>\n",
       "      <td>MD</td>\n",
       "      <td>21287</td>\n",
       "      <td>MD - Baltimore</td>\n",
       "      <td>17</td>\n",
       "      <td>41458.47</td>\n",
       "      <td>37236.0</td>\n",
       "      <td>89.82</td>\n",
       "      <td>9679.581</td>\n",
       "      <td>3.846861</td>\n",
       "      <td>(1.435, 3.847]</td>\n",
       "    </tr>\n",
       "  </tbody>\n",
       "</table>\n",
       "</div>"
      ],
      "text/plain": [
       "                                      DRG Provider_Id  \\\n",
       "37716  202 - BRONCHITIS & ASTHMA W CC/MCC      210009   \n",
       "\n",
       "                     Provider_Name   Provider_StreetAddress Provider_City  \\\n",
       "37716  JOHNS HOPKINS HOSPITAL, THE  600 NORTH  WOLFE STREET     BALTIMORE   \n",
       "\n",
       "      Provider_State  Provider_Zipcode Hospital_referral_region_desp  \\\n",
       "37716             MD             21287                MD - Baltimore   \n",
       "\n",
       "       Total_Discharges  Average_Total_Payments  Average_Medicare_Payment  \\\n",
       "37716                17                41458.47                   37236.0   \n",
       "\n",
       "       Medicare_Reimburse_Rate  Avg_Amount_ByCityDRG  \\\n",
       "37716                    89.82              9679.581   \n",
       "\n",
       "       drg_city_avg_ratio_amount drg_city_avg_ratio_amount_D  \n",
       "37716                   3.846861              (1.435, 3.847]  "
      ]
     },
     "execution_count": 30,
     "metadata": {},
     "output_type": "execute_result"
    }
   ],
   "source": [
    "data5[data5['drg_city_avg_ratio_amount'] > 3]"
   ]
  },
  {
   "cell_type": "markdown",
   "id": "2c3876e0",
   "metadata": {},
   "source": [
    "There is 1 hospital whose average Medicare payment amounts are more than 3 times of the group's average. To be noted, this hospital has been identified as anomaly in feature 1 and 3's (the Medicare payment amount ratios under the DRG & City group) distributions as well. The average payment of its peers, serving same ORG in the same city, is within a normal range. This hospital's high average Medicare payment amounts can not reasonably be explained, therefore, indeed abnormal. CMS can further invesitage with their transactional claims, including hospital's specialization and size, patient's demographics, type and frequency of drug usage, drug or other healthcare service's supplier, etc. It's important to consider these contextual factors when evaluating potential resource abuse."
   ]
  },
  {
   "cell_type": "code",
   "execution_count": 31,
   "id": "0441b715",
   "metadata": {},
   "outputs": [
    {
     "data": {
      "text/html": [
       "<div>\n",
       "<style scoped>\n",
       "    .dataframe tbody tr th:only-of-type {\n",
       "        vertical-align: middle;\n",
       "    }\n",
       "\n",
       "    .dataframe tbody tr th {\n",
       "        vertical-align: top;\n",
       "    }\n",
       "\n",
       "    .dataframe thead th {\n",
       "        text-align: right;\n",
       "    }\n",
       "</style>\n",
       "<table border=\"1\" class=\"dataframe\">\n",
       "  <thead>\n",
       "    <tr style=\"text-align: right;\">\n",
       "      <th></th>\n",
       "      <th>DRG</th>\n",
       "      <th>Provider_Id</th>\n",
       "      <th>Provider_Name</th>\n",
       "      <th>Provider_StreetAddress</th>\n",
       "      <th>Provider_City</th>\n",
       "      <th>Provider_State</th>\n",
       "      <th>Provider_Zipcode</th>\n",
       "      <th>Hospital_referral_region_desp</th>\n",
       "      <th>Total_Discharges</th>\n",
       "      <th>Average_Total_Payments</th>\n",
       "      <th>Average_Medicare_Payment</th>\n",
       "      <th>Medicare_Reimburse_Rate</th>\n",
       "      <th>Avg_Amount_ByCityDRG</th>\n",
       "      <th>drg_city_avg_ratio_amount</th>\n",
       "      <th>drg_city_avg_ratio_amount_D</th>\n",
       "    </tr>\n",
       "  </thead>\n",
       "  <tbody>\n",
       "    <tr>\n",
       "      <th>109456</th>\n",
       "      <td>460 - SPINAL FUSION EXCEPT CERVICAL W/O MCC</td>\n",
       "      <td>150126</td>\n",
       "      <td>FRANCISCAN ST ANTHONY HEALTH - CROWN POINT</td>\n",
       "      <td>1201 S MAIN ST</td>\n",
       "      <td>CROWN POINT</td>\n",
       "      <td>IN</td>\n",
       "      <td>46307</td>\n",
       "      <td>IN - Gary</td>\n",
       "      <td>13</td>\n",
       "      <td>23478.61</td>\n",
       "      <td>19644.84</td>\n",
       "      <td>83.67</td>\n",
       "      <td>75055.705</td>\n",
       "      <td>0.261737</td>\n",
       "      <td>(0.261, 0.7]</td>\n",
       "    </tr>\n",
       "  </tbody>\n",
       "</table>\n",
       "</div>"
      ],
      "text/plain": [
       "                                                DRG Provider_Id  \\\n",
       "109456  460 - SPINAL FUSION EXCEPT CERVICAL W/O MCC      150126   \n",
       "\n",
       "                                     Provider_Name Provider_StreetAddress  \\\n",
       "109456  FRANCISCAN ST ANTHONY HEALTH - CROWN POINT         1201 S MAIN ST   \n",
       "\n",
       "       Provider_City Provider_State  Provider_Zipcode  \\\n",
       "109456   CROWN POINT             IN             46307   \n",
       "\n",
       "       Hospital_referral_region_desp  Total_Discharges  \\\n",
       "109456                     IN - Gary                13   \n",
       "\n",
       "        Average_Total_Payments  Average_Medicare_Payment  \\\n",
       "109456                23478.61                  19644.84   \n",
       "\n",
       "        Medicare_Reimburse_Rate  Avg_Amount_ByCityDRG  \\\n",
       "109456                    83.67             75055.705   \n",
       "\n",
       "        drg_city_avg_ratio_amount drg_city_avg_ratio_amount_D  \n",
       "109456                   0.261737                (0.261, 0.7]  "
      ]
     },
     "execution_count": 31,
     "metadata": {},
     "output_type": "execute_result"
    }
   ],
   "source": [
    "data5[data5['drg_city_avg_ratio_amount'] < 0.3]"
   ]
  },
  {
   "cell_type": "markdown",
   "id": "635a0ddc",
   "metadata": {},
   "source": [
    "There is 1 hospital whose average Medicare payment amounts are less than 30% of the group's average. However, its reimbursement rate (84%) is closed to the national average reimbursement rate. Therefore, the low average Medicare payment amounts might be caused by the hospital's small size or the DRG (460 - SPINAL FUSION EXCEPT CERVICAL W/O MCC) might not be the hospital's specialized service. It may not be an anomaly."
   ]
  },
  {
   "cell_type": "markdown",
   "id": "c03085a9",
   "metadata": {},
   "source": [
    "####  3.2.2 Feature 6: The ratio to the average medicare reimbursement rate (grouping by DRG & City) <a class=\"anchor\" id=\"322\"></a>"
   ]
  },
  {
   "cell_type": "markdown",
   "id": "ffb21bd6",
   "metadata": {},
   "source": [
    "- The defined hospital group's average of medicare reimbursement rate is used as benchmark for anomaly detection. \n",
    "- The ratio of each hospital to the group average is calculated as the new feature. \n",
    "- To better look at the distribution of the ratios, I cut them into different groups by percentile, and then use a histogram to visualize the distribution."
   ]
  },
  {
   "cell_type": "code",
   "execution_count": 32,
   "id": "9f4d3be9",
   "metadata": {
    "scrolled": false
   },
   "outputs": [
    {
     "data": {
      "text/plain": [
       "[Text(0, 0, '(0.213, 0.831]'),\n",
       " Text(1, 0, '(0.831, 0.929]'),\n",
       " Text(2, 0, '(0.929, 0.992]'),\n",
       " Text(3, 0, '(0.992, 1.0]'),\n",
       " Text(4, 0, '(1.0, 1.014]'),\n",
       " Text(5, 0, '(1.014, 1.069]'),\n",
       " Text(6, 0, '(1.069, 1.134]'),\n",
       " Text(7, 0, '(1.134, 1.786]')]"
      ]
     },
     "execution_count": 32,
     "metadata": {},
     "output_type": "execute_result"
    },
    {
     "data": {
      "image/png": "[encoded data removed]",
      "text/plain": [
       "<Figure size 600x400 with 1 Axes>"
      ]
     },
     "metadata": {},
     "output_type": "display_data"
    }
   ],
   "source": [
    "# create bencharmark table\n",
    "benchmark6 = data.groupby(['Provider_City','DRG'])['Medicare_Reimburse_Rate'].mean().reset_index()\n",
    "benchmark6.columns = ['Provider_City','DRG','Avg_Rate_ByCityDRG']\n",
    "# add the new feature to the dataset \n",
    "data6 = pd.merge(data, benchmark6, how='left', on=['Provider_City', 'DRG'])\n",
    "data6['drg_city_avg_ratio_rate'] = np.where(data6['Avg_Rate_ByCityDRG']==0,0,data6['Medicare_Reimburse_Rate'] / data6['Avg_Rate_ByCityDRG'])\n",
    "# cut by percentile for plotting\n",
    "var = 'drg_city_avg_ratio_rate'\n",
    "binned_var = var + '_D'\n",
    "percentile = [0,0.01,0.05,0.2,0.5,0.8,0.95,0.99,1]\n",
    "data6[binned_var] = pd.qcut(data6[var],percentile, duplicates = 'drop')\n",
    "# Histogram of new feature\n",
    "plt.figure(figsize=(6,4))\n",
    "g = sns.countplot(x=\"drg_city_avg_ratio_rate_D\", data=data6)\n",
    "g.set_xticklabels(g.get_xticklabels(), rotation=90)"
   ]
  },
  {
   "cell_type": "markdown",
   "id": "bbb5d930",
   "metadata": {},
   "source": [
    "- The distribution histogram shows most of the hospitals' average Medicare reimbursement rates are around the group's average, compared to the similar hospitals serving same DRG in the same city. \n",
    "- From the above distribution histogram, we can see that some hospitals' average Medicare reimbursement rates are just more than 1.7 times of the group's average, and their frequencies are extremely low. Therefore, we should identify these hospitals as anomalies. We've discussed in EDA that the national average Medicare reimbursement rate is very high (85%), so the just 70% increase could make the reimbursement rate reaching to 100%, which means all of the hospital's bills are reimbursed by Medicare. Same diagnosis should be treated with similar treatments, which are within the same range of reimbursement rate, according to Medicare's insurance policy. The extremely high reimbursement amounts may indicate potential healthcare resources abuse or fraud, including excessive or unnecessary services, upcoding, unbundling, phantom billing. \n",
    "- Some hospitals' average Medicare reimbursement rates can be less than 30% of the group's average. It could due to the coverage of other insurance programs. However, it can also indicate some potential disparities in resource utilization. For example, some services provided by those hospitals may be necessary but not covered by Medicare. It can also be indicators of problematic claims. \n",
    "- While building the unsupervised machine learning models for better detection, clustering analysis of this feature can be considered to highlight similar (specialization and size) hospitals and identify outlier hospitals for further analysis. Link analysis of this feature can help detect excessive or unnecessary services within and across hospital groups.\n",
    "- I am going to have an initial investigation on the hospitals identified as anomalies."
   ]
  },
  {
   "cell_type": "code",
   "execution_count": 33,
   "id": "2d49899b",
   "metadata": {},
   "outputs": [
    {
     "data": {
      "text/html": [
       "<div>\n",
       "<style scoped>\n",
       "    .dataframe tbody tr th:only-of-type {\n",
       "        vertical-align: middle;\n",
       "    }\n",
       "\n",
       "    .dataframe tbody tr th {\n",
       "        vertical-align: top;\n",
       "    }\n",
       "\n",
       "    .dataframe thead th {\n",
       "        text-align: right;\n",
       "    }\n",
       "</style>\n",
       "<table border=\"1\" class=\"dataframe\">\n",
       "  <thead>\n",
       "    <tr style=\"text-align: right;\">\n",
       "      <th></th>\n",
       "      <th>DRG</th>\n",
       "      <th>Provider_Id</th>\n",
       "      <th>Provider_Name</th>\n",
       "      <th>Provider_StreetAddress</th>\n",
       "      <th>Provider_City</th>\n",
       "      <th>Provider_State</th>\n",
       "      <th>Provider_Zipcode</th>\n",
       "      <th>Hospital_referral_region_desp</th>\n",
       "      <th>Total_Discharges</th>\n",
       "      <th>Average_Total_Payments</th>\n",
       "      <th>Average_Medicare_Payment</th>\n",
       "      <th>Medicare_Reimburse_Rate</th>\n",
       "      <th>Avg_Rate_ByCityDRG</th>\n",
       "      <th>drg_city_avg_ratio_rate</th>\n",
       "      <th>drg_city_avg_ratio_rate_D</th>\n",
       "    </tr>\n",
       "  </thead>\n",
       "  <tbody>\n",
       "    <tr>\n",
       "      <th>20368</th>\n",
       "      <td>189 - PULMONARY EDEMA &amp; RESPIRATORY FAILURE</td>\n",
       "      <td>390044</td>\n",
       "      <td>READING HOSPITAL MEDICAL CENTER</td>\n",
       "      <td>SIXTH AVENUE AND SPRUCE ST</td>\n",
       "      <td>READING</td>\n",
       "      <td>PA</td>\n",
       "      <td>19603</td>\n",
       "      <td>PA - Reading</td>\n",
       "      <td>117</td>\n",
       "      <td>9842.23</td>\n",
       "      <td>8687.55</td>\n",
       "      <td>88.27</td>\n",
       "      <td>49.435</td>\n",
       "      <td>1.785577</td>\n",
       "      <td>(1.134, 1.786]</td>\n",
       "    </tr>\n",
       "    <tr>\n",
       "      <th>47955</th>\n",
       "      <td>247 - PERC CARDIOVASC PROC W DRUG-ELUTING STEN...</td>\n",
       "      <td>430027</td>\n",
       "      <td>SANFORD USD MEDICAL CENTER</td>\n",
       "      <td>1305 W 18TH ST  PO BOX 5039</td>\n",
       "      <td>SIOUX FALLS</td>\n",
       "      <td>SD</td>\n",
       "      <td>57117</td>\n",
       "      <td>SD - Sioux Falls</td>\n",
       "      <td>183</td>\n",
       "      <td>12408.42</td>\n",
       "      <td>11159.24</td>\n",
       "      <td>89.93</td>\n",
       "      <td>50.545</td>\n",
       "      <td>1.779207</td>\n",
       "      <td>(1.134, 1.786]</td>\n",
       "    </tr>\n",
       "  </tbody>\n",
       "</table>\n",
       "</div>"
      ],
      "text/plain": [
       "                                                     DRG Provider_Id  \\\n",
       "20368        189 - PULMONARY EDEMA & RESPIRATORY FAILURE      390044   \n",
       "47955  247 - PERC CARDIOVASC PROC W DRUG-ELUTING STEN...      430027   \n",
       "\n",
       "                         Provider_Name       Provider_StreetAddress  \\\n",
       "20368  READING HOSPITAL MEDICAL CENTER   SIXTH AVENUE AND SPRUCE ST   \n",
       "47955       SANFORD USD MEDICAL CENTER  1305 W 18TH ST  PO BOX 5039   \n",
       "\n",
       "      Provider_City Provider_State  Provider_Zipcode  \\\n",
       "20368       READING             PA             19603   \n",
       "47955   SIOUX FALLS             SD             57117   \n",
       "\n",
       "      Hospital_referral_region_desp  Total_Discharges  Average_Total_Payments  \\\n",
       "20368                  PA - Reading               117                 9842.23   \n",
       "47955              SD - Sioux Falls               183                12408.42   \n",
       "\n",
       "       Average_Medicare_Payment  Medicare_Reimburse_Rate  Avg_Rate_ByCityDRG  \\\n",
       "20368                   8687.55                    88.27              49.435   \n",
       "47955                  11159.24                    89.93              50.545   \n",
       "\n",
       "       drg_city_avg_ratio_rate drg_city_avg_ratio_rate_D  \n",
       "20368                 1.785577            (1.134, 1.786]  \n",
       "47955                 1.779207            (1.134, 1.786]  "
      ]
     },
     "execution_count": 33,
     "metadata": {},
     "output_type": "execute_result"
    }
   ],
   "source": [
    "data6[data6['drg_city_avg_ratio_rate'] > 1.7]"
   ]
  },
  {
   "cell_type": "markdown",
   "id": "ef56f1bf",
   "metadata": {},
   "source": [
    "There are 2 hospitals whose average Medicare reimbursement rates are more than 1.35 times of the group's average. All of them are located in different cities, and providing different DRG. Therefore, they are less likely to relate to each other. All of them have high reimbursement rates (more than 88%) compared to to their peers (less than 51%). The average reimbursement rates of their peers, serving same ORG in the same cities, are within a normal range. To be noted, the hospital (SANFORD USD MEDICAL CENTER) has been identified as anomaly in feature 2's (ratio to the average of average medicare reimbursement rate (grouping by DRG & State)) distribution as well. This hospital's high average Medicare reimbursement rates can not reasonably be explained, therefore, indeed abnormal. CMS can further invesitage with their transactional claims, including hospital's specialization and size, patient's demographics, type and frequency of drug usage, drug or other healthcare service's supplier, etc. It's important to consider these contextual factors when evaluating potential resource abuse."
   ]
  },
  {
   "cell_type": "code",
   "execution_count": 34,
   "id": "25c53806",
   "metadata": {},
   "outputs": [
    {
     "data": {
      "text/html": [
       "<div>\n",
       "<style scoped>\n",
       "    .dataframe tbody tr th:only-of-type {\n",
       "        vertical-align: middle;\n",
       "    }\n",
       "\n",
       "    .dataframe tbody tr th {\n",
       "        vertical-align: top;\n",
       "    }\n",
       "\n",
       "    .dataframe thead th {\n",
       "        text-align: right;\n",
       "    }\n",
       "</style>\n",
       "<table border=\"1\" class=\"dataframe\">\n",
       "  <thead>\n",
       "    <tr style=\"text-align: right;\">\n",
       "      <th></th>\n",
       "      <th>DRG</th>\n",
       "      <th>Provider_Id</th>\n",
       "      <th>Provider_Name</th>\n",
       "      <th>Provider_StreetAddress</th>\n",
       "      <th>Provider_City</th>\n",
       "      <th>Provider_State</th>\n",
       "      <th>Provider_Zipcode</th>\n",
       "      <th>Hospital_referral_region_desp</th>\n",
       "      <th>Total_Discharges</th>\n",
       "      <th>Average_Total_Payments</th>\n",
       "      <th>Average_Medicare_Payment</th>\n",
       "      <th>Medicare_Reimburse_Rate</th>\n",
       "      <th>Avg_Rate_ByCityDRG</th>\n",
       "      <th>drg_city_avg_ratio_rate</th>\n",
       "      <th>drg_city_avg_ratio_rate_D</th>\n",
       "    </tr>\n",
       "  </thead>\n",
       "  <tbody>\n",
       "    <tr>\n",
       "      <th>20388</th>\n",
       "      <td>189 - PULMONARY EDEMA &amp; RESPIRATORY FAILURE</td>\n",
       "      <td>390096</td>\n",
       "      <td>ST JOSEPH MEDICAL CENTER</td>\n",
       "      <td>2500 BERNVILLE ROAD</td>\n",
       "      <td>READING</td>\n",
       "      <td>PA</td>\n",
       "      <td>19605</td>\n",
       "      <td>PA - Reading</td>\n",
       "      <td>143</td>\n",
       "      <td>72797.93</td>\n",
       "      <td>7718.09</td>\n",
       "      <td>10.60</td>\n",
       "      <td>49.4350</td>\n",
       "      <td>0.214423</td>\n",
       "      <td>(0.213, 0.831]</td>\n",
       "    </tr>\n",
       "    <tr>\n",
       "      <th>47957</th>\n",
       "      <td>247 - PERC CARDIOVASC PROC W DRUG-ELUTING STEN...</td>\n",
       "      <td>430095</td>\n",
       "      <td>AVERA HEART HOSPITAL OF SOUTH DAKOTA LLC</td>\n",
       "      <td>4500 W 69TH ST</td>\n",
       "      <td>SIOUX FALLS</td>\n",
       "      <td>SD</td>\n",
       "      <td>57108</td>\n",
       "      <td>SD - Sioux Falls</td>\n",
       "      <td>121</td>\n",
       "      <td>83484.14</td>\n",
       "      <td>9316.11</td>\n",
       "      <td>11.16</td>\n",
       "      <td>50.5450</td>\n",
       "      <td>0.220793</td>\n",
       "      <td>(0.213, 0.831]</td>\n",
       "    </tr>\n",
       "    <tr>\n",
       "      <th>146340</th>\n",
       "      <td>699 - OTHER KIDNEY &amp; URINARY TRACT DIAGNOSES W CC</td>\n",
       "      <td>450056</td>\n",
       "      <td>SETON MEDICAL CENTER AUSTIN</td>\n",
       "      <td>1201 W 38TH ST</td>\n",
       "      <td>AUSTIN</td>\n",
       "      <td>TX</td>\n",
       "      <td>78705</td>\n",
       "      <td>TX - Austin</td>\n",
       "      <td>31</td>\n",
       "      <td>20136.45</td>\n",
       "      <td>3871.70</td>\n",
       "      <td>19.23</td>\n",
       "      <td>66.5875</td>\n",
       "      <td>0.288793</td>\n",
       "      <td>(0.213, 0.831]</td>\n",
       "    </tr>\n",
       "  </tbody>\n",
       "</table>\n",
       "</div>"
      ],
      "text/plain": [
       "                                                      DRG Provider_Id  \\\n",
       "20388         189 - PULMONARY EDEMA & RESPIRATORY FAILURE      390096   \n",
       "47957   247 - PERC CARDIOVASC PROC W DRUG-ELUTING STEN...      430095   \n",
       "146340  699 - OTHER KIDNEY & URINARY TRACT DIAGNOSES W CC      450056   \n",
       "\n",
       "                                   Provider_Name Provider_StreetAddress  \\\n",
       "20388                   ST JOSEPH MEDICAL CENTER    2500 BERNVILLE ROAD   \n",
       "47957   AVERA HEART HOSPITAL OF SOUTH DAKOTA LLC         4500 W 69TH ST   \n",
       "146340               SETON MEDICAL CENTER AUSTIN         1201 W 38TH ST   \n",
       "\n",
       "       Provider_City Provider_State  Provider_Zipcode  \\\n",
       "20388        READING             PA             19605   \n",
       "47957    SIOUX FALLS             SD             57108   \n",
       "146340        AUSTIN             TX             78705   \n",
       "\n",
       "       Hospital_referral_region_desp  Total_Discharges  \\\n",
       "20388                   PA - Reading               143   \n",
       "47957               SD - Sioux Falls               121   \n",
       "146340                   TX - Austin                31   \n",
       "\n",
       "        Average_Total_Payments  Average_Medicare_Payment  \\\n",
       "20388                 72797.93                   7718.09   \n",
       "47957                 83484.14                   9316.11   \n",
       "146340                20136.45                   3871.70   \n",
       "\n",
       "        Medicare_Reimburse_Rate  Avg_Rate_ByCityDRG  drg_city_avg_ratio_rate  \\\n",
       "20388                     10.60             49.4350                 0.214423   \n",
       "47957                     11.16             50.5450                 0.220793   \n",
       "146340                    19.23             66.5875                 0.288793   \n",
       "\n",
       "       drg_city_avg_ratio_rate_D  \n",
       "20388             (0.213, 0.831]  \n",
       "47957             (0.213, 0.831]  \n",
       "146340            (0.213, 0.831]  "
      ]
     },
     "execution_count": 34,
     "metadata": {},
     "output_type": "execute_result"
    }
   ],
   "source": [
    "data6[data6['drg_city_avg_ratio_rate'] < 0.3]"
   ]
  },
  {
   "cell_type": "markdown",
   "id": "ac7b60d8",
   "metadata": {},
   "source": [
    "There are 3 hospitals whose average Medicare reimbursement rates are less than 30% of the group's average. All of them are located in different cities, and providing different DRG. Therefore, they are less likely to relate to each other. All of them have very low reimbursement rates (less than 20%). The average reimbursement rates of their peers, serving same ORG in the same city, is within a normal range. These 3 hospitals' low average Medicare reimbursement rates can not reasonably be explained, therefore, indeed abnormal. CMS can further invesitage with their transactional claims, including hospital's size and specialization, patient's demographics, type and frequency of drug usage, drug or other healthcare service's supplier, etc. It's important to consider these contextual factors when evaluating potential resource underutilization or inadequate reimbursement."
   ]
  },
  {
   "cell_type": "markdown",
   "id": "ef4f33e1",
   "metadata": {},
   "source": [
    "####  3.2.3 Feature 7: The ratio to the median of average medicare payment amount (grouping by DRG & City) <a class=\"anchor\" id=\"323\"></a>"
   ]
  },
  {
   "cell_type": "markdown",
   "id": "acd7876e",
   "metadata": {},
   "source": [
    "- The defined hospital group's median of average medicare payment amount is used as benchmark for anomaly detection. \n",
    "- The ratio of each hospital to the group median is calculated as the new feature. \n",
    "- To better look at the distribution of the ratios, I cut them into different groups by percentile, and then use a histogram to visualize the distribution."
   ]
  },
  {
   "cell_type": "code",
   "execution_count": 35,
   "id": "5851fa10",
   "metadata": {},
   "outputs": [
    {
     "data": {
      "text/plain": [
       "[Text(0, 0, '(0.261, 0.709]'),\n",
       " Text(1, 0, '(0.709, 0.837]'),\n",
       " Text(2, 0, '(0.837, 0.979]'),\n",
       " Text(3, 0, '(0.979, 1.0]'),\n",
       " Text(4, 0, '(1.0, 1.022]'),\n",
       " Text(5, 0, '(1.022, 1.238]'),\n",
       " Text(6, 0, '(1.238, 1.572]'),\n",
       " Text(7, 0, '(1.572, 5.734]')]"
      ]
     },
     "execution_count": 35,
     "metadata": {},
     "output_type": "execute_result"
    },
    {
     "data": {
      "image/png": "[encoded data removed]",
      "text/plain": [
       "<Figure size 600x400 with 1 Axes>"
      ]
     },
     "metadata": {},
     "output_type": "display_data"
    }
   ],
   "source": [
    "# create bencharmark table\n",
    "benchmark7 = data.groupby(['Provider_City','DRG'])['Average_Medicare_Payment'].median().reset_index()\n",
    "benchmark7.columns = ['Provider_City','DRG','Median_Amount_ByCityDRG']\n",
    "# add the new feature to the dataset \n",
    "data7 = pd.merge(data, benchmark7, how='left', on=['Provider_City', 'DRG'])\n",
    "data7['drg_city_median_ratio_amount'] = np.where(data7['Median_Amount_ByCityDRG']==0,0,data7['Average_Medicare_Payment'] / data7['Median_Amount_ByCityDRG'])\n",
    "# cut by percentile for plotting\n",
    "var = 'drg_city_median_ratio_amount'\n",
    "binned_var = var + '_D'\n",
    "percentile = [0,0.01,0.05,0.2,0.5,0.8,0.95,0.99,1]\n",
    "data7[binned_var] = pd.qcut(data7[var],percentile, duplicates = 'drop')\n",
    "# Histogram of new feature\n",
    "plt.figure(figsize=(6,4))\n",
    "g = sns.countplot(x=\"drg_city_median_ratio_amount_D\", data=data7)\n",
    "g.set_xticklabels(g.get_xticklabels(), rotation=90)"
   ]
  },
  {
   "cell_type": "markdown",
   "id": "ef7336b1",
   "metadata": {},
   "source": [
    "- The distribution histogram shows most of the hospitals' median Medicare payment amounts are around the group's median, compared to the similar hospitals serving same DRG in the same state.\n",
    "- From the above distribution histogram, we can see that some hospitals' median Medicare payment amounts can be more than 5 times of the group's median, and their frequencies are extremely low. Therefore, we should identify these hospitals as anomalies. Same diagnosis should be treated with similar treatments, which are within a similar range of prices. The extremely high reimbursement amounts may indicate potential healthcare resources abuse or fraud, including excessive or unnecessary services, upcoding, unbundling, phantom billing and kickbacks.\n",
    "- Some hospitals' median medicare payment amounts can be less than 30% of the group's median. It could due to the coverage of other insurance programs. However, it can also indicate some potential disparities in resource utilization. For example, some services provided by those hospitals may be necessary but not covered by Medicare. It can also be indicators of problematic claims.\n",
    "- While building the unsupervised machine learning models for better detection, clustering analysis of this feature can be considered to highlight similar (specialization and size) hospitals and identify outlier hospitals for further analysis. Link analysis of this feature can help detect excessive or unnecessary services within and across hospital groups.\n",
    "- I am going to have an initial investigation on the hospitals identified as anomalies."
   ]
  },
  {
   "cell_type": "code",
   "execution_count": 36,
   "id": "cf34b9e6",
   "metadata": {
    "scrolled": true
   },
   "outputs": [
    {
     "data": {
      "text/html": [
       "<div>\n",
       "<style scoped>\n",
       "    .dataframe tbody tr th:only-of-type {\n",
       "        vertical-align: middle;\n",
       "    }\n",
       "\n",
       "    .dataframe tbody tr th {\n",
       "        vertical-align: top;\n",
       "    }\n",
       "\n",
       "    .dataframe thead th {\n",
       "        text-align: right;\n",
       "    }\n",
       "</style>\n",
       "<table border=\"1\" class=\"dataframe\">\n",
       "  <thead>\n",
       "    <tr style=\"text-align: right;\">\n",
       "      <th></th>\n",
       "      <th>DRG</th>\n",
       "      <th>Provider_Id</th>\n",
       "      <th>Provider_Name</th>\n",
       "      <th>Provider_StreetAddress</th>\n",
       "      <th>Provider_City</th>\n",
       "      <th>Provider_State</th>\n",
       "      <th>Provider_Zipcode</th>\n",
       "      <th>Hospital_referral_region_desp</th>\n",
       "      <th>Total_Discharges</th>\n",
       "      <th>Average_Total_Payments</th>\n",
       "      <th>Average_Medicare_Payment</th>\n",
       "      <th>Medicare_Reimburse_Rate</th>\n",
       "      <th>Median_Amount_ByCityDRG</th>\n",
       "      <th>drg_city_median_ratio_amount</th>\n",
       "      <th>drg_city_median_ratio_amount_D</th>\n",
       "    </tr>\n",
       "  </thead>\n",
       "  <tbody>\n",
       "    <tr>\n",
       "      <th>37716</th>\n",
       "      <td>202 - BRONCHITIS &amp; ASTHMA W CC/MCC</td>\n",
       "      <td>210009</td>\n",
       "      <td>JOHNS HOPKINS HOSPITAL, THE</td>\n",
       "      <td>600 NORTH  WOLFE STREET</td>\n",
       "      <td>BALTIMORE</td>\n",
       "      <td>MD</td>\n",
       "      <td>21287</td>\n",
       "      <td>MD - Baltimore</td>\n",
       "      <td>17</td>\n",
       "      <td>41458.47</td>\n",
       "      <td>37236.0</td>\n",
       "      <td>89.82</td>\n",
       "      <td>6494.005</td>\n",
       "      <td>5.733904</td>\n",
       "      <td>(1.572, 5.734]</td>\n",
       "    </tr>\n",
       "  </tbody>\n",
       "</table>\n",
       "</div>"
      ],
      "text/plain": [
       "                                      DRG Provider_Id  \\\n",
       "37716  202 - BRONCHITIS & ASTHMA W CC/MCC      210009   \n",
       "\n",
       "                     Provider_Name   Provider_StreetAddress Provider_City  \\\n",
       "37716  JOHNS HOPKINS HOSPITAL, THE  600 NORTH  WOLFE STREET     BALTIMORE   \n",
       "\n",
       "      Provider_State  Provider_Zipcode Hospital_referral_region_desp  \\\n",
       "37716             MD             21287                MD - Baltimore   \n",
       "\n",
       "       Total_Discharges  Average_Total_Payments  Average_Medicare_Payment  \\\n",
       "37716                17                41458.47                   37236.0   \n",
       "\n",
       "       Medicare_Reimburse_Rate  Median_Amount_ByCityDRG  \\\n",
       "37716                    89.82                 6494.005   \n",
       "\n",
       "       drg_city_median_ratio_amount drg_city_median_ratio_amount_D  \n",
       "37716                      5.733904                 (1.572, 5.734]  "
      ]
     },
     "execution_count": 36,
     "metadata": {},
     "output_type": "execute_result"
    }
   ],
   "source": [
    "data7[data7['drg_city_median_ratio_amount']>5]"
   ]
  },
  {
   "cell_type": "markdown",
   "id": "22d28110",
   "metadata": {},
   "source": [
    "There is 1 hospital whose median Medicare payment amounts are more than 5 times of the group's median. To be noted, this hospital has been identified as anomaly in feature 1, 3 and 5's (the previous Medicare payment amount ratios) distributions as well. Its Medicare reimbursement rate (90%) is higher than the national average. The mean payment of its peers, serving same ORG in the same city, is within a normal range. This hospital's high average Medicare payment amounts can not reasonably be explained, therefore, indeed abnormal. CMS can further invesitage with their transactional claims, including hospital's specialization and size, patient's demographics, type and frequency of drug usage, drug or other healthcare service's supplier, etc. It's important to consider these contextual factors when evaluating potential resource abuse."
   ]
  },
  {
   "cell_type": "code",
   "execution_count": 37,
   "id": "cb0026d8",
   "metadata": {},
   "outputs": [
    {
     "data": {
      "text/html": [
       "<div>\n",
       "<style scoped>\n",
       "    .dataframe tbody tr th:only-of-type {\n",
       "        vertical-align: middle;\n",
       "    }\n",
       "\n",
       "    .dataframe tbody tr th {\n",
       "        vertical-align: top;\n",
       "    }\n",
       "\n",
       "    .dataframe thead th {\n",
       "        text-align: right;\n",
       "    }\n",
       "</style>\n",
       "<table border=\"1\" class=\"dataframe\">\n",
       "  <thead>\n",
       "    <tr style=\"text-align: right;\">\n",
       "      <th></th>\n",
       "      <th>DRG</th>\n",
       "      <th>Provider_Id</th>\n",
       "      <th>Provider_Name</th>\n",
       "      <th>Provider_StreetAddress</th>\n",
       "      <th>Provider_City</th>\n",
       "      <th>Provider_State</th>\n",
       "      <th>Provider_Zipcode</th>\n",
       "      <th>Hospital_referral_region_desp</th>\n",
       "      <th>Total_Discharges</th>\n",
       "      <th>Average_Total_Payments</th>\n",
       "      <th>Average_Medicare_Payment</th>\n",
       "      <th>Medicare_Reimburse_Rate</th>\n",
       "      <th>Median_Amount_ByCityDRG</th>\n",
       "      <th>drg_city_median_ratio_amount</th>\n",
       "      <th>drg_city_median_ratio_amount_D</th>\n",
       "    </tr>\n",
       "  </thead>\n",
       "  <tbody>\n",
       "    <tr>\n",
       "      <th>109456</th>\n",
       "      <td>460 - SPINAL FUSION EXCEPT CERVICAL W/O MCC</td>\n",
       "      <td>150126</td>\n",
       "      <td>FRANCISCAN ST ANTHONY HEALTH - CROWN POINT</td>\n",
       "      <td>1201 S MAIN ST</td>\n",
       "      <td>CROWN POINT</td>\n",
       "      <td>IN</td>\n",
       "      <td>46307</td>\n",
       "      <td>IN - Gary</td>\n",
       "      <td>13</td>\n",
       "      <td>23478.61</td>\n",
       "      <td>19644.84</td>\n",
       "      <td>83.67</td>\n",
       "      <td>75055.705</td>\n",
       "      <td>0.261737</td>\n",
       "      <td>(0.261, 0.709]</td>\n",
       "    </tr>\n",
       "  </tbody>\n",
       "</table>\n",
       "</div>"
      ],
      "text/plain": [
       "                                                DRG Provider_Id  \\\n",
       "109456  460 - SPINAL FUSION EXCEPT CERVICAL W/O MCC      150126   \n",
       "\n",
       "                                     Provider_Name Provider_StreetAddress  \\\n",
       "109456  FRANCISCAN ST ANTHONY HEALTH - CROWN POINT         1201 S MAIN ST   \n",
       "\n",
       "       Provider_City Provider_State  Provider_Zipcode  \\\n",
       "109456   CROWN POINT             IN             46307   \n",
       "\n",
       "       Hospital_referral_region_desp  Total_Discharges  \\\n",
       "109456                     IN - Gary                13   \n",
       "\n",
       "        Average_Total_Payments  Average_Medicare_Payment  \\\n",
       "109456                23478.61                  19644.84   \n",
       "\n",
       "        Medicare_Reimburse_Rate  Median_Amount_ByCityDRG  \\\n",
       "109456                    83.67                75055.705   \n",
       "\n",
       "        drg_city_median_ratio_amount drg_city_median_ratio_amount_D  \n",
       "109456                      0.261737                 (0.261, 0.709]  "
      ]
     },
     "execution_count": 37,
     "metadata": {},
     "output_type": "execute_result"
    }
   ],
   "source": [
    "data7[data7['drg_city_median_ratio_amount']<0.3]"
   ]
  },
  {
   "cell_type": "markdown",
   "id": "8e4d5e09",
   "metadata": {},
   "source": [
    "There is 1 hospital whose median Medicare payment amounts are less than 30% of the group's average. However, its reimbursement rate (84%) is closed to the national median reimbursement rate. Therefore, the low Medicare payment amounts might be caused by the hospital's small size or the DRG (460 - SPINAL FUSION EXCEPT CERVICAL W/O MCC) might not be the hospital's specialized service. It may not be an anomaly."
   ]
  },
  {
   "cell_type": "markdown",
   "id": "0a6bda54",
   "metadata": {},
   "source": [
    "####  3.2.4 Feature 8: The ratio to the median medicare reimbursement rate (grouping by DRG & City) <a class=\"anchor\" id=\"324\"></a>"
   ]
  },
  {
   "cell_type": "markdown",
   "id": "d5a60ae9",
   "metadata": {},
   "source": [
    "- The defined hospital group's median of medicare reimbursement rate is used as benchmark for anomaly detection. \n",
    "- The ratio of each hospital to the group median is calculated as the new feature. \n",
    "- To better look at the distribution of the ratios, I cut them into different groups by percentile, and then use a histogram to visualize the distribution."
   ]
  },
  {
   "cell_type": "code",
   "execution_count": 38,
   "id": "242c1a6a",
   "metadata": {
    "scrolled": false
   },
   "outputs": [
    {
     "data": {
      "text/plain": [
       "[Text(0, 0, '(0.213, 0.813]'),\n",
       " Text(1, 0, '(0.813, 0.924]'),\n",
       " Text(2, 0, '(0.924, 0.993]'),\n",
       " Text(3, 0, '(0.993, 1.0]'),\n",
       " Text(4, 0, '(1.0, 1.006]'),\n",
       " Text(5, 0, '(1.006, 1.058]'),\n",
       " Text(6, 0, '(1.058, 1.128]'),\n",
       " Text(7, 0, '(1.128, 1.87]')]"
      ]
     },
     "execution_count": 38,
     "metadata": {},
     "output_type": "execute_result"
    },
    {
     "data": {
      "image/png": "[encoded data removed]",
      "text/plain": [
       "<Figure size 600x400 with 1 Axes>"
      ]
     },
     "metadata": {},
     "output_type": "display_data"
    }
   ],
   "source": [
    "# create bencharmark table\n",
    "benchmark8 = data.groupby(['Provider_City','DRG'])['Medicare_Reimburse_Rate'].median().reset_index()\n",
    "benchmark8.columns = ['Provider_City','DRG','Median_Rate_ByCityDRG']\n",
    "# add the new feature to the dataset \n",
    "data8 = pd.merge(data, benchmark8, how='left', on=['Provider_City', 'DRG'])\n",
    "data8['drg_city_median_ratio_rate'] = np.where(data8['Median_Rate_ByCityDRG']==0,0,data8['Medicare_Reimburse_Rate'] / data8['Median_Rate_ByCityDRG'])\n",
    "# cut by percentile for plotting\n",
    "var = 'drg_city_median_ratio_rate'\n",
    "binned_var = var + '_D'\n",
    "percentile = [0,0.01,0.05,0.2,0.5,0.8,0.95,0.99,1]\n",
    "data8[binned_var] = pd.qcut(data8[var],percentile, duplicates = 'drop')\n",
    "# Histogram of new feature\n",
    "plt.figure(figsize=(6,4))\n",
    "g = sns.countplot(x=\"drg_city_median_ratio_rate_D\", data=data8)\n",
    "g.set_xticklabels(g.get_xticklabels(), rotation=90)"
   ]
  },
  {
   "cell_type": "markdown",
   "id": "8d7d277e",
   "metadata": {},
   "source": [
    "- The distribution histogram shows most of the hospitals' median Medicare reimbursement rates are around the group's median, compared to the similar hospitals serving same DRG in the same city.\n",
    "- From the above distribution histogram, we can see that some hospitals' median Medicare reimbursement rates are just more than 1.8 times of the group's median, and their frequencies are extremely low. Therefore, we should identify these hospitals as anomalies. We've discussed in EDA that the national median Medicare reimbursement rate is very high (85%), so the just 30% increase could make the reimbursement rate reaching to 100%, which means all of the hospital's bills are reimbursed by Medicare. Same diagnosis should be treated with similar treatments, which are within the same range of reimbursement rate, according to Medicare's insurance policy. The extremely high reimbursement amounts may indicate potential healthcare resources abuse or fraud, including excessive or unnecessary services, upcoding, unbundling, phantom billing.\n",
    "- Some hospitals' median Medicare reimbursement rates can be less than 30% of the group's median. It could due to the coverage of other insurance programs. However, it can also indicate some potential disparities in resource utilization. For example, some services provided by those hospitals may be necessary but not covered by Medicare. It can also be indicators of problematic claims.\n",
    "- While building the unsupervised machine learning models for better detection, clustering analysis of this feature can be considered to highlight similar (specialization and size) hospitals and identify outlier hospitals for further analysis. Link analysis of this feature can help detect excessive or unnecessary services within and across hospital groups.\n",
    "- I am going to have an initial investigation on the hospitals identified as anomalies."
   ]
  },
  {
   "cell_type": "code",
   "execution_count": 39,
   "id": "183ebaae",
   "metadata": {},
   "outputs": [
    {
     "data": {
      "text/html": [
       "<div>\n",
       "<style scoped>\n",
       "    .dataframe tbody tr th:only-of-type {\n",
       "        vertical-align: middle;\n",
       "    }\n",
       "\n",
       "    .dataframe tbody tr th {\n",
       "        vertical-align: top;\n",
       "    }\n",
       "\n",
       "    .dataframe thead th {\n",
       "        text-align: right;\n",
       "    }\n",
       "</style>\n",
       "<table border=\"1\" class=\"dataframe\">\n",
       "  <thead>\n",
       "    <tr style=\"text-align: right;\">\n",
       "      <th></th>\n",
       "      <th>DRG</th>\n",
       "      <th>Provider_Id</th>\n",
       "      <th>Provider_Name</th>\n",
       "      <th>Provider_StreetAddress</th>\n",
       "      <th>Provider_City</th>\n",
       "      <th>Provider_State</th>\n",
       "      <th>Provider_Zipcode</th>\n",
       "      <th>Hospital_referral_region_desp</th>\n",
       "      <th>Total_Discharges</th>\n",
       "      <th>Average_Total_Payments</th>\n",
       "      <th>Average_Medicare_Payment</th>\n",
       "      <th>Medicare_Reimburse_Rate</th>\n",
       "      <th>Median_Rate_ByCityDRG</th>\n",
       "      <th>drg_city_median_ratio_rate</th>\n",
       "      <th>drg_city_median_ratio_rate_D</th>\n",
       "    </tr>\n",
       "  </thead>\n",
       "  <tbody>\n",
       "    <tr>\n",
       "      <th>20368</th>\n",
       "      <td>189 - PULMONARY EDEMA &amp; RESPIRATORY FAILURE</td>\n",
       "      <td>390044</td>\n",
       "      <td>READING HOSPITAL MEDICAL CENTER</td>\n",
       "      <td>SIXTH AVENUE AND SPRUCE ST</td>\n",
       "      <td>READING</td>\n",
       "      <td>PA</td>\n",
       "      <td>19603</td>\n",
       "      <td>PA - Reading</td>\n",
       "      <td>117</td>\n",
       "      <td>9842.23</td>\n",
       "      <td>8687.55</td>\n",
       "      <td>88.27</td>\n",
       "      <td>49.435</td>\n",
       "      <td>1.785577</td>\n",
       "      <td>(1.128, 1.87]</td>\n",
       "    </tr>\n",
       "    <tr>\n",
       "      <th>47955</th>\n",
       "      <td>247 - PERC CARDIOVASC PROC W DRUG-ELUTING STEN...</td>\n",
       "      <td>430027</td>\n",
       "      <td>SANFORD USD MEDICAL CENTER</td>\n",
       "      <td>1305 W 18TH ST  PO BOX 5039</td>\n",
       "      <td>SIOUX FALLS</td>\n",
       "      <td>SD</td>\n",
       "      <td>57117</td>\n",
       "      <td>SD - Sioux Falls</td>\n",
       "      <td>183</td>\n",
       "      <td>12408.42</td>\n",
       "      <td>11159.24</td>\n",
       "      <td>89.93</td>\n",
       "      <td>50.545</td>\n",
       "      <td>1.779207</td>\n",
       "      <td>(1.128, 1.87]</td>\n",
       "    </tr>\n",
       "    <tr>\n",
       "      <th>124347</th>\n",
       "      <td>602 - CELLULITIS W MCC</td>\n",
       "      <td>280013</td>\n",
       "      <td>THE NEBRASKA MEDICAL CENTER</td>\n",
       "      <td>987400 NEBRASKA MEDICAL CENTER</td>\n",
       "      <td>OMAHA</td>\n",
       "      <td>NE</td>\n",
       "      <td>68198</td>\n",
       "      <td>NE - Omaha</td>\n",
       "      <td>23</td>\n",
       "      <td>12083.13</td>\n",
       "      <td>11423.56</td>\n",
       "      <td>94.54</td>\n",
       "      <td>50.560</td>\n",
       "      <td>1.869858</td>\n",
       "      <td>(1.128, 1.87]</td>\n",
       "    </tr>\n",
       "  </tbody>\n",
       "</table>\n",
       "</div>"
      ],
      "text/plain": [
       "                                                      DRG Provider_Id  \\\n",
       "20368         189 - PULMONARY EDEMA & RESPIRATORY FAILURE      390044   \n",
       "47955   247 - PERC CARDIOVASC PROC W DRUG-ELUTING STEN...      430027   \n",
       "124347                             602 - CELLULITIS W MCC      280013   \n",
       "\n",
       "                          Provider_Name          Provider_StreetAddress  \\\n",
       "20368   READING HOSPITAL MEDICAL CENTER      SIXTH AVENUE AND SPRUCE ST   \n",
       "47955        SANFORD USD MEDICAL CENTER     1305 W 18TH ST  PO BOX 5039   \n",
       "124347      THE NEBRASKA MEDICAL CENTER  987400 NEBRASKA MEDICAL CENTER   \n",
       "\n",
       "       Provider_City Provider_State  Provider_Zipcode  \\\n",
       "20368        READING             PA             19603   \n",
       "47955    SIOUX FALLS             SD             57117   \n",
       "124347         OMAHA             NE             68198   \n",
       "\n",
       "       Hospital_referral_region_desp  Total_Discharges  \\\n",
       "20368                   PA - Reading               117   \n",
       "47955               SD - Sioux Falls               183   \n",
       "124347                    NE - Omaha                23   \n",
       "\n",
       "        Average_Total_Payments  Average_Medicare_Payment  \\\n",
       "20368                  9842.23                   8687.55   \n",
       "47955                 12408.42                  11159.24   \n",
       "124347                12083.13                  11423.56   \n",
       "\n",
       "        Medicare_Reimburse_Rate  Median_Rate_ByCityDRG  \\\n",
       "20368                     88.27                 49.435   \n",
       "47955                     89.93                 50.545   \n",
       "124347                    94.54                 50.560   \n",
       "\n",
       "        drg_city_median_ratio_rate drg_city_median_ratio_rate_D  \n",
       "20368                     1.785577                (1.128, 1.87]  \n",
       "47955                     1.779207                (1.128, 1.87]  \n",
       "124347                    1.869858                (1.128, 1.87]  "
      ]
     },
     "execution_count": 39,
     "metadata": {},
     "output_type": "execute_result"
    }
   ],
   "source": [
    "data8[data8['drg_city_median_ratio_rate'] > 1.7]"
   ]
  },
  {
   "cell_type": "markdown",
   "id": "56fa64c1",
   "metadata": {},
   "source": [
    "There are 3 hospitals whose median Medicare reimbursement rates are more than 1.7 times of the group's average. All of them are located in different cities, and providing different DRG. Therefore, they are less likely to relate to each other. All of them have high reimbursement rates (more than 88%) compared to to their peers (less than 51%). The average reimbursement rates of their peers, serving same ORG in the same cities, are within a normal range. To be noted, all of them have been identified as anomaly in the other features' distributions as well. This hospital's high average Medicare reimbursement rates can not reasonably be explained, therefore, indeed abnormal. CMS can further invesitage with their transactional claims, including hospital's specialization and size, patient's demographics, type and frequency of drug usage, drug or other healthcare service's supplier, etc. It's important to consider these contextual factors when evaluating potential resource abuse."
   ]
  },
  {
   "cell_type": "code",
   "execution_count": 40,
   "id": "b4128c9d",
   "metadata": {
    "scrolled": false
   },
   "outputs": [
    {
     "data": {
      "text/html": [
       "<div>\n",
       "<style scoped>\n",
       "    .dataframe tbody tr th:only-of-type {\n",
       "        vertical-align: middle;\n",
       "    }\n",
       "\n",
       "    .dataframe tbody tr th {\n",
       "        vertical-align: top;\n",
       "    }\n",
       "\n",
       "    .dataframe thead th {\n",
       "        text-align: right;\n",
       "    }\n",
       "</style>\n",
       "<table border=\"1\" class=\"dataframe\">\n",
       "  <thead>\n",
       "    <tr style=\"text-align: right;\">\n",
       "      <th></th>\n",
       "      <th>DRG</th>\n",
       "      <th>Provider_Id</th>\n",
       "      <th>Provider_Name</th>\n",
       "      <th>Provider_StreetAddress</th>\n",
       "      <th>Provider_City</th>\n",
       "      <th>Provider_State</th>\n",
       "      <th>Provider_Zipcode</th>\n",
       "      <th>Hospital_referral_region_desp</th>\n",
       "      <th>Total_Discharges</th>\n",
       "      <th>Average_Total_Payments</th>\n",
       "      <th>Average_Medicare_Payment</th>\n",
       "      <th>Medicare_Reimburse_Rate</th>\n",
       "      <th>Median_Rate_ByCityDRG</th>\n",
       "      <th>drg_city_median_ratio_rate</th>\n",
       "      <th>drg_city_median_ratio_rate_D</th>\n",
       "    </tr>\n",
       "  </thead>\n",
       "  <tbody>\n",
       "    <tr>\n",
       "      <th>4568</th>\n",
       "      <td>065 - INTRACRANIAL HEMORRHAGE OR CEREBRAL INFA...</td>\n",
       "      <td>120011</td>\n",
       "      <td>KAISER FOUNDATION HOSPITAL</td>\n",
       "      <td>3288 MOANALUA RD</td>\n",
       "      <td>HONOLULU</td>\n",
       "      <td>HI</td>\n",
       "      <td>96819</td>\n",
       "      <td>HI - Honolulu</td>\n",
       "      <td>12</td>\n",
       "      <td>21032.08</td>\n",
       "      <td>4109.25</td>\n",
       "      <td>19.54</td>\n",
       "      <td>76.990</td>\n",
       "      <td>0.253799</td>\n",
       "      <td>(0.213, 0.813]</td>\n",
       "    </tr>\n",
       "    <tr>\n",
       "      <th>20388</th>\n",
       "      <td>189 - PULMONARY EDEMA &amp; RESPIRATORY FAILURE</td>\n",
       "      <td>390096</td>\n",
       "      <td>ST JOSEPH MEDICAL CENTER</td>\n",
       "      <td>2500 BERNVILLE ROAD</td>\n",
       "      <td>READING</td>\n",
       "      <td>PA</td>\n",
       "      <td>19605</td>\n",
       "      <td>PA - Reading</td>\n",
       "      <td>143</td>\n",
       "      <td>72797.93</td>\n",
       "      <td>7718.09</td>\n",
       "      <td>10.60</td>\n",
       "      <td>49.435</td>\n",
       "      <td>0.214423</td>\n",
       "      <td>(0.213, 0.813]</td>\n",
       "    </tr>\n",
       "    <tr>\n",
       "      <th>47957</th>\n",
       "      <td>247 - PERC CARDIOVASC PROC W DRUG-ELUTING STEN...</td>\n",
       "      <td>430095</td>\n",
       "      <td>AVERA HEART HOSPITAL OF SOUTH DAKOTA LLC</td>\n",
       "      <td>4500 W 69TH ST</td>\n",
       "      <td>SIOUX FALLS</td>\n",
       "      <td>SD</td>\n",
       "      <td>57108</td>\n",
       "      <td>SD - Sioux Falls</td>\n",
       "      <td>121</td>\n",
       "      <td>83484.14</td>\n",
       "      <td>9316.11</td>\n",
       "      <td>11.16</td>\n",
       "      <td>50.545</td>\n",
       "      <td>0.220793</td>\n",
       "      <td>(0.213, 0.813]</td>\n",
       "    </tr>\n",
       "    <tr>\n",
       "      <th>146340</th>\n",
       "      <td>699 - OTHER KIDNEY &amp; URINARY TRACT DIAGNOSES W CC</td>\n",
       "      <td>450056</td>\n",
       "      <td>SETON MEDICAL CENTER AUSTIN</td>\n",
       "      <td>1201 W 38TH ST</td>\n",
       "      <td>AUSTIN</td>\n",
       "      <td>TX</td>\n",
       "      <td>78705</td>\n",
       "      <td>TX - Austin</td>\n",
       "      <td>31</td>\n",
       "      <td>20136.45</td>\n",
       "      <td>3871.70</td>\n",
       "      <td>19.23</td>\n",
       "      <td>80.065</td>\n",
       "      <td>0.240180</td>\n",
       "      <td>(0.213, 0.813]</td>\n",
       "    </tr>\n",
       "  </tbody>\n",
       "</table>\n",
       "</div>"
      ],
      "text/plain": [
       "                                                      DRG Provider_Id  \\\n",
       "4568    065 - INTRACRANIAL HEMORRHAGE OR CEREBRAL INFA...      120011   \n",
       "20388         189 - PULMONARY EDEMA & RESPIRATORY FAILURE      390096   \n",
       "47957   247 - PERC CARDIOVASC PROC W DRUG-ELUTING STEN...      430095   \n",
       "146340  699 - OTHER KIDNEY & URINARY TRACT DIAGNOSES W CC      450056   \n",
       "\n",
       "                                   Provider_Name Provider_StreetAddress  \\\n",
       "4568                  KAISER FOUNDATION HOSPITAL       3288 MOANALUA RD   \n",
       "20388                   ST JOSEPH MEDICAL CENTER    2500 BERNVILLE ROAD   \n",
       "47957   AVERA HEART HOSPITAL OF SOUTH DAKOTA LLC         4500 W 69TH ST   \n",
       "146340               SETON MEDICAL CENTER AUSTIN         1201 W 38TH ST   \n",
       "\n",
       "       Provider_City Provider_State  Provider_Zipcode  \\\n",
       "4568        HONOLULU             HI             96819   \n",
       "20388        READING             PA             19605   \n",
       "47957    SIOUX FALLS             SD             57108   \n",
       "146340        AUSTIN             TX             78705   \n",
       "\n",
       "       Hospital_referral_region_desp  Total_Discharges  \\\n",
       "4568                   HI - Honolulu                12   \n",
       "20388                   PA - Reading               143   \n",
       "47957               SD - Sioux Falls               121   \n",
       "146340                   TX - Austin                31   \n",
       "\n",
       "        Average_Total_Payments  Average_Medicare_Payment  \\\n",
       "4568                  21032.08                   4109.25   \n",
       "20388                 72797.93                   7718.09   \n",
       "47957                 83484.14                   9316.11   \n",
       "146340                20136.45                   3871.70   \n",
       "\n",
       "        Medicare_Reimburse_Rate  Median_Rate_ByCityDRG  \\\n",
       "4568                      19.54                 76.990   \n",
       "20388                     10.60                 49.435   \n",
       "47957                     11.16                 50.545   \n",
       "146340                    19.23                 80.065   \n",
       "\n",
       "        drg_city_median_ratio_rate drg_city_median_ratio_rate_D  \n",
       "4568                      0.253799               (0.213, 0.813]  \n",
       "20388                     0.214423               (0.213, 0.813]  \n",
       "47957                     0.220793               (0.213, 0.813]  \n",
       "146340                    0.240180               (0.213, 0.813]  "
      ]
     },
     "execution_count": 40,
     "metadata": {},
     "output_type": "execute_result"
    }
   ],
   "source": [
    "data8[data8['drg_city_median_ratio_rate'] < 0.3]"
   ]
  },
  {
   "cell_type": "markdown",
   "id": "0330edf7",
   "metadata": {},
   "source": [
    "There are 4 hospitals whose average Medicare reimbursement rates are less than 30% of the group's average. All of them are located in different cities, and providing different DRG. Therefore, they are less likely to relate to each other. All of them have very low reimbursement rates (less than 20%). The average reimbursement rates of their peers, serving same ORG in the same city, is within a normal range. To be noted, 3 of them have been identified as anomaly in the other features' distributions as well. These 4 hospitals' low average Medicare reimbursement rates can not reasonably be explained, therefore, indeed abnormal. CMS can further invesitage with their transactional claims, including hospital's size and specialization, patient's demographics, type and frequency of drug usage, drug or other healthcare service's supplier, etc. It's important to consider these contextual factors when evaluating potential resource underutilization or inadequate reimbursement."
   ]
  },
  {
   "cell_type": "markdown",
   "id": "fab9fe90",
   "metadata": {},
   "source": [
    "###  3.3 Benchmark: DRG & Hospital Referral Region average/median <a class=\"anchor\" id=\"33\"></a>\n",
    "Hospitals are grouped by DRG & Hospital Referral Region."
   ]
  },
  {
   "cell_type": "markdown",
   "id": "21965145",
   "metadata": {},
   "source": [
    "####  3.3.1 Feature 9: The ratio to the average of average medicare payment amount (grouping by DRG & Hospital Referral Region) <a class=\"anchor\" id=\"331\"></a>"
   ]
  },
  {
   "cell_type": "markdown",
   "id": "c4cd84fa",
   "metadata": {},
   "source": [
    "- The defined hospital group's average of average medicare payment amount is used as benchmark for anomaly detection. \n",
    "- The ratio of each hospital to the group average is calculated as the new feature. \n",
    "- To better look at the distribution of the ratios, I cut them into different groups by percentile, and then use a histogram to visualize the distribution."
   ]
  },
  {
   "cell_type": "code",
   "execution_count": 41,
   "id": "ef8dc1f1",
   "metadata": {},
   "outputs": [
    {
     "data": {
      "text/plain": [
       "[Text(0, 0, '(0.339, 0.7]'),\n",
       " Text(1, 0, '(0.7, 0.779]'),\n",
       " Text(2, 0, '(0.779, 0.873]'),\n",
       " Text(3, 0, '(0.873, 0.977]'),\n",
       " Text(4, 0, '(0.977, 1.093]'),\n",
       " Text(5, 0, '(1.093, 1.337]'),\n",
       " Text(6, 0, '(1.337, 1.613]'),\n",
       " Text(7, 0, '(1.613, 4.517]')]"
      ]
     },
     "execution_count": 41,
     "metadata": {},
     "output_type": "execute_result"
    },
    {
     "data": {
      "image/png": "[encoded data removed]",
      "text/plain": [
       "<Figure size 600x400 with 1 Axes>"
      ]
     },
     "metadata": {},
     "output_type": "display_data"
    }
   ],
   "source": [
    "# create bencharmark table\n",
    "benchmark9 = data.groupby(['Hospital_referral_region_desp','DRG'])['Average_Medicare_Payment'].mean().reset_index()\n",
    "benchmark9.columns = ['Hospital_referral_region_desp','DRG','Avg_Amount_ByRegionDRG']\n",
    "# add the new feature to the dataset \n",
    "data9 = pd.merge(data, benchmark9, how='left', on=['Hospital_referral_region_desp', 'DRG'])\n",
    "data9['drg_region_avg_ratio_amount'] = np.where(data9['Avg_Amount_ByRegionDRG']==0,0,data9['Average_Medicare_Payment'] / data9['Avg_Amount_ByRegionDRG'])\n",
    "# cut by percentile for plotting\n",
    "var = 'drg_region_avg_ratio_amount'\n",
    "binned_var = var + '_D'\n",
    "percentile = [0,0.01,0.05,0.2,0.5,0.8,0.95,0.99,1]\n",
    "data9[binned_var] = pd.qcut(data9[var],percentile, duplicates = 'drop')\n",
    "# Histogram of new feature\n",
    "plt.figure(figsize=(6,4))\n",
    "g = sns.countplot(x=\"drg_region_avg_ratio_amount_D\", data=data9)\n",
    "g.set_xticklabels(g.get_xticklabels(), rotation=90)"
   ]
  },
  {
   "cell_type": "markdown",
   "id": "51ed015c",
   "metadata": {},
   "source": [
    "- The distribution histogram shows most of the hospitals' average Medicare payment amounts are around the group's average, compared to the similar hospitals serving same DRG in the same hospital referral region.\n",
    "- From the above distribution histogram, we can see that some hospitals' average Medicare payment amounts can be more than 4 times of the group's average, and their frequencies are extremely low. Therefore, we should identify these hospitals as anomalies. Same diagnosis should be treated with similar treatments, which are within a similar range of prices. The extremely high reimbursement amounts may indicate potential healthcare resources abuse or fraud, including excessive or unnecessary services, upcoding, unbundling, phantom billing and kickbacks. \n",
    "- Some hospitals' average Medicare payment amounts can be less than 40% of the group's average. It could due to the coverage of other insurance programs. However, it can also indicate some potential disparities in resource utilization. For example, some services provided by those hospitals may be necessary but not covered by Medicare. It can also be indicators of problematic claims. \n",
    "- While building the unsupervised machine learning models for better detection, clustering analysis of this feature can be considered to highlight similar (specialization and size) hospitals and identify outlier hospitals for further analysis. Link analysis of this feature can help detect excessive or unnecessary services within and across hospital groups.\n",
    "- I am going to have an initial investigation on the hospitals identified as anomalies."
   ]
  },
  {
   "cell_type": "code",
   "execution_count": 42,
   "id": "84f6771f",
   "metadata": {},
   "outputs": [
    {
     "data": {
      "text/html": [
       "<div>\n",
       "<style scoped>\n",
       "    .dataframe tbody tr th:only-of-type {\n",
       "        vertical-align: middle;\n",
       "    }\n",
       "\n",
       "    .dataframe tbody tr th {\n",
       "        vertical-align: top;\n",
       "    }\n",
       "\n",
       "    .dataframe thead th {\n",
       "        text-align: right;\n",
       "    }\n",
       "</style>\n",
       "<table border=\"1\" class=\"dataframe\">\n",
       "  <thead>\n",
       "    <tr style=\"text-align: right;\">\n",
       "      <th></th>\n",
       "      <th>DRG</th>\n",
       "      <th>Provider_Id</th>\n",
       "      <th>Provider_Name</th>\n",
       "      <th>Provider_StreetAddress</th>\n",
       "      <th>Provider_City</th>\n",
       "      <th>Provider_State</th>\n",
       "      <th>Provider_Zipcode</th>\n",
       "      <th>Hospital_referral_region_desp</th>\n",
       "      <th>Total_Discharges</th>\n",
       "      <th>Average_Total_Payments</th>\n",
       "      <th>Average_Medicare_Payment</th>\n",
       "      <th>Medicare_Reimburse_Rate</th>\n",
       "      <th>Avg_Amount_ByRegionDRG</th>\n",
       "      <th>drg_region_avg_ratio_amount</th>\n",
       "      <th>drg_region_avg_ratio_amount_D</th>\n",
       "    </tr>\n",
       "  </thead>\n",
       "  <tbody>\n",
       "    <tr>\n",
       "      <th>37716</th>\n",
       "      <td>202 - BRONCHITIS &amp; ASTHMA W CC/MCC</td>\n",
       "      <td>210009</td>\n",
       "      <td>JOHNS HOPKINS HOSPITAL, THE</td>\n",
       "      <td>600 NORTH  WOLFE STREET</td>\n",
       "      <td>BALTIMORE</td>\n",
       "      <td>MD</td>\n",
       "      <td>21287</td>\n",
       "      <td>MD - Baltimore</td>\n",
       "      <td>17</td>\n",
       "      <td>41458.47</td>\n",
       "      <td>37236.0</td>\n",
       "      <td>89.82</td>\n",
       "      <td>8244.430556</td>\n",
       "      <td>4.516504</td>\n",
       "      <td>(1.613, 4.517]</td>\n",
       "    </tr>\n",
       "  </tbody>\n",
       "</table>\n",
       "</div>"
      ],
      "text/plain": [
       "                                      DRG Provider_Id  \\\n",
       "37716  202 - BRONCHITIS & ASTHMA W CC/MCC      210009   \n",
       "\n",
       "                     Provider_Name   Provider_StreetAddress Provider_City  \\\n",
       "37716  JOHNS HOPKINS HOSPITAL, THE  600 NORTH  WOLFE STREET     BALTIMORE   \n",
       "\n",
       "      Provider_State  Provider_Zipcode Hospital_referral_region_desp  \\\n",
       "37716             MD             21287                MD - Baltimore   \n",
       "\n",
       "       Total_Discharges  Average_Total_Payments  Average_Medicare_Payment  \\\n",
       "37716                17                41458.47                   37236.0   \n",
       "\n",
       "       Medicare_Reimburse_Rate  Avg_Amount_ByRegionDRG  \\\n",
       "37716                    89.82             8244.430556   \n",
       "\n",
       "       drg_region_avg_ratio_amount drg_region_avg_ratio_amount_D  \n",
       "37716                     4.516504                (1.613, 4.517]  "
      ]
     },
     "execution_count": 42,
     "metadata": {},
     "output_type": "execute_result"
    }
   ],
   "source": [
    "data9[data9['drg_region_avg_ratio_amount']>4]"
   ]
  },
  {
   "cell_type": "markdown",
   "id": "45c4bbff",
   "metadata": {},
   "source": [
    "There is 1 hospital1 whose average Medicare payment amounts are more than 4 times of the group's average. It has a high reimbursement rate (more than 89%). The average payments of its peers, serving same ORG in the same hospital referral region, is within a normal range. This hospital's high average Medicare payment amounts can not reasonably be explained, therefore, indeed abnormal. To be noted, this hospital has been identified as anomaly in other features' distributions as well. CMS can further invesitage with their transactional claims, including hospital's specialization and size, patient's demographics, type and frequency of drug usage, drug or other healthcare service's supplier, etc. It's important to consider these contextual factors when evaluating potential resource abuse."
   ]
  },
  {
   "cell_type": "code",
   "execution_count": 43,
   "id": "8417753b",
   "metadata": {},
   "outputs": [
    {
     "data": {
      "text/html": [
       "<div>\n",
       "<style scoped>\n",
       "    .dataframe tbody tr th:only-of-type {\n",
       "        vertical-align: middle;\n",
       "    }\n",
       "\n",
       "    .dataframe tbody tr th {\n",
       "        vertical-align: top;\n",
       "    }\n",
       "\n",
       "    .dataframe thead th {\n",
       "        text-align: right;\n",
       "    }\n",
       "</style>\n",
       "<table border=\"1\" class=\"dataframe\">\n",
       "  <thead>\n",
       "    <tr style=\"text-align: right;\">\n",
       "      <th></th>\n",
       "      <th>DRG</th>\n",
       "      <th>Provider_Id</th>\n",
       "      <th>Provider_Name</th>\n",
       "      <th>Provider_StreetAddress</th>\n",
       "      <th>Provider_City</th>\n",
       "      <th>Provider_State</th>\n",
       "      <th>Provider_Zipcode</th>\n",
       "      <th>Hospital_referral_region_desp</th>\n",
       "      <th>Total_Discharges</th>\n",
       "      <th>Average_Total_Payments</th>\n",
       "      <th>Average_Medicare_Payment</th>\n",
       "      <th>Medicare_Reimburse_Rate</th>\n",
       "      <th>Avg_Amount_ByRegionDRG</th>\n",
       "      <th>drg_region_avg_ratio_amount</th>\n",
       "      <th>drg_region_avg_ratio_amount_D</th>\n",
       "    </tr>\n",
       "  </thead>\n",
       "  <tbody>\n",
       "    <tr>\n",
       "      <th>109837</th>\n",
       "      <td>460 - SPINAL FUSION EXCEPT CERVICAL W/O MCC</td>\n",
       "      <td>330286</td>\n",
       "      <td>GOOD SAMARITAN HOSPITAL MEDICAL CENTER</td>\n",
       "      <td>1000 MONTAUK HIGHWAY</td>\n",
       "      <td>WEST ISLIP</td>\n",
       "      <td>NY</td>\n",
       "      <td>11795</td>\n",
       "      <td>NY - East Long Island</td>\n",
       "      <td>12</td>\n",
       "      <td>44431.83</td>\n",
       "      <td>8993.91</td>\n",
       "      <td>20.24</td>\n",
       "      <td>26444.439091</td>\n",
       "      <td>0.340106</td>\n",
       "      <td>(0.339, 0.7]</td>\n",
       "    </tr>\n",
       "    <tr>\n",
       "      <th>111962</th>\n",
       "      <td>470 - MAJOR JOINT REPLACEMENT OR REATTACHMENT ...</td>\n",
       "      <td>120011</td>\n",
       "      <td>KAISER FOUNDATION HOSPITAL</td>\n",
       "      <td>3288 MOANALUA RD</td>\n",
       "      <td>HONOLULU</td>\n",
       "      <td>HI</td>\n",
       "      <td>96819</td>\n",
       "      <td>HI - Honolulu</td>\n",
       "      <td>28</td>\n",
       "      <td>20955.35</td>\n",
       "      <td>5215.00</td>\n",
       "      <td>24.89</td>\n",
       "      <td>15345.876364</td>\n",
       "      <td>0.339831</td>\n",
       "      <td>(0.339, 0.7]</td>\n",
       "    </tr>\n",
       "  </tbody>\n",
       "</table>\n",
       "</div>"
      ],
      "text/plain": [
       "                                                      DRG Provider_Id  \\\n",
       "109837        460 - SPINAL FUSION EXCEPT CERVICAL W/O MCC      330286   \n",
       "111962  470 - MAJOR JOINT REPLACEMENT OR REATTACHMENT ...      120011   \n",
       "\n",
       "                                 Provider_Name Provider_StreetAddress  \\\n",
       "109837  GOOD SAMARITAN HOSPITAL MEDICAL CENTER   1000 MONTAUK HIGHWAY   \n",
       "111962              KAISER FOUNDATION HOSPITAL       3288 MOANALUA RD   \n",
       "\n",
       "       Provider_City Provider_State  Provider_Zipcode  \\\n",
       "109837    WEST ISLIP             NY             11795   \n",
       "111962      HONOLULU             HI             96819   \n",
       "\n",
       "       Hospital_referral_region_desp  Total_Discharges  \\\n",
       "109837         NY - East Long Island                12   \n",
       "111962                 HI - Honolulu                28   \n",
       "\n",
       "        Average_Total_Payments  Average_Medicare_Payment  \\\n",
       "109837                44431.83                   8993.91   \n",
       "111962                20955.35                   5215.00   \n",
       "\n",
       "        Medicare_Reimburse_Rate  Avg_Amount_ByRegionDRG  \\\n",
       "109837                    20.24            26444.439091   \n",
       "111962                    24.89            15345.876364   \n",
       "\n",
       "        drg_region_avg_ratio_amount drg_region_avg_ratio_amount_D  \n",
       "109837                     0.340106                  (0.339, 0.7]  \n",
       "111962                     0.339831                  (0.339, 0.7]  "
      ]
     },
     "execution_count": 43,
     "metadata": {},
     "output_type": "execute_result"
    }
   ],
   "source": [
    "data9[data9['drg_region_avg_ratio_amount']<0.35]"
   ]
  },
  {
   "cell_type": "markdown",
   "id": "bd185efe",
   "metadata": {},
   "source": [
    "There are 2 hospitals whose average Medicare payment amounts are less than 35% of the group's average. All of them are located in different hospital referral regions, and providing different DRG. Therefore, they are less likely to relate to each other. All of them have very low reimbursement rates (less than 25%). The average payments of their peers, serving same ORG in the same state, are within a normal range. These 2 hospitals' low average Medicare payment amounts can not reasonably be explained, therefore, indeed abnormal. CMS can further invesitage with their transactional claims, including hospital's size and specialization, patient's demographics, type and frequency of drug usage, drug or other healthcare service's supplier, etc. It's important to consider these contextual factors when evaluating potential resource underutilization or inadequate reimbursement."
   ]
  },
  {
   "cell_type": "markdown",
   "id": "7ca0502c",
   "metadata": {},
   "source": [
    "####  3.3.2 Feature 10: The ratio to the average medicare reimbursement rate (grouping by DRG & Hospital Referral Region) <a class=\"anchor\" id=\"332\"></a>"
   ]
  },
  {
   "cell_type": "markdown",
   "id": "c90afa6c",
   "metadata": {},
   "source": [
    "- The defined hospital group's average of medicare reimbursement rate is used as benchmark for anomaly detection. \n",
    "- The ratio of each hospital to the group average is calculated as the new feature. \n",
    "- To better look at the distribution of the ratios, I cut them into different groups by percentile, and then use a histogram to visualize the distribution."
   ]
  },
  {
   "cell_type": "code",
   "execution_count": 44,
   "id": "441e385d",
   "metadata": {},
   "outputs": [
    {
     "data": {
      "text/plain": [
       "[Text(0, 0, '(0.0745, 0.755]'),\n",
       " Text(1, 0, '(0.755, 0.879]'),\n",
       " Text(2, 0, '(0.879, 0.964]'),\n",
       " Text(3, 0, '(0.964, 1.006]'),\n",
       " Text(4, 0, '(1.006, 1.044]'),\n",
       " Text(5, 0, '(1.044, 1.093]'),\n",
       " Text(6, 0, '(1.093, 1.153]'),\n",
       " Text(7, 0, '(1.153, 1.654]')]"
      ]
     },
     "execution_count": 44,
     "metadata": {},
     "output_type": "execute_result"
    },
    {
     "data": {
      "image/png": "[encoded data removed]",
      "text/plain": [
       "<Figure size 600x400 with 1 Axes>"
      ]
     },
     "metadata": {},
     "output_type": "display_data"
    }
   ],
   "source": [
    "# create bencharmark table\n",
    "benchmark10 = data.groupby(['Hospital_referral_region_desp','DRG'])['Medicare_Reimburse_Rate'].mean().reset_index()\n",
    "benchmark10.columns = ['Hospital_referral_region_desp','DRG','Avg_Rate_ByRegionDRG']\n",
    "# add the new feature to the dataset \n",
    "data10 = pd.merge(data, benchmark10, how='left', on=['Hospital_referral_region_desp', 'DRG'])\n",
    "data10['drg_region_avg_ratio_rate'] = np.where(data10['Avg_Rate_ByRegionDRG']==0,0,data10['Medicare_Reimburse_Rate'] / data10['Avg_Rate_ByRegionDRG'])\n",
    "# cut by percentile for plotting\n",
    "var = 'drg_region_avg_ratio_rate'\n",
    "binned_var = var + '_D'\n",
    "percentile = [0,0.01,0.05,0.2,0.5,0.8,0.95,0.99,1]\n",
    "data10[binned_var] = pd.qcut(data10[var],percentile, duplicates = 'drop')\n",
    "# Histogram of new feature\n",
    "plt.figure(figsize=(6,4))\n",
    "g = sns.countplot(x=\"drg_region_avg_ratio_rate_D\", data=data10)\n",
    "g.set_xticklabels(g.get_xticklabels(), rotation=90)"
   ]
  },
  {
   "cell_type": "markdown",
   "id": "44384460",
   "metadata": {},
   "source": [
    "- The distribution histogram shows most of the hospitals' average Medicare reimbursement rates are around the group's average, compared to the similar hospitals serving same DRG in the same hospital referral region. \n",
    "- From the above distribution histogram, we can see that some hospitals' average Medicare reimbursement rates are just more than 1.6 times of the group's average, and their frequencies are extremely low. Therefore, we should identify these hospitals as anomalies. We've discussed in EDA that the national average Medicare reimbursement rate is very high (85%), so the just 30% increase could make the reimbursement rate reaching to 100%, which means all of the hospital's bills are reimbursed by Medicare. Same diagnosis should be treated with similar treatments, which are within the same range of reimbursement rate, according to Medicare's insurance policy. The extremely high reimbursement amounts may indicate potential healthcare resources abuse or fraud, including excessive or unnecessary services, upcoding, unbundling, phantom billing. \n",
    "- Some hospitals' average Medicare reimbursement rates can be less than 20% of the group's average. It could due to the coverage of other insurance programs. However, it can also indicate some potential disparities in resource utilization. For example, some services provided by those hospitals may be necessary but not covered by Medicare. It can also be indicators of problematic claims. \n",
    "- While building the unsupervised machine learning models for better detection, clustering analysis of this feature can be considered to highlight similar (specialization and size) hospitals and identify outlier hospitals for further analysis. Link analysis of this feature can help detect excessive or unnecessary services within and across hospital groups.\n",
    "- I am going to have an initial investigation on the hospitals identified as anomalies."
   ]
  },
  {
   "cell_type": "code",
   "execution_count": 45,
   "id": "658e7264",
   "metadata": {},
   "outputs": [
    {
     "data": {
      "text/html": [
       "<div>\n",
       "<style scoped>\n",
       "    .dataframe tbody tr th:only-of-type {\n",
       "        vertical-align: middle;\n",
       "    }\n",
       "\n",
       "    .dataframe tbody tr th {\n",
       "        vertical-align: top;\n",
       "    }\n",
       "\n",
       "    .dataframe thead th {\n",
       "        text-align: right;\n",
       "    }\n",
       "</style>\n",
       "<table border=\"1\" class=\"dataframe\">\n",
       "  <thead>\n",
       "    <tr style=\"text-align: right;\">\n",
       "      <th></th>\n",
       "      <th>DRG</th>\n",
       "      <th>Provider_Id</th>\n",
       "      <th>Provider_Name</th>\n",
       "      <th>Provider_StreetAddress</th>\n",
       "      <th>Provider_City</th>\n",
       "      <th>Provider_State</th>\n",
       "      <th>Provider_Zipcode</th>\n",
       "      <th>Hospital_referral_region_desp</th>\n",
       "      <th>Total_Discharges</th>\n",
       "      <th>Average_Total_Payments</th>\n",
       "      <th>Average_Medicare_Payment</th>\n",
       "      <th>Medicare_Reimburse_Rate</th>\n",
       "      <th>Avg_Rate_ByRegionDRG</th>\n",
       "      <th>drg_region_avg_ratio_rate</th>\n",
       "      <th>drg_region_avg_ratio_rate_D</th>\n",
       "    </tr>\n",
       "  </thead>\n",
       "  <tbody>\n",
       "    <tr>\n",
       "      <th>38697</th>\n",
       "      <td>203 - BRONCHITIS &amp; ASTHMA W/O CC/MCC</td>\n",
       "      <td>100122</td>\n",
       "      <td>NORTH OKALOOSA MEDICAL CENTER</td>\n",
       "      <td>151 REDSTONE AVE SE</td>\n",
       "      <td>CRESTVIEW</td>\n",
       "      <td>FL</td>\n",
       "      <td>32539</td>\n",
       "      <td>FL - Pensacola</td>\n",
       "      <td>24</td>\n",
       "      <td>3411.0</td>\n",
       "      <td>2568.66</td>\n",
       "      <td>75.31</td>\n",
       "      <td>46.84</td>\n",
       "      <td>1.607814</td>\n",
       "      <td>(1.153, 1.654]</td>\n",
       "    </tr>\n",
       "    <tr>\n",
       "      <th>49791</th>\n",
       "      <td>251 - PERC CARDIOVASC PROC W/O CORONARY ARTERY...</td>\n",
       "      <td>430027</td>\n",
       "      <td>SANFORD USD MEDICAL CENTER</td>\n",
       "      <td>1305 W 18TH ST  PO BOX 5039</td>\n",
       "      <td>SIOUX FALLS</td>\n",
       "      <td>SD</td>\n",
       "      <td>57117</td>\n",
       "      <td>SD - Sioux Falls</td>\n",
       "      <td>44</td>\n",
       "      <td>11301.0</td>\n",
       "      <td>10315.09</td>\n",
       "      <td>91.28</td>\n",
       "      <td>55.20</td>\n",
       "      <td>1.653623</td>\n",
       "      <td>(1.153, 1.654]</td>\n",
       "    </tr>\n",
       "  </tbody>\n",
       "</table>\n",
       "</div>"
      ],
      "text/plain": [
       "                                                     DRG Provider_Id  \\\n",
       "38697               203 - BRONCHITIS & ASTHMA W/O CC/MCC      100122   \n",
       "49791  251 - PERC CARDIOVASC PROC W/O CORONARY ARTERY...      430027   \n",
       "\n",
       "                       Provider_Name       Provider_StreetAddress  \\\n",
       "38697  NORTH OKALOOSA MEDICAL CENTER          151 REDSTONE AVE SE   \n",
       "49791     SANFORD USD MEDICAL CENTER  1305 W 18TH ST  PO BOX 5039   \n",
       "\n",
       "      Provider_City Provider_State  Provider_Zipcode  \\\n",
       "38697     CRESTVIEW             FL             32539   \n",
       "49791   SIOUX FALLS             SD             57117   \n",
       "\n",
       "      Hospital_referral_region_desp  Total_Discharges  Average_Total_Payments  \\\n",
       "38697                FL - Pensacola                24                  3411.0   \n",
       "49791              SD - Sioux Falls                44                 11301.0   \n",
       "\n",
       "       Average_Medicare_Payment  Medicare_Reimburse_Rate  \\\n",
       "38697                   2568.66                    75.31   \n",
       "49791                  10315.09                    91.28   \n",
       "\n",
       "       Avg_Rate_ByRegionDRG  drg_region_avg_ratio_rate  \\\n",
       "38697                 46.84                   1.607814   \n",
       "49791                 55.20                   1.653623   \n",
       "\n",
       "      drg_region_avg_ratio_rate_D  \n",
       "38697              (1.153, 1.654]  \n",
       "49791              (1.153, 1.654]  "
      ]
     },
     "execution_count": 45,
     "metadata": {},
     "output_type": "execute_result"
    }
   ],
   "source": [
    "data10[data10['drg_region_avg_ratio_rate']>1.6]"
   ]
  },
  {
   "cell_type": "markdown",
   "id": "7bc2d58a",
   "metadata": {},
   "source": [
    "There are 2 hospitals whose average Medicare reimbursement rates are more than 1.6 times of the group's average. All of them are located in different hospital referral regions, and providing different DRG. Therefore, they are less likely to relate to each other. All of them have higher reimbursement rates (more than 75%) compared to to their peers (less than 55%). The average reimbursement rates of their peers, serving same ORG in the same state, are within a normal range. These 2 hospitals' high average Medicare payment amounts can not reasonably be explained, therefore, indeed abnormal. CMS can further invesitage with their transactional claims, including hospital's specialization and size, patient's demographics, type and frequency of drug usage, drug or other healthcare service's supplier, etc. It's important to consider these contextual factors when evaluating potential resource abuse."
   ]
  },
  {
   "cell_type": "code",
   "execution_count": 46,
   "id": "0e1f84cd",
   "metadata": {},
   "outputs": [
    {
     "data": {
      "text/html": [
       "<div>\n",
       "<style scoped>\n",
       "    .dataframe tbody tr th:only-of-type {\n",
       "        vertical-align: middle;\n",
       "    }\n",
       "\n",
       "    .dataframe tbody tr th {\n",
       "        vertical-align: top;\n",
       "    }\n",
       "\n",
       "    .dataframe thead th {\n",
       "        text-align: right;\n",
       "    }\n",
       "</style>\n",
       "<table border=\"1\" class=\"dataframe\">\n",
       "  <thead>\n",
       "    <tr style=\"text-align: right;\">\n",
       "      <th></th>\n",
       "      <th>DRG</th>\n",
       "      <th>Provider_Id</th>\n",
       "      <th>Provider_Name</th>\n",
       "      <th>Provider_StreetAddress</th>\n",
       "      <th>Provider_City</th>\n",
       "      <th>Provider_State</th>\n",
       "      <th>Provider_Zipcode</th>\n",
       "      <th>Hospital_referral_region_desp</th>\n",
       "      <th>Total_Discharges</th>\n",
       "      <th>Average_Total_Payments</th>\n",
       "      <th>Average_Medicare_Payment</th>\n",
       "      <th>Medicare_Reimburse_Rate</th>\n",
       "      <th>Avg_Rate_ByRegionDRG</th>\n",
       "      <th>drg_region_avg_ratio_rate</th>\n",
       "      <th>drg_region_avg_ratio_rate_D</th>\n",
       "    </tr>\n",
       "  </thead>\n",
       "  <tbody>\n",
       "    <tr>\n",
       "      <th>20388</th>\n",
       "      <td>189 - PULMONARY EDEMA &amp; RESPIRATORY FAILURE</td>\n",
       "      <td>390096</td>\n",
       "      <td>ST JOSEPH MEDICAL CENTER</td>\n",
       "      <td>2500 BERNVILLE ROAD</td>\n",
       "      <td>READING</td>\n",
       "      <td>PA</td>\n",
       "      <td>19605</td>\n",
       "      <td>PA - Reading</td>\n",
       "      <td>143</td>\n",
       "      <td>72797.93</td>\n",
       "      <td>7718.09</td>\n",
       "      <td>10.60</td>\n",
       "      <td>66.952500</td>\n",
       "      <td>0.158321</td>\n",
       "      <td>(0.0745, 0.755]</td>\n",
       "    </tr>\n",
       "    <tr>\n",
       "      <th>38923</th>\n",
       "      <td>203 - BRONCHITIS &amp; ASTHMA W/O CC/MCC</td>\n",
       "      <td>220008</td>\n",
       "      <td>STURDY MEMORIAL HOSPITAL</td>\n",
       "      <td>211 PARK STREET</td>\n",
       "      <td>ATTLEBORO</td>\n",
       "      <td>MA</td>\n",
       "      <td>2703</td>\n",
       "      <td>RI - Providence</td>\n",
       "      <td>11</td>\n",
       "      <td>41482.09</td>\n",
       "      <td>1790.18</td>\n",
       "      <td>4.32</td>\n",
       "      <td>57.246000</td>\n",
       "      <td>0.075464</td>\n",
       "      <td>(0.0745, 0.755]</td>\n",
       "    </tr>\n",
       "    <tr>\n",
       "      <th>47957</th>\n",
       "      <td>247 - PERC CARDIOVASC PROC W DRUG-ELUTING STEN...</td>\n",
       "      <td>430095</td>\n",
       "      <td>AVERA HEART HOSPITAL OF SOUTH DAKOTA LLC</td>\n",
       "      <td>4500 W 69TH ST</td>\n",
       "      <td>SIOUX FALLS</td>\n",
       "      <td>SD</td>\n",
       "      <td>57108</td>\n",
       "      <td>SD - Sioux Falls</td>\n",
       "      <td>121</td>\n",
       "      <td>83484.14</td>\n",
       "      <td>9316.11</td>\n",
       "      <td>11.16</td>\n",
       "      <td>63.690000</td>\n",
       "      <td>0.175224</td>\n",
       "      <td>(0.0745, 0.755]</td>\n",
       "    </tr>\n",
       "    <tr>\n",
       "      <th>49145</th>\n",
       "      <td>249 - PERC CARDIOVASC PROC W NON-DRUG-ELUTING ...</td>\n",
       "      <td>500051</td>\n",
       "      <td>OVERLAKE HOSPITAL MEDICAL CENTER</td>\n",
       "      <td>1035-116TH AVE NE</td>\n",
       "      <td>BELLEVUE</td>\n",
       "      <td>WA</td>\n",
       "      <td>98004</td>\n",
       "      <td>WA - Seattle</td>\n",
       "      <td>23</td>\n",
       "      <td>84499.26</td>\n",
       "      <td>8500.60</td>\n",
       "      <td>10.06</td>\n",
       "      <td>74.853333</td>\n",
       "      <td>0.134396</td>\n",
       "      <td>(0.0745, 0.755]</td>\n",
       "    </tr>\n",
       "  </tbody>\n",
       "</table>\n",
       "</div>"
      ],
      "text/plain": [
       "                                                     DRG Provider_Id  \\\n",
       "20388        189 - PULMONARY EDEMA & RESPIRATORY FAILURE      390096   \n",
       "38923               203 - BRONCHITIS & ASTHMA W/O CC/MCC      220008   \n",
       "47957  247 - PERC CARDIOVASC PROC W DRUG-ELUTING STEN...      430095   \n",
       "49145  249 - PERC CARDIOVASC PROC W NON-DRUG-ELUTING ...      500051   \n",
       "\n",
       "                                  Provider_Name Provider_StreetAddress  \\\n",
       "20388                  ST JOSEPH MEDICAL CENTER    2500 BERNVILLE ROAD   \n",
       "38923                  STURDY MEMORIAL HOSPITAL        211 PARK STREET   \n",
       "47957  AVERA HEART HOSPITAL OF SOUTH DAKOTA LLC         4500 W 69TH ST   \n",
       "49145          OVERLAKE HOSPITAL MEDICAL CENTER      1035-116TH AVE NE   \n",
       "\n",
       "      Provider_City Provider_State  Provider_Zipcode  \\\n",
       "20388       READING             PA             19605   \n",
       "38923     ATTLEBORO             MA              2703   \n",
       "47957   SIOUX FALLS             SD             57108   \n",
       "49145      BELLEVUE             WA             98004   \n",
       "\n",
       "      Hospital_referral_region_desp  Total_Discharges  Average_Total_Payments  \\\n",
       "20388                  PA - Reading               143                72797.93   \n",
       "38923               RI - Providence                11                41482.09   \n",
       "47957              SD - Sioux Falls               121                83484.14   \n",
       "49145                  WA - Seattle                23                84499.26   \n",
       "\n",
       "       Average_Medicare_Payment  Medicare_Reimburse_Rate  \\\n",
       "20388                   7718.09                    10.60   \n",
       "38923                   1790.18                     4.32   \n",
       "47957                   9316.11                    11.16   \n",
       "49145                   8500.60                    10.06   \n",
       "\n",
       "       Avg_Rate_ByRegionDRG  drg_region_avg_ratio_rate  \\\n",
       "20388             66.952500                   0.158321   \n",
       "38923             57.246000                   0.075464   \n",
       "47957             63.690000                   0.175224   \n",
       "49145             74.853333                   0.134396   \n",
       "\n",
       "      drg_region_avg_ratio_rate_D  \n",
       "20388             (0.0745, 0.755]  \n",
       "38923             (0.0745, 0.755]  \n",
       "47957             (0.0745, 0.755]  \n",
       "49145             (0.0745, 0.755]  "
      ]
     },
     "execution_count": 46,
     "metadata": {},
     "output_type": "execute_result"
    }
   ],
   "source": [
    "data10[data10['drg_region_avg_ratio_rate']<0.2]"
   ]
  },
  {
   "cell_type": "markdown",
   "id": "591b08ef",
   "metadata": {},
   "source": [
    "There are 4 hospitals whose average Medicare payment amounts are less than 20% of the group's average. All of them are located in different regions, and providing different DRG. Therefore, they are less likely to relate to each other. All of them have very low reimbursement rates (less than 12%). The average payments of their peers, serving same ORG in the same state, are within a normal range. These 4 hospitals' low average Medicare payment amounts can not reasonably be explained, therefore, indeed abnormal. CMS can further invesitage with their transactional claims, including hospital's size and specialization, patient's demographics, type and frequency of drug usage, drug or other healthcare service's supplier, etc. It's important to consider these contextual factors when evaluating potential resource underutilization or inadequate reimbursement."
   ]
  },
  {
   "cell_type": "markdown",
   "id": "c0a50d03",
   "metadata": {},
   "source": [
    "####  3.3.3 Feature 11: The ratio to the median of average medicare payment amount (grouping by DRG & Hospital Referral Region) <a class=\"anchor\" id=\"333\"></a>"
   ]
  },
  {
   "cell_type": "markdown",
   "id": "a595d81e",
   "metadata": {},
   "source": [
    "- The defined hospital group's median of average medicare payment amount is used as benchmark for anomaly detection. \n",
    "- The ratio of each hospital to the group median is calculated as the new feature. \n",
    "- To better look at the distribution of the ratios, I cut them into different groups by percentile, and then use a histogram to visualize the distribution."
   ]
  },
  {
   "cell_type": "code",
   "execution_count": 47,
   "id": "de725287",
   "metadata": {},
   "outputs": [
    {
     "data": {
      "text/plain": [
       "[Text(0, 0, '(0.331, 0.727]'),\n",
       " Text(1, 0, '(0.727, 0.816]'),\n",
       " Text(2, 0, '(0.816, 0.915]'),\n",
       " Text(3, 0, '(0.915, 1.0]'),\n",
       " Text(4, 0, '(1.0, 1.118]'),\n",
       " Text(5, 0, '(1.118, 1.43]'),\n",
       " Text(6, 0, '(1.43, 1.773]'),\n",
       " Text(7, 0, '(1.773, 5.734]')]"
      ]
     },
     "execution_count": 47,
     "metadata": {},
     "output_type": "execute_result"
    },
    {
     "data": {
      "image/png": "[encoded data removed]",
      "text/plain": [
       "<Figure size 600x400 with 1 Axes>"
      ]
     },
     "metadata": {},
     "output_type": "display_data"
    }
   ],
   "source": [
    "# create bencharmark table\n",
    "benchmark11 = data.groupby(['Hospital_referral_region_desp','DRG'])['Average_Medicare_Payment'].median().reset_index()\n",
    "benchmark11.columns = ['Hospital_referral_region_desp','DRG','Median_Amount_ByRegionDRG']\n",
    "# add the new feature to the dataset \n",
    "data11 = pd.merge(data, benchmark11, how='left', on=['Hospital_referral_region_desp', 'DRG'])\n",
    "data11['drg_region_median_ratio_amount'] = np.where(data11['Median_Amount_ByRegionDRG']==0,0,data11['Average_Medicare_Payment'] / data11['Median_Amount_ByRegionDRG'])\n",
    "# cut by percentile for plotting\n",
    "var = 'drg_region_median_ratio_amount'\n",
    "binned_var = var + '_D'\n",
    "percentile = [0,0.01,0.05,0.2,0.5,0.8,0.95,0.99,1]\n",
    "data11[binned_var] = pd.qcut(data11[var],percentile, duplicates = 'drop')\n",
    "# Histogram of new feature\n",
    "plt.figure(figsize=(6,4))\n",
    "g = sns.countplot(x=\"drg_region_median_ratio_amount_D\", data=data11)\n",
    "g.set_xticklabels(g.get_xticklabels(), rotation=90)"
   ]
  },
  {
   "cell_type": "markdown",
   "id": "0159d1c7",
   "metadata": {},
   "source": [
    "- The distribution histogram shows most of the hospitals' median Medicare payment amounts are around the group's median, compared to the similar hospitals serving same DRG in the same hospital referral region.\n",
    "- From the above distribution histogram, we can see that some hospitals' median Medicare payment amounts can be more than 5 times of the group's median, and their frequencies are extremely low. Therefore, we should identify these hospitals as anomalies. Same diagnosis should be treated with similar treatments, which are within a similar range of prices. The extremely high reimbursement amounts may indicate potential healthcare resources abuse or fraud, including excessive or unnecessary services, upcoding, unbundling, phantom billing and kickbacks. \n",
    "- Some hospitals' median Medicare payment amounts can be less than 40% of the group's median. It could due to the coverage of other insurance programs. However, it can also indicate some potential disparities in resource utilization. For example, some services provided by those hospitals may be necessary but not covered by Medicare. It can also be indicators of problematic claims. \n",
    "- While building the unsupervised machine learning models for better detection, clustering analysis of this feature can be considered to highlight similar (specialization and size) hospitals and identify outlier hospitals for further analysis. Link analysis of this feature can help detect excessive or unnecessary services within and across hospital groups.\n",
    "- I am going to have an initial investigation on the hospitals identified as anomalies."
   ]
  },
  {
   "cell_type": "code",
   "execution_count": 48,
   "id": "29abf4a1",
   "metadata": {},
   "outputs": [
    {
     "data": {
      "text/html": [
       "<div>\n",
       "<style scoped>\n",
       "    .dataframe tbody tr th:only-of-type {\n",
       "        vertical-align: middle;\n",
       "    }\n",
       "\n",
       "    .dataframe tbody tr th {\n",
       "        vertical-align: top;\n",
       "    }\n",
       "\n",
       "    .dataframe thead th {\n",
       "        text-align: right;\n",
       "    }\n",
       "</style>\n",
       "<table border=\"1\" class=\"dataframe\">\n",
       "  <thead>\n",
       "    <tr style=\"text-align: right;\">\n",
       "      <th></th>\n",
       "      <th>DRG</th>\n",
       "      <th>Provider_Id</th>\n",
       "      <th>Provider_Name</th>\n",
       "      <th>Provider_StreetAddress</th>\n",
       "      <th>Provider_City</th>\n",
       "      <th>Provider_State</th>\n",
       "      <th>Provider_Zipcode</th>\n",
       "      <th>Hospital_referral_region_desp</th>\n",
       "      <th>Total_Discharges</th>\n",
       "      <th>Average_Total_Payments</th>\n",
       "      <th>Average_Medicare_Payment</th>\n",
       "      <th>Medicare_Reimburse_Rate</th>\n",
       "      <th>Median_Amount_ByRegionDRG</th>\n",
       "      <th>drg_region_median_ratio_amount</th>\n",
       "      <th>drg_region_median_ratio_amount_D</th>\n",
       "    </tr>\n",
       "  </thead>\n",
       "  <tbody>\n",
       "    <tr>\n",
       "      <th>37716</th>\n",
       "      <td>202 - BRONCHITIS &amp; ASTHMA W CC/MCC</td>\n",
       "      <td>210009</td>\n",
       "      <td>JOHNS HOPKINS HOSPITAL, THE</td>\n",
       "      <td>600 NORTH  WOLFE STREET</td>\n",
       "      <td>BALTIMORE</td>\n",
       "      <td>MD</td>\n",
       "      <td>21287</td>\n",
       "      <td>MD - Baltimore</td>\n",
       "      <td>17</td>\n",
       "      <td>41458.47</td>\n",
       "      <td>37236.00</td>\n",
       "      <td>89.82</td>\n",
       "      <td>6494.005</td>\n",
       "      <td>5.733904</td>\n",
       "      <td>(1.773, 5.734]</td>\n",
       "    </tr>\n",
       "    <tr>\n",
       "      <th>109462</th>\n",
       "      <td>460 - SPINAL FUSION EXCEPT CERVICAL W/O MCC</td>\n",
       "      <td>150166</td>\n",
       "      <td>PINNACLE HOSPITAL</td>\n",
       "      <td>9301 CONNECTICUT DR</td>\n",
       "      <td>CROWN POINT</td>\n",
       "      <td>IN</td>\n",
       "      <td>46307</td>\n",
       "      <td>IN - Gary</td>\n",
       "      <td>14</td>\n",
       "      <td>131187.35</td>\n",
       "      <td>130466.57</td>\n",
       "      <td>99.45</td>\n",
       "      <td>24653.735</td>\n",
       "      <td>5.291960</td>\n",
       "      <td>(1.773, 5.734]</td>\n",
       "    </tr>\n",
       "    <tr>\n",
       "      <th>111075</th>\n",
       "      <td>469 - MAJOR JOINT REPLACEMENT OR REATTACHMENT ...</td>\n",
       "      <td>390256</td>\n",
       "      <td>MILTON S HERSHEY MEDICAL CENTER</td>\n",
       "      <td>500 UNIVERSITY DRIVE</td>\n",
       "      <td>HERSHEY</td>\n",
       "      <td>PA</td>\n",
       "      <td>17033</td>\n",
       "      <td>PA - Harrisburg</td>\n",
       "      <td>15</td>\n",
       "      <td>100018.33</td>\n",
       "      <td>99114.86</td>\n",
       "      <td>99.10</td>\n",
       "      <td>18136.070</td>\n",
       "      <td>5.465068</td>\n",
       "      <td>(1.773, 5.734]</td>\n",
       "    </tr>\n",
       "  </tbody>\n",
       "</table>\n",
       "</div>"
      ],
      "text/plain": [
       "                                                      DRG Provider_Id  \\\n",
       "37716                  202 - BRONCHITIS & ASTHMA W CC/MCC      210009   \n",
       "109462        460 - SPINAL FUSION EXCEPT CERVICAL W/O MCC      150166   \n",
       "111075  469 - MAJOR JOINT REPLACEMENT OR REATTACHMENT ...      390256   \n",
       "\n",
       "                          Provider_Name   Provider_StreetAddress  \\\n",
       "37716       JOHNS HOPKINS HOSPITAL, THE  600 NORTH  WOLFE STREET   \n",
       "109462                PINNACLE HOSPITAL      9301 CONNECTICUT DR   \n",
       "111075  MILTON S HERSHEY MEDICAL CENTER     500 UNIVERSITY DRIVE   \n",
       "\n",
       "       Provider_City Provider_State  Provider_Zipcode  \\\n",
       "37716      BALTIMORE             MD             21287   \n",
       "109462   CROWN POINT             IN             46307   \n",
       "111075       HERSHEY             PA             17033   \n",
       "\n",
       "       Hospital_referral_region_desp  Total_Discharges  \\\n",
       "37716                 MD - Baltimore                17   \n",
       "109462                     IN - Gary                14   \n",
       "111075               PA - Harrisburg                15   \n",
       "\n",
       "        Average_Total_Payments  Average_Medicare_Payment  \\\n",
       "37716                 41458.47                  37236.00   \n",
       "109462               131187.35                 130466.57   \n",
       "111075               100018.33                  99114.86   \n",
       "\n",
       "        Medicare_Reimburse_Rate  Median_Amount_ByRegionDRG  \\\n",
       "37716                     89.82                   6494.005   \n",
       "109462                    99.45                  24653.735   \n",
       "111075                    99.10                  18136.070   \n",
       "\n",
       "        drg_region_median_ratio_amount drg_region_median_ratio_amount_D  \n",
       "37716                         5.733904                   (1.773, 5.734]  \n",
       "109462                        5.291960                   (1.773, 5.734]  \n",
       "111075                        5.465068                   (1.773, 5.734]  "
      ]
     },
     "execution_count": 48,
     "metadata": {},
     "output_type": "execute_result"
    }
   ],
   "source": [
    "data11[data11['drg_region_median_ratio_amount'] > 5]"
   ]
  },
  {
   "cell_type": "markdown",
   "id": "c38870b2",
   "metadata": {},
   "source": [
    "There are 3 hospitals whose median Medicare payment amounts are more than 5 times of the group's median. All of them are located in different regions, and providing different DRG. Therefore, they are less likely to relate to each other. All of them have high reimbursement rates (more than 89%). The reimbursement rates of PINNACLE HOSPITAL and MILTON S HERSHEY MEDICAL CENTERare even higher than 99%. The median payments of their peers, serving same ORG in the same region, are within a normal range. To be noted, these 3 hospitals have been identified as anomalies in other features' distribution as well. These 3 hospitals' high median Medicare payment amounts can not reasonably be explained, therefore, indeed abnormal. CMS can further invesitage with their transactional claims, including hospital's specialization and size, patient's demographics, type and frequency of drug usage, drug or other healthcare service's supplier, etc. It's important to consider these contextual factors when evaluating potential resource abuse."
   ]
  },
  {
   "cell_type": "code",
   "execution_count": 49,
   "id": "211e9ff4",
   "metadata": {},
   "outputs": [
    {
     "data": {
      "text/html": [
       "<div>\n",
       "<style scoped>\n",
       "    .dataframe tbody tr th:only-of-type {\n",
       "        vertical-align: middle;\n",
       "    }\n",
       "\n",
       "    .dataframe tbody tr th {\n",
       "        vertical-align: top;\n",
       "    }\n",
       "\n",
       "    .dataframe thead th {\n",
       "        text-align: right;\n",
       "    }\n",
       "</style>\n",
       "<table border=\"1\" class=\"dataframe\">\n",
       "  <thead>\n",
       "    <tr style=\"text-align: right;\">\n",
       "      <th></th>\n",
       "      <th>DRG</th>\n",
       "      <th>Provider_Id</th>\n",
       "      <th>Provider_Name</th>\n",
       "      <th>Provider_StreetAddress</th>\n",
       "      <th>Provider_City</th>\n",
       "      <th>Provider_State</th>\n",
       "      <th>Provider_Zipcode</th>\n",
       "      <th>Hospital_referral_region_desp</th>\n",
       "      <th>Total_Discharges</th>\n",
       "      <th>Average_Total_Payments</th>\n",
       "      <th>Average_Medicare_Payment</th>\n",
       "      <th>Medicare_Reimburse_Rate</th>\n",
       "      <th>Median_Amount_ByRegionDRG</th>\n",
       "      <th>drg_region_median_ratio_amount</th>\n",
       "      <th>drg_region_median_ratio_amount_D</th>\n",
       "    </tr>\n",
       "  </thead>\n",
       "  <tbody>\n",
       "    <tr>\n",
       "      <th>109837</th>\n",
       "      <td>460 - SPINAL FUSION EXCEPT CERVICAL W/O MCC</td>\n",
       "      <td>330286</td>\n",
       "      <td>GOOD SAMARITAN HOSPITAL MEDICAL CENTER</td>\n",
       "      <td>1000 MONTAUK HIGHWAY</td>\n",
       "      <td>WEST ISLIP</td>\n",
       "      <td>NY</td>\n",
       "      <td>11795</td>\n",
       "      <td>NY - East Long Island</td>\n",
       "      <td>12</td>\n",
       "      <td>44431.83</td>\n",
       "      <td>8993.91</td>\n",
       "      <td>20.24</td>\n",
       "      <td>27112.33</td>\n",
       "      <td>0.331728</td>\n",
       "      <td>(0.331, 0.727]</td>\n",
       "    </tr>\n",
       "    <tr>\n",
       "      <th>111962</th>\n",
       "      <td>470 - MAJOR JOINT REPLACEMENT OR REATTACHMENT ...</td>\n",
       "      <td>120011</td>\n",
       "      <td>KAISER FOUNDATION HOSPITAL</td>\n",
       "      <td>3288 MOANALUA RD</td>\n",
       "      <td>HONOLULU</td>\n",
       "      <td>HI</td>\n",
       "      <td>96819</td>\n",
       "      <td>HI - Honolulu</td>\n",
       "      <td>28</td>\n",
       "      <td>20955.35</td>\n",
       "      <td>5215.00</td>\n",
       "      <td>24.89</td>\n",
       "      <td>14085.45</td>\n",
       "      <td>0.370240</td>\n",
       "      <td>(0.331, 0.727]</td>\n",
       "    </tr>\n",
       "  </tbody>\n",
       "</table>\n",
       "</div>"
      ],
      "text/plain": [
       "                                                      DRG Provider_Id  \\\n",
       "109837        460 - SPINAL FUSION EXCEPT CERVICAL W/O MCC      330286   \n",
       "111962  470 - MAJOR JOINT REPLACEMENT OR REATTACHMENT ...      120011   \n",
       "\n",
       "                                 Provider_Name Provider_StreetAddress  \\\n",
       "109837  GOOD SAMARITAN HOSPITAL MEDICAL CENTER   1000 MONTAUK HIGHWAY   \n",
       "111962              KAISER FOUNDATION HOSPITAL       3288 MOANALUA RD   \n",
       "\n",
       "       Provider_City Provider_State  Provider_Zipcode  \\\n",
       "109837    WEST ISLIP             NY             11795   \n",
       "111962      HONOLULU             HI             96819   \n",
       "\n",
       "       Hospital_referral_region_desp  Total_Discharges  \\\n",
       "109837         NY - East Long Island                12   \n",
       "111962                 HI - Honolulu                28   \n",
       "\n",
       "        Average_Total_Payments  Average_Medicare_Payment  \\\n",
       "109837                44431.83                   8993.91   \n",
       "111962                20955.35                   5215.00   \n",
       "\n",
       "        Medicare_Reimburse_Rate  Median_Amount_ByRegionDRG  \\\n",
       "109837                    20.24                   27112.33   \n",
       "111962                    24.89                   14085.45   \n",
       "\n",
       "        drg_region_median_ratio_amount drg_region_median_ratio_amount_D  \n",
       "109837                        0.331728                   (0.331, 0.727]  \n",
       "111962                        0.370240                   (0.331, 0.727]  "
      ]
     },
     "execution_count": 49,
     "metadata": {},
     "output_type": "execute_result"
    }
   ],
   "source": [
    "data11[data11['drg_region_median_ratio_amount'] < 0.4]"
   ]
  },
  {
   "cell_type": "markdown",
   "id": "60f54f38",
   "metadata": {},
   "source": [
    "There are 2 hospitals whose median Medicare payment amounts are less than 40% of the group's median. All of them are located in different regions, and providing different DRG. Therefore, they are less likely to relate to each other. All of them have very low reimbursement rates (less than 25%). To be noted, these hospitals have been identified as anomalies in other features' distributions as well. The median payments of their peers, serving same ORG in the same state, are within a normal range. These 2 hospitals' low median Medicare payment amounts can not reasonably be explained, therefore, indeed abnormal. CMS can further invesitage with their transactional claims, including hospital's size and specialization, patient's demographics, type and frequency of drug usage, drug or other healthcare service's supplier, etc. It's important to consider these contextual factors when evaluating potential resource underutilization or inadequate reimbursement."
   ]
  },
  {
   "cell_type": "markdown",
   "id": "9024d1ea",
   "metadata": {},
   "source": [
    "####  3.3.4 Feature 12: The ratio to the median medicare reimbursement rate (grouping by DRG & Hospital Referral Region) <a class=\"anchor\" id=\"334\"></a>"
   ]
  },
  {
   "cell_type": "markdown",
   "id": "356e5c5f",
   "metadata": {},
   "source": [
    "- The defined hospital group's median of medicare reimbursement rate is used as benchmark for anomaly detection. \n",
    "- The ratio of each hospital to the median average is calculated as the new feature. \n",
    "- To better look at the distribution of the ratios, I cut them into different groups by percentile, and then use a histogram to visualize the distribution."
   ]
  },
  {
   "cell_type": "code",
   "execution_count": 50,
   "id": "a954c8c5",
   "metadata": {
    "scrolled": false
   },
   "outputs": [
    {
     "data": {
      "text/plain": [
       "[Text(0, 0, '(0.0644, 0.729]'),\n",
       " Text(1, 0, '(0.729, 0.863]'),\n",
       " Text(2, 0, '(0.863, 0.959]'),\n",
       " Text(3, 0, '(0.959, 1.0]'),\n",
       " Text(4, 0, '(1.0, 1.028]'),\n",
       " Text(5, 0, '(1.028, 1.077]'),\n",
       " Text(6, 0, '(1.077, 1.138]'),\n",
       " Text(7, 0, '(1.138, 2.053]')]"
      ]
     },
     "execution_count": 50,
     "metadata": {},
     "output_type": "execute_result"
    },
    {
     "data": {
      "image/png": "[encoded data removed]",
      "text/plain": [
       "<Figure size 600x400 with 1 Axes>"
      ]
     },
     "metadata": {},
     "output_type": "display_data"
    }
   ],
   "source": [
    "# create bencharmark table\n",
    "benchmark12 = data.groupby(['Hospital_referral_region_desp','DRG'])['Medicare_Reimburse_Rate'].median().reset_index()\n",
    "benchmark12.columns = ['Hospital_referral_region_desp','DRG','Median_Rate_ByRegionDRG']\n",
    "# add the new feature to the dataset \n",
    "data12 = pd.merge(data, benchmark12, how='left', on=['Hospital_referral_region_desp', 'DRG'])\n",
    "data12['drg_region_median_ratio_rate'] = np.where(data12['Median_Rate_ByRegionDRG']==0,0,data12['Medicare_Reimburse_Rate'] / data12['Median_Rate_ByRegionDRG'])\n",
    "# cut by percentile for plotting\n",
    "var = 'drg_region_median_ratio_rate'\n",
    "binned_var = var + '_D'\n",
    "percentile = [0,0.01,0.05,0.2,0.5,0.8,0.95,0.99,1]\n",
    "data12[binned_var] = pd.qcut(data12[var],percentile, duplicates = 'drop')\n",
    "# Histogram of new feature\n",
    "plt.figure(figsize=(6,4))\n",
    "g = sns.countplot(x=\"drg_region_median_ratio_rate_D\", data=data12)\n",
    "g.set_xticklabels(g.get_xticklabels(), rotation=90)"
   ]
  },
  {
   "cell_type": "markdown",
   "id": "f9a40cc0",
   "metadata": {},
   "source": [
    "- The distribution histogram shows most of the hospitals' median Medicare reimbursement rates are around the group's median, compared to the similar hospitals serving same DRG in the same hospital refferal region. \n",
    "- From the above distribution histogram, we can see that some hospitals' median Medicare reimbursement rates are just more than 2 times of the group's median, and their frequencies are extremely low. Therefore, we should identify these hospitals as anomalies. Same diagnosis should be treated with similar treatments, which are within the same range of reimbursement rate, according to Medicare's insurance policy. The extremely high reimbursement amounts may indicate potential healthcare resources abuse or fraud, including excessive or unnecessary services, upcoding, unbundling, phantom billing. \n",
    "- Some hospitals' median Medicare reimbursement rates can be less than 10% of the group's median. It could due to the coverage of other insurance programs. However, it can also indicate some potential disparities in resource utilization. For example, some services provided by those hospitals may be necessary but not covered by Medicare. It can also be indicators of problematic claims. \n",
    "- While building the unsupervised machine learning models for better detection, clustering analysis of this feature can be considered to highlight similar (specialization and size) hospitals and identify outlier hospitals for further analysis. Link analysis of this feature can help detect excessive or unnecessary services within and across hospital groups.\n",
    "- I am going to have an initial investigation on the hospitals identified as anomalies."
   ]
  },
  {
   "cell_type": "code",
   "execution_count": 51,
   "id": "249d0f06",
   "metadata": {},
   "outputs": [
    {
     "data": {
      "text/html": [
       "<div>\n",
       "<style scoped>\n",
       "    .dataframe tbody tr th:only-of-type {\n",
       "        vertical-align: middle;\n",
       "    }\n",
       "\n",
       "    .dataframe tbody tr th {\n",
       "        vertical-align: top;\n",
       "    }\n",
       "\n",
       "    .dataframe thead th {\n",
       "        text-align: right;\n",
       "    }\n",
       "</style>\n",
       "<table border=\"1\" class=\"dataframe\">\n",
       "  <thead>\n",
       "    <tr style=\"text-align: right;\">\n",
       "      <th></th>\n",
       "      <th>DRG</th>\n",
       "      <th>Provider_Id</th>\n",
       "      <th>Provider_Name</th>\n",
       "      <th>Provider_StreetAddress</th>\n",
       "      <th>Provider_City</th>\n",
       "      <th>Provider_State</th>\n",
       "      <th>Provider_Zipcode</th>\n",
       "      <th>Hospital_referral_region_desp</th>\n",
       "      <th>Total_Discharges</th>\n",
       "      <th>Average_Total_Payments</th>\n",
       "      <th>Average_Medicare_Payment</th>\n",
       "      <th>Medicare_Reimburse_Rate</th>\n",
       "      <th>Median_Rate_ByRegionDRG</th>\n",
       "      <th>drg_region_median_ratio_rate</th>\n",
       "      <th>drg_region_median_ratio_rate_D</th>\n",
       "    </tr>\n",
       "  </thead>\n",
       "  <tbody>\n",
       "    <tr>\n",
       "      <th>122842</th>\n",
       "      <td>563 - FX, SPRN, STRN &amp; DISL EXCEPT FEMUR, HIP,...</td>\n",
       "      <td>10036</td>\n",
       "      <td>ANDALUSIA REGIONAL HOSPITAL</td>\n",
       "      <td>849 SOUTH THREE NOTCH STREET</td>\n",
       "      <td>ANDALUSIA</td>\n",
       "      <td>AL</td>\n",
       "      <td>36420</td>\n",
       "      <td>FL - Pensacola</td>\n",
       "      <td>11</td>\n",
       "      <td>4016.0</td>\n",
       "      <td>3507.27</td>\n",
       "      <td>87.33</td>\n",
       "      <td>42.54</td>\n",
       "      <td>2.052891</td>\n",
       "      <td>(1.138, 2.053]</td>\n",
       "    </tr>\n",
       "  </tbody>\n",
       "</table>\n",
       "</div>"
      ],
      "text/plain": [
       "                                                      DRG Provider_Id  \\\n",
       "122842  563 - FX, SPRN, STRN & DISL EXCEPT FEMUR, HIP,...       10036   \n",
       "\n",
       "                      Provider_Name        Provider_StreetAddress  \\\n",
       "122842  ANDALUSIA REGIONAL HOSPITAL  849 SOUTH THREE NOTCH STREET   \n",
       "\n",
       "       Provider_City Provider_State  Provider_Zipcode  \\\n",
       "122842     ANDALUSIA             AL             36420   \n",
       "\n",
       "       Hospital_referral_region_desp  Total_Discharges  \\\n",
       "122842                FL - Pensacola                11   \n",
       "\n",
       "        Average_Total_Payments  Average_Medicare_Payment  \\\n",
       "122842                  4016.0                   3507.27   \n",
       "\n",
       "        Medicare_Reimburse_Rate  Median_Rate_ByRegionDRG  \\\n",
       "122842                    87.33                    42.54   \n",
       "\n",
       "        drg_region_median_ratio_rate drg_region_median_ratio_rate_D  \n",
       "122842                      2.052891                 (1.138, 2.053]  "
      ]
     },
     "execution_count": 51,
     "metadata": {},
     "output_type": "execute_result"
    }
   ],
   "source": [
    "data12[data12['drg_region_median_ratio_rate']>2]"
   ]
  },
  {
   "cell_type": "markdown",
   "id": "ef876998",
   "metadata": {},
   "source": [
    "There is 1 hospital whose median Medicare reimbursement rates are more than 2 times of the group's median. This hospital's median reimbursement rate (87%) is closed to the national average, while the median (42.54%) of its peers, serving same ORG in the same region, is much lower than the national average. It could be caused by the low standard reimbursement rate of this DRG catogory, or the hospital's resourses abuse. Although we can not decided whether it's an anomaly, CMS should still further invesitage with their transactional claims, including hospital's specialization and size, patient's demographics, type and frequency of drug usage, drug or other healthcare service's supplier, etc. It's important to consider these contextual factors when conducting evaluation."
   ]
  },
  {
   "cell_type": "code",
   "execution_count": 52,
   "id": "6af60d73",
   "metadata": {},
   "outputs": [
    {
     "data": {
      "text/html": [
       "<div>\n",
       "<style scoped>\n",
       "    .dataframe tbody tr th:only-of-type {\n",
       "        vertical-align: middle;\n",
       "    }\n",
       "\n",
       "    .dataframe tbody tr th {\n",
       "        vertical-align: top;\n",
       "    }\n",
       "\n",
       "    .dataframe thead th {\n",
       "        text-align: right;\n",
       "    }\n",
       "</style>\n",
       "<table border=\"1\" class=\"dataframe\">\n",
       "  <thead>\n",
       "    <tr style=\"text-align: right;\">\n",
       "      <th></th>\n",
       "      <th>DRG</th>\n",
       "      <th>Provider_Id</th>\n",
       "      <th>Provider_Name</th>\n",
       "      <th>Provider_StreetAddress</th>\n",
       "      <th>Provider_City</th>\n",
       "      <th>Provider_State</th>\n",
       "      <th>Provider_Zipcode</th>\n",
       "      <th>Hospital_referral_region_desp</th>\n",
       "      <th>Total_Discharges</th>\n",
       "      <th>Average_Total_Payments</th>\n",
       "      <th>Average_Medicare_Payment</th>\n",
       "      <th>Medicare_Reimburse_Rate</th>\n",
       "      <th>Median_Rate_ByRegionDRG</th>\n",
       "      <th>drg_region_median_ratio_rate</th>\n",
       "      <th>drg_region_median_ratio_rate_D</th>\n",
       "    </tr>\n",
       "  </thead>\n",
       "  <tbody>\n",
       "    <tr>\n",
       "      <th>38923</th>\n",
       "      <td>203 - BRONCHITIS &amp; ASTHMA W/O CC/MCC</td>\n",
       "      <td>220008</td>\n",
       "      <td>STURDY MEMORIAL HOSPITAL</td>\n",
       "      <td>211 PARK STREET</td>\n",
       "      <td>ATTLEBORO</td>\n",
       "      <td>MA</td>\n",
       "      <td>2703</td>\n",
       "      <td>RI - Providence</td>\n",
       "      <td>11</td>\n",
       "      <td>41482.09</td>\n",
       "      <td>1790.18</td>\n",
       "      <td>4.32</td>\n",
       "      <td>66.05</td>\n",
       "      <td>0.065405</td>\n",
       "      <td>(0.0644, 0.729]</td>\n",
       "    </tr>\n",
       "  </tbody>\n",
       "</table>\n",
       "</div>"
      ],
      "text/plain": [
       "                                        DRG Provider_Id  \\\n",
       "38923  203 - BRONCHITIS & ASTHMA W/O CC/MCC      220008   \n",
       "\n",
       "                  Provider_Name Provider_StreetAddress Provider_City  \\\n",
       "38923  STURDY MEMORIAL HOSPITAL        211 PARK STREET     ATTLEBORO   \n",
       "\n",
       "      Provider_State  Provider_Zipcode Hospital_referral_region_desp  \\\n",
       "38923             MA              2703               RI - Providence   \n",
       "\n",
       "       Total_Discharges  Average_Total_Payments  Average_Medicare_Payment  \\\n",
       "38923                11                41482.09                   1790.18   \n",
       "\n",
       "       Medicare_Reimburse_Rate  Median_Rate_ByRegionDRG  \\\n",
       "38923                     4.32                    66.05   \n",
       "\n",
       "       drg_region_median_ratio_rate drg_region_median_ratio_rate_D  \n",
       "38923                      0.065405                (0.0644, 0.729]  "
      ]
     },
     "execution_count": 52,
     "metadata": {},
     "output_type": "execute_result"
    }
   ],
   "source": [
    "data12[data12['drg_region_median_ratio_rate']<0.1]"
   ]
  },
  {
   "cell_type": "markdown",
   "id": "5f524ee0",
   "metadata": {},
   "source": [
    "There is 1 hospital whose average Medicare reimbursement rate is less than 10% of the group's average. Its reimbursement rate is very low, even less than 5%. The median reimbursement rates of their peers, serving same ORG in the same state, are within a normal range. This hospital's low median Medicare reimbursement rate can not reasonably explained, therefore, indeed abnormal. CMS can further invesitage with their transactional claims, including hospital's size and specialization, patient's demographics, type and frequency of drug usage, drug or other healthcare service's supplier, etc. It's important to consider these contextual factors when evaluating potential resource underutilization or inadequate reimbursement."
   ]
  },
  {
   "cell_type": "markdown",
   "id": "5c5876d2",
   "metadata": {},
   "source": [
    "## Section 4 Conclusion <a class=\"anchor\" id=\"4\"></a>"
   ]
  },
  {
   "cell_type": "markdown",
   "id": "e059dd16",
   "metadata": {},
   "source": [
    "To conclude the above analyses of EDA and FE:\n",
    "- The national distributions can demostrate the normal range of average Medicare payment amount and average Medicare reimbursement rate for general comparison. \n",
    "- Features are created based on different levels of grouping. We can capture the reimbursement pattern of defined hospital group. \n",
    "- The outliers and anomalies detected from these hospital group should be investigated with more contextual information (eg. transactional claims, hospital's specialization and size, patient's demographics, type and frequency of drug usage, drug or other healthcare service's supplier). \n",
    "- There are some hospitals identified as anomalies in multiple features' distributions. They should be deeply investigated.\n",
    "- We can cross check multiple features for a certain hospital, to evaluate whether it can be reasonably exlpained.\n",
    "- Features created above can be used in unsupervised models like cluster analysis, link analysis and network analysis."
   ]
  },
  {
   "cell_type": "markdown",
   "id": "bb693aa8",
   "metadata": {},
   "source": [
    "###  4.1 Combine New Features to Dataset <a class=\"anchor\" id=\"41\"></a>"
   ]
  },
  {
   "cell_type": "code",
   "execution_count": 53,
   "id": "3925f173",
   "metadata": {},
   "outputs": [],
   "source": [
    "# Combine new features to the origininal dataset\n",
    "data['drg_state_avg_ratio_amount'] = data1['drg_state_avg_ratio_amount']\n",
    "data['drg_state_avg_ratio_rate'] = data2['drg_state_avg_ratio_rate']\n",
    "data['drg_state_median_ratio_amount'] = data3['drg_state_median_ratio_amount']\n",
    "data['drg_state_median_ratio_rate'] = data4['drg_state_median_ratio_rate']\n",
    "data['drg_city_avg_ratio_amount'] = data5['drg_city_avg_ratio_amount']\n",
    "data['drg_city_avg_ratio_rate'] = data6['drg_city_avg_ratio_rate']\n",
    "data['drg_city_median_ratio_amount'] = data7['drg_city_median_ratio_amount']\n",
    "data['drg_city_median_ratio_rate'] = data8['drg_city_median_ratio_rate']\n",
    "data['drg_region_avg_ratio_amount'] = data9['drg_region_avg_ratio_amount']\n",
    "data['drg_region_avg_ratio_rate'] = data10['drg_region_avg_ratio_rate']\n",
    "data['drg_region_median_ratio_amount'] = data11['drg_region_median_ratio_amount']\n",
    "data['drg_region_median_ratio_rate'] = data12['drg_region_median_ratio_rate']\n",
    "data.to_csv('inpatientCharges_fe.csv', index=False)"
   ]
  },
  {
   "cell_type": "code",
   "execution_count": 54,
   "id": "e7c3aa84",
   "metadata": {
    "scrolled": false
   },
   "outputs": [
    {
     "name": "stdout",
     "output_type": "stream",
     "text": [
      "<class 'pandas.core.frame.DataFrame'>\n",
      "RangeIndex: 163065 entries, 0 to 163064\n",
      "Data columns (total 24 columns):\n",
      " #   Column                          Non-Null Count   Dtype   \n",
      "---  ------                          --------------   -----   \n",
      " 0   DRG                             163065 non-null  category\n",
      " 1   Provider_Id                     163065 non-null  category\n",
      " 2   Provider_Name                   163065 non-null  object  \n",
      " 3   Provider_StreetAddress          163065 non-null  object  \n",
      " 4   Provider_City                   163065 non-null  category\n",
      " 5   Provider_State                  163065 non-null  category\n",
      " 6   Provider_Zipcode                163065 non-null  int64   \n",
      " 7   Hospital_referral_region_desp   163065 non-null  object  \n",
      " 8   Total_Discharges                163065 non-null  int64   \n",
      " 9   Average_Total_Payments          163065 non-null  float64 \n",
      " 10  Average_Medicare_Payment        163065 non-null  float64 \n",
      " 11  Medicare_Reimburse_Rate         163065 non-null  float64 \n",
      " 12  drg_state_avg_ratio_amount      163065 non-null  float64 \n",
      " 13  drg_state_avg_ratio_rate        163065 non-null  float64 \n",
      " 14  drg_state_median_ratio_amount   163065 non-null  float64 \n",
      " 15  drg_state_median_ratio_rate     163065 non-null  float64 \n",
      " 16  drg_city_avg_ratio_amount       163065 non-null  float64 \n",
      " 17  drg_city_avg_ratio_rate         163065 non-null  float64 \n",
      " 18  drg_city_median_ratio_amount    163065 non-null  float64 \n",
      " 19  drg_city_median_ratio_rate      163065 non-null  float64 \n",
      " 20  drg_region_avg_ratio_amount     163065 non-null  float64 \n",
      " 21  drg_region_avg_ratio_rate       163065 non-null  float64 \n",
      " 22  drg_region_median_ratio_amount  163065 non-null  float64 \n",
      " 23  drg_region_median_ratio_rate    163065 non-null  float64 \n",
      "dtypes: category(4), float64(15), int64(2), object(3)\n",
      "memory usage: 26.1+ MB\n"
     ]
    }
   ],
   "source": [
    "# Check the data structure\n",
    "data.info()"
   ]
  },
  {
   "cell_type": "code",
   "execution_count": 55,
   "id": "ef44b839",
   "metadata": {
    "scrolled": true
   },
   "outputs": [
    {
     "data": {
      "text/html": [
       "<div>\n",
       "<style scoped>\n",
       "    .dataframe tbody tr th:only-of-type {\n",
       "        vertical-align: middle;\n",
       "    }\n",
       "\n",
       "    .dataframe tbody tr th {\n",
       "        vertical-align: top;\n",
       "    }\n",
       "\n",
       "    .dataframe thead th {\n",
       "        text-align: right;\n",
       "    }\n",
       "</style>\n",
       "<table border=\"1\" class=\"dataframe\">\n",
       "  <thead>\n",
       "    <tr style=\"text-align: right;\">\n",
       "      <th></th>\n",
       "      <th>Provider_Zipcode</th>\n",
       "      <th>Total_Discharges</th>\n",
       "      <th>Average_Total_Payments</th>\n",
       "      <th>Average_Medicare_Payment</th>\n",
       "      <th>Medicare_Reimburse_Rate</th>\n",
       "      <th>drg_state_avg_ratio_amount</th>\n",
       "      <th>drg_state_avg_ratio_rate</th>\n",
       "      <th>drg_state_median_ratio_amount</th>\n",
       "      <th>drg_state_median_ratio_rate</th>\n",
       "      <th>drg_city_avg_ratio_amount</th>\n",
       "      <th>drg_city_avg_ratio_rate</th>\n",
       "      <th>drg_city_median_ratio_amount</th>\n",
       "      <th>drg_city_median_ratio_rate</th>\n",
       "      <th>drg_region_avg_ratio_amount</th>\n",
       "      <th>drg_region_avg_ratio_rate</th>\n",
       "      <th>drg_region_median_ratio_amount</th>\n",
       "      <th>drg_region_median_ratio_rate</th>\n",
       "    </tr>\n",
       "  </thead>\n",
       "  <tbody>\n",
       "    <tr>\n",
       "      <th>count</th>\n",
       "      <td>163065.000000</td>\n",
       "      <td>163065.000000</td>\n",
       "      <td>163065.000000</td>\n",
       "      <td>163065.000000</td>\n",
       "      <td>163065.000000</td>\n",
       "      <td>163065.000000</td>\n",
       "      <td>163065.000000</td>\n",
       "      <td>163065.000000</td>\n",
       "      <td>163065.000000</td>\n",
       "      <td>163065.000000</td>\n",
       "      <td>163065.000000</td>\n",
       "      <td>163065.000000</td>\n",
       "      <td>163065.000000</td>\n",
       "      <td>163065.000000</td>\n",
       "      <td>163065.000000</td>\n",
       "      <td>163065.000000</td>\n",
       "      <td>163065.000000</td>\n",
       "    </tr>\n",
       "    <tr>\n",
       "      <th>mean</th>\n",
       "      <td>47938.121908</td>\n",
       "      <td>42.776304</td>\n",
       "      <td>9707.473804</td>\n",
       "      <td>8494.490964</td>\n",
       "      <td>84.654478</td>\n",
       "      <td>0.846842</td>\n",
       "      <td>1.000000</td>\n",
       "      <td>1.055484</td>\n",
       "      <td>0.985465</td>\n",
       "      <td>1.000000</td>\n",
       "      <td>1.000000</td>\n",
       "      <td>1.012910</td>\n",
       "      <td>0.996948</td>\n",
       "      <td>1.000000</td>\n",
       "      <td>1.000000</td>\n",
       "      <td>1.038494</td>\n",
       "      <td>0.989270</td>\n",
       "    </tr>\n",
       "    <tr>\n",
       "      <th>std</th>\n",
       "      <td>27854.323080</td>\n",
       "      <td>51.104042</td>\n",
       "      <td>7664.642598</td>\n",
       "      <td>7309.467261</td>\n",
       "      <td>8.791137</td>\n",
       "      <td>0.193528</td>\n",
       "      <td>0.076404</td>\n",
       "      <td>0.234139</td>\n",
       "      <td>0.075892</td>\n",
       "      <td>0.119402</td>\n",
       "      <td>0.047966</td>\n",
       "      <td>0.133973</td>\n",
       "      <td>0.048960</td>\n",
       "      <td>0.175920</td>\n",
       "      <td>0.070109</td>\n",
       "      <td>0.196388</td>\n",
       "      <td>0.070707</td>\n",
       "    </tr>\n",
       "    <tr>\n",
       "      <th>min</th>\n",
       "      <td>1040.000000</td>\n",
       "      <td>11.000000</td>\n",
       "      <td>2673.000000</td>\n",
       "      <td>1148.900000</td>\n",
       "      <td>4.320000</td>\n",
       "      <td>0.266055</td>\n",
       "      <td>0.057806</td>\n",
       "      <td>0.367836</td>\n",
       "      <td>0.056353</td>\n",
       "      <td>0.261737</td>\n",
       "      <td>0.214423</td>\n",
       "      <td>0.261737</td>\n",
       "      <td>0.214423</td>\n",
       "      <td>0.339831</td>\n",
       "      <td>0.075464</td>\n",
       "      <td>0.331728</td>\n",
       "      <td>0.065405</td>\n",
       "    </tr>\n",
       "    <tr>\n",
       "      <th>25%</th>\n",
       "      <td>27261.000000</td>\n",
       "      <td>17.000000</td>\n",
       "      <td>5234.500000</td>\n",
       "      <td>4192.350000</td>\n",
       "      <td>79.660000</td>\n",
       "      <td>0.725021</td>\n",
       "      <td>0.973331</td>\n",
       "      <td>0.916191</td>\n",
       "      <td>0.962159</td>\n",
       "      <td>0.979755</td>\n",
       "      <td>1.000000</td>\n",
       "      <td>1.000000</td>\n",
       "      <td>1.000000</td>\n",
       "      <td>0.893506</td>\n",
       "      <td>0.975883</td>\n",
       "      <td>0.935187</td>\n",
       "      <td>0.971253</td>\n",
       "    </tr>\n",
       "    <tr>\n",
       "      <th>50%</th>\n",
       "      <td>44309.000000</td>\n",
       "      <td>27.000000</td>\n",
       "      <td>7214.100000</td>\n",
       "      <td>6158.460000</td>\n",
       "      <td>86.020000</td>\n",
       "      <td>0.808729</td>\n",
       "      <td>1.012884</td>\n",
       "      <td>1.000000</td>\n",
       "      <td>1.000000</td>\n",
       "      <td>1.000000</td>\n",
       "      <td>1.000000</td>\n",
       "      <td>1.000000</td>\n",
       "      <td>1.000000</td>\n",
       "      <td>0.976954</td>\n",
       "      <td>1.006240</td>\n",
       "      <td>1.000000</td>\n",
       "      <td>1.000000</td>\n",
       "    </tr>\n",
       "    <tr>\n",
       "      <th>75%</th>\n",
       "      <td>72901.000000</td>\n",
       "      <td>49.000000</td>\n",
       "      <td>11286.400000</td>\n",
       "      <td>10056.880000</td>\n",
       "      <td>91.350000</td>\n",
       "      <td>0.917944</td>\n",
       "      <td>1.041884</td>\n",
       "      <td>1.121178</td>\n",
       "      <td>1.024671</td>\n",
       "      <td>1.000000</td>\n",
       "      <td>1.004751</td>\n",
       "      <td>1.000000</td>\n",
       "      <td>1.000000</td>\n",
       "      <td>1.063344</td>\n",
       "      <td>1.035999</td>\n",
       "      <td>1.082952</td>\n",
       "      <td>1.020547</td>\n",
       "    </tr>\n",
       "    <tr>\n",
       "      <th>max</th>\n",
       "      <td>99835.000000</td>\n",
       "      <td>3383.000000</td>\n",
       "      <td>156158.180000</td>\n",
       "      <td>154620.810000</td>\n",
       "      <td>100.000000</td>\n",
       "      <td>4.446219</td>\n",
       "      <td>1.381825</td>\n",
       "      <td>6.030981</td>\n",
       "      <td>1.431109</td>\n",
       "      <td>3.846861</td>\n",
       "      <td>1.785577</td>\n",
       "      <td>5.733904</td>\n",
       "      <td>1.869858</td>\n",
       "      <td>4.516504</td>\n",
       "      <td>1.653623</td>\n",
       "      <td>5.733904</td>\n",
       "      <td>2.052891</td>\n",
       "    </tr>\n",
       "  </tbody>\n",
       "</table>\n",
       "</div>"
      ],
      "text/plain": [
       "       Provider_Zipcode  Total_Discharges  Average_Total_Payments  \\\n",
       "count     163065.000000     163065.000000           163065.000000   \n",
       "mean       47938.121908         42.776304             9707.473804   \n",
       "std        27854.323080         51.104042             7664.642598   \n",
       "min         1040.000000         11.000000             2673.000000   \n",
       "25%        27261.000000         17.000000             5234.500000   \n",
       "50%        44309.000000         27.000000             7214.100000   \n",
       "75%        72901.000000         49.000000            11286.400000   \n",
       "max        99835.000000       3383.000000           156158.180000   \n",
       "\n",
       "       Average_Medicare_Payment  Medicare_Reimburse_Rate  \\\n",
       "count             163065.000000            163065.000000   \n",
       "mean                8494.490964                84.654478   \n",
       "std                 7309.467261                 8.791137   \n",
       "min                 1148.900000                 4.320000   \n",
       "25%                 4192.350000                79.660000   \n",
       "50%                 6158.460000                86.020000   \n",
       "75%                10056.880000                91.350000   \n",
       "max               154620.810000               100.000000   \n",
       "\n",
       "       drg_state_avg_ratio_amount  drg_state_avg_ratio_rate  \\\n",
       "count               163065.000000             163065.000000   \n",
       "mean                     0.846842                  1.000000   \n",
       "std                      0.193528                  0.076404   \n",
       "min                      0.266055                  0.057806   \n",
       "25%                      0.725021                  0.973331   \n",
       "50%                      0.808729                  1.012884   \n",
       "75%                      0.917944                  1.041884   \n",
       "max                      4.446219                  1.381825   \n",
       "\n",
       "       drg_state_median_ratio_amount  drg_state_median_ratio_rate  \\\n",
       "count                  163065.000000                163065.000000   \n",
       "mean                        1.055484                     0.985465   \n",
       "std                         0.234139                     0.075892   \n",
       "min                         0.367836                     0.056353   \n",
       "25%                         0.916191                     0.962159   \n",
       "50%                         1.000000                     1.000000   \n",
       "75%                         1.121178                     1.024671   \n",
       "max                         6.030981                     1.431109   \n",
       "\n",
       "       drg_city_avg_ratio_amount  drg_city_avg_ratio_rate  \\\n",
       "count              163065.000000            163065.000000   \n",
       "mean                    1.000000                 1.000000   \n",
       "std                     0.119402                 0.047966   \n",
       "min                     0.261737                 0.214423   \n",
       "25%                     0.979755                 1.000000   \n",
       "50%                     1.000000                 1.000000   \n",
       "75%                     1.000000                 1.004751   \n",
       "max                     3.846861                 1.785577   \n",
       "\n",
       "       drg_city_median_ratio_amount  drg_city_median_ratio_rate  \\\n",
       "count                 163065.000000               163065.000000   \n",
       "mean                       1.012910                    0.996948   \n",
       "std                        0.133973                    0.048960   \n",
       "min                        0.261737                    0.214423   \n",
       "25%                        1.000000                    1.000000   \n",
       "50%                        1.000000                    1.000000   \n",
       "75%                        1.000000                    1.000000   \n",
       "max                        5.733904                    1.869858   \n",
       "\n",
       "       drg_region_avg_ratio_amount  drg_region_avg_ratio_rate  \\\n",
       "count                163065.000000              163065.000000   \n",
       "mean                      1.000000                   1.000000   \n",
       "std                       0.175920                   0.070109   \n",
       "min                       0.339831                   0.075464   \n",
       "25%                       0.893506                   0.975883   \n",
       "50%                       0.976954                   1.006240   \n",
       "75%                       1.063344                   1.035999   \n",
       "max                       4.516504                   1.653623   \n",
       "\n",
       "       drg_region_median_ratio_amount  drg_region_median_ratio_rate  \n",
       "count                   163065.000000                 163065.000000  \n",
       "mean                         1.038494                      0.989270  \n",
       "std                          0.196388                      0.070707  \n",
       "min                          0.331728                      0.065405  \n",
       "25%                          0.935187                      0.971253  \n",
       "50%                          1.000000                      1.000000  \n",
       "75%                          1.082952                      1.020547  \n",
       "max                          5.733904                      2.052891  "
      ]
     },
     "execution_count": 55,
     "metadata": {},
     "output_type": "execute_result"
    }
   ],
   "source": [
    "# Get the Simple Summary Statistics \n",
    "data.describe()"
   ]
  }
 ],
 "metadata": {
  "kernelspec": {
   "display_name": "Python 3 (ipykernel)",
   "language": "python",
   "name": "python3"
  },
  "language_info": {
   "codemirror_mode": {
    "name": "ipython",
    "version": 3
   },
   "file_extension": ".py",
   "mimetype": "text/x-python",
   "name": "python",
   "nbconvert_exporter": "python",
   "pygments_lexer": "ipython3",
   "version": "3.9.13"
  }
 },
 "nbformat": 4,
 "nbformat_minor": 5
}
